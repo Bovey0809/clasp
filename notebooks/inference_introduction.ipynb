{
 "cells": [
  {
   "cell_type": "markdown",
   "id": "acute-bargain",
   "metadata": {},
   "source": [
    "# Setup"
   ]
  },
  {
   "cell_type": "code",
   "execution_count": 1,
   "id": "included-sharing",
   "metadata": {
    "ExecuteTime": {
     "end_time": "2021-07-18T18:21:28.300857Z",
     "start_time": "2021-07-18T18:21:27.718758Z"
    }
   },
   "outputs": [],
   "source": [
    "import torch\n",
    "from torch import einsum\n",
    "from torch.utils.data import Dataset, DataLoader\n",
    "import torch.nn.functional as F\n",
    "from clasp import CLASP, Transformer, tokenize, basic_rand_sampler, basic_aa_tokenizer, CLASPDataset\n",
    "from functools import partial\n",
    "from collections import OrderedDict\n",
    "import requests\n",
    "import matplotlib.pyplot as plt"
   ]
  },
  {
   "cell_type": "markdown",
   "id": "decent-curtis",
   "metadata": {},
   "source": [
    "# Instantiate model"
   ]
  },
  {
   "cell_type": "code",
   "execution_count": 2,
   "id": "wrong-delight",
   "metadata": {
    "ExecuteTime": {
     "end_time": "2021-07-18T18:21:29.790461Z",
     "start_time": "2021-07-18T18:21:28.302030Z"
    }
   },
   "outputs": [],
   "source": [
    "text_enc = Transformer(\n",
    "    num_tokens = 49408,\n",
    "    dim = 768,\n",
    "    depth = 12,\n",
    "    seq_len = 1024,\n",
    "    reversible=True\n",
    ")\n",
    "\n",
    "bioseq_enc = Transformer(\n",
    "    num_tokens = 23,\n",
    "    dim = 768,\n",
    "    depth = 12,\n",
    "    seq_len = 512,\n",
    "    sparse_attn = False,\n",
    "    reversible=True\n",
    ")\n",
    "\n",
    "model = CLASP(\n",
    "    text_encoder = text_enc,\n",
    "    bioseq_encoder = bioseq_enc\n",
    ")"
   ]
  },
  {
   "cell_type": "markdown",
   "id": "5b49e570",
   "metadata": {
    "ExecuteTime": {
     "end_time": "2021-07-18T17:58:22.832500Z",
     "start_time": "2021-07-18T17:58:22.586465Z"
    }
   },
   "source": [
    "Download the weights from Google Drive via https://drive.google.com/file/d/1f7Glzw6RthozU3vH1i18xhuXa5FIYl77/view?usp=sharing and update the path to the weights if necessary."
   ]
  },
  {
   "cell_type": "code",
   "execution_count": 3,
   "id": "legitimate-hotel",
   "metadata": {
    "ExecuteTime": {
     "end_time": "2021-07-18T18:21:29.793496Z",
     "start_time": "2021-07-18T18:21:29.791706Z"
    }
   },
   "outputs": [],
   "source": [
    "path_weights = \"run48_2021-07-18_13_31_19_step00005000.pt\""
   ]
  },
  {
   "cell_type": "code",
   "execution_count": 4,
   "id": "588366bf",
   "metadata": {
    "ExecuteTime": {
     "end_time": "2021-07-18T18:21:30.596872Z",
     "start_time": "2021-07-18T18:21:30.253611Z"
    }
   },
   "outputs": [],
   "source": [
    "ckpt = torch.load(path_weights, map_location=\"cpu\")"
   ]
  },
  {
   "cell_type": "code",
   "execution_count": 5,
   "id": "2c54e325",
   "metadata": {
    "ExecuteTime": {
     "end_time": "2021-07-18T18:21:31.377761Z",
     "start_time": "2021-07-18T18:21:31.100437Z"
    }
   },
   "outputs": [
    {
     "data": {
      "text/plain": [
       "<All keys matched successfully>"
      ]
     },
     "execution_count": 5,
     "metadata": {},
     "output_type": "execute_result"
    }
   ],
   "source": [
    "model.load_state_dict(ckpt)"
   ]
  },
  {
   "cell_type": "code",
   "execution_count": 6,
   "id": "f55c1c34",
   "metadata": {
    "ExecuteTime": {
     "end_time": "2021-07-18T18:21:31.382744Z",
     "start_time": "2021-07-18T18:21:31.378871Z"
    }
   },
   "outputs": [],
   "source": [
    "model.eval();"
   ]
  },
  {
   "cell_type": "code",
   "execution_count": 7,
   "id": "compact-charity",
   "metadata": {
    "ExecuteTime": {
     "end_time": "2021-07-18T18:21:31.626980Z",
     "start_time": "2021-07-18T18:21:31.622137Z"
    }
   },
   "outputs": [],
   "source": [
    "# if you wanto to run it on GPU\n",
    "#device = torch.device(\"cuda:0\")\n",
    "#model.to(device)"
   ]
  },
  {
   "cell_type": "markdown",
   "id": "efficient-candle",
   "metadata": {},
   "source": [
    "# Tokenizer setup"
   ]
  },
  {
   "cell_type": "code",
   "execution_count": 8,
   "id": "twenty-junction",
   "metadata": {
    "ExecuteTime": {
     "end_time": "2021-07-18T18:21:32.021203Z",
     "start_time": "2021-07-18T18:21:32.015745Z"
    }
   },
   "outputs": [],
   "source": [
    "text_sampler = partial(basic_rand_sampler, sample_len=1024)\n",
    "text_tok = partial(tokenize, context_length=1024, return_mask=True)\n",
    "\n",
    "bioseq_sampler = partial(basic_rand_sampler, sample_len=512)\n",
    "bioseq_tok = partial(basic_aa_tokenizer, context_length=512, return_mask=True)"
   ]
  },
  {
   "cell_type": "markdown",
   "id": "boxed-trailer",
   "metadata": {},
   "source": [
    "# Data setup single example"
   ]
  },
  {
   "cell_type": "markdown",
   "id": "orange-queue",
   "metadata": {},
   "source": [
    "## Text"
   ]
  },
  {
   "cell_type": "code",
   "execution_count": 9,
   "id": "interracial-strain",
   "metadata": {
    "ExecuteTime": {
     "end_time": "2021-07-18T18:21:32.594145Z",
     "start_time": "2021-07-18T18:21:32.582874Z"
    }
   },
   "outputs": [
    {
     "data": {
      "text/plain": [
       "(tensor([[8088,  682,  533,  ...,    0,    0,    0]]),\n",
       " tensor([[ True,  True,  True,  ..., False, False, False]]))"
      ]
     },
     "execution_count": 9,
     "metadata": {},
     "output_type": "execute_result"
    }
   ],
   "source": [
    "text_orig = \"protein that is present in the blood\"\n",
    "text, text_mask = text_tok(text_orig)\n",
    "text, text_mask"
   ]
  },
  {
   "cell_type": "code",
   "execution_count": 10,
   "id": "extended-cheese",
   "metadata": {
    "ExecuteTime": {
     "end_time": "2021-07-18T18:21:34.165308Z",
     "start_time": "2021-07-18T18:21:32.775610Z"
    }
   },
   "outputs": [
    {
     "data": {
      "text/plain": [
       "torch.Size([1, 768])"
      ]
     },
     "execution_count": 10,
     "metadata": {},
     "output_type": "execute_result"
    }
   ],
   "source": [
    "model.text_encoder(text, mask=text_mask).shape"
   ]
  },
  {
   "cell_type": "markdown",
   "id": "electrical-vinyl",
   "metadata": {},
   "source": [
    "## Bioseq"
   ]
  },
  {
   "cell_type": "code",
   "execution_count": 11,
   "id": "clinical-pleasure",
   "metadata": {
    "ExecuteTime": {
     "end_time": "2021-07-18T18:21:34.174132Z",
     "start_time": "2021-07-18T18:21:34.166421Z"
    }
   },
   "outputs": [
    {
     "data": {
      "text/plain": [
       "(tensor([22, 22,  1,  2,  3,  4,  5,  6,  7,  0,  0,  0,  0,  0,  0,  0,  0,  0,\n",
       "          0,  0,  0,  0,  0,  0,  0,  0,  0,  0,  0,  0,  0,  0,  0,  0,  0,  0,\n",
       "          0,  0,  0,  0,  0,  0,  0,  0,  0,  0,  0,  0,  0,  0,  0,  0,  0,  0,\n",
       "          0,  0,  0,  0,  0,  0,  0,  0,  0,  0,  0,  0,  0,  0,  0,  0,  0,  0,\n",
       "          0,  0,  0,  0,  0,  0,  0,  0,  0,  0,  0,  0,  0,  0,  0,  0,  0,  0,\n",
       "          0,  0,  0,  0,  0,  0,  0,  0,  0,  0,  0,  0,  0,  0,  0,  0,  0,  0,\n",
       "          0,  0,  0,  0,  0,  0,  0,  0,  0,  0,  0,  0,  0,  0,  0,  0,  0,  0,\n",
       "          0,  0,  0,  0,  0,  0,  0,  0,  0,  0,  0,  0,  0,  0,  0,  0,  0,  0,\n",
       "          0,  0,  0,  0,  0,  0,  0,  0,  0,  0,  0,  0,  0,  0,  0,  0,  0,  0,\n",
       "          0,  0,  0,  0,  0,  0,  0,  0,  0,  0,  0,  0,  0,  0,  0,  0,  0,  0,\n",
       "          0,  0,  0,  0,  0,  0,  0,  0,  0,  0,  0,  0,  0,  0,  0,  0,  0,  0,\n",
       "          0,  0,  0,  0,  0,  0,  0,  0,  0,  0,  0,  0,  0,  0,  0,  0,  0,  0,\n",
       "          0,  0,  0,  0,  0,  0,  0,  0,  0,  0,  0,  0,  0,  0,  0,  0,  0,  0,\n",
       "          0,  0,  0,  0,  0,  0,  0,  0,  0,  0,  0,  0,  0,  0,  0,  0,  0,  0,\n",
       "          0,  0,  0,  0,  0,  0,  0,  0,  0,  0,  0,  0,  0,  0,  0,  0,  0,  0,\n",
       "          0,  0,  0,  0,  0,  0,  0,  0,  0,  0,  0,  0,  0,  0,  0,  0,  0,  0,\n",
       "          0,  0,  0,  0,  0,  0,  0,  0,  0,  0,  0,  0,  0,  0,  0,  0,  0,  0,\n",
       "          0,  0,  0,  0,  0,  0,  0,  0,  0,  0,  0,  0,  0,  0,  0,  0,  0,  0,\n",
       "          0,  0,  0,  0,  0,  0,  0,  0,  0,  0,  0,  0,  0,  0,  0,  0,  0,  0,\n",
       "          0,  0,  0,  0,  0,  0,  0,  0,  0,  0,  0,  0,  0,  0,  0,  0,  0,  0,\n",
       "          0,  0,  0,  0,  0,  0,  0,  0,  0,  0,  0,  0,  0,  0,  0,  0,  0,  0,\n",
       "          0,  0,  0,  0,  0,  0,  0,  0,  0,  0,  0,  0,  0,  0,  0,  0,  0,  0,\n",
       "          0,  0,  0,  0,  0,  0,  0,  0,  0,  0,  0,  0,  0,  0,  0,  0,  0,  0,\n",
       "          0,  0,  0,  0,  0,  0,  0,  0,  0,  0,  0,  0,  0,  0,  0,  0,  0,  0,\n",
       "          0,  0,  0,  0,  0,  0,  0,  0,  0,  0,  0,  0,  0,  0,  0,  0,  0,  0,\n",
       "          0,  0,  0,  0,  0,  0,  0,  0,  0,  0,  0,  0,  0,  0,  0,  0,  0,  0,\n",
       "          0,  0,  0,  0,  0,  0,  0,  0,  0,  0,  0,  0,  0,  0,  0,  0,  0,  0,\n",
       "          0,  0,  0,  0,  0,  0,  0,  0,  0,  0,  0,  0,  0,  0,  0,  0,  0,  0,\n",
       "          0,  0,  0,  0,  0,  0,  0,  0]),\n",
       " tensor([ True,  True,  True,  True,  True,  True,  True,  True,  True, False,\n",
       "         False, False, False, False, False, False, False, False, False, False,\n",
       "         False, False, False, False, False, False, False, False, False, False,\n",
       "         False, False, False, False, False, False, False, False, False, False,\n",
       "         False, False, False, False, False, False, False, False, False, False,\n",
       "         False, False, False, False, False, False, False, False, False, False,\n",
       "         False, False, False, False, False, False, False, False, False, False,\n",
       "         False, False, False, False, False, False, False, False, False, False,\n",
       "         False, False, False, False, False, False, False, False, False, False,\n",
       "         False, False, False, False, False, False, False, False, False, False,\n",
       "         False, False, False, False, False, False, False, False, False, False,\n",
       "         False, False, False, False, False, False, False, False, False, False,\n",
       "         False, False, False, False, False, False, False, False, False, False,\n",
       "         False, False, False, False, False, False, False, False, False, False,\n",
       "         False, False, False, False, False, False, False, False, False, False,\n",
       "         False, False, False, False, False, False, False, False, False, False,\n",
       "         False, False, False, False, False, False, False, False, False, False,\n",
       "         False, False, False, False, False, False, False, False, False, False,\n",
       "         False, False, False, False, False, False, False, False, False, False,\n",
       "         False, False, False, False, False, False, False, False, False, False,\n",
       "         False, False, False, False, False, False, False, False, False, False,\n",
       "         False, False, False, False, False, False, False, False, False, False,\n",
       "         False, False, False, False, False, False, False, False, False, False,\n",
       "         False, False, False, False, False, False, False, False, False, False,\n",
       "         False, False, False, False, False, False, False, False, False, False,\n",
       "         False, False, False, False, False, False, False, False, False, False,\n",
       "         False, False, False, False, False, False, False, False, False, False,\n",
       "         False, False, False, False, False, False, False, False, False, False,\n",
       "         False, False, False, False, False, False, False, False, False, False,\n",
       "         False, False, False, False, False, False, False, False, False, False,\n",
       "         False, False, False, False, False, False, False, False, False, False,\n",
       "         False, False, False, False, False, False, False, False, False, False,\n",
       "         False, False, False, False, False, False, False, False, False, False,\n",
       "         False, False, False, False, False, False, False, False, False, False,\n",
       "         False, False, False, False, False, False, False, False, False, False,\n",
       "         False, False, False, False, False, False, False, False, False, False,\n",
       "         False, False, False, False, False, False, False, False, False, False,\n",
       "         False, False, False, False, False, False, False, False, False, False,\n",
       "         False, False, False, False, False, False, False, False, False, False,\n",
       "         False, False, False, False, False, False, False, False, False, False,\n",
       "         False, False, False, False, False, False, False, False, False, False,\n",
       "         False, False, False, False, False, False, False, False, False, False,\n",
       "         False, False, False, False, False, False, False, False, False, False,\n",
       "         False, False, False, False, False, False, False, False, False, False,\n",
       "         False, False, False, False, False, False, False, False, False, False,\n",
       "         False, False, False, False, False, False, False, False, False, False,\n",
       "         False, False, False, False, False, False, False, False, False, False,\n",
       "         False, False, False, False, False, False, False, False, False, False,\n",
       "         False, False, False, False, False, False, False, False, False, False,\n",
       "         False, False, False, False, False, False, False, False, False, False,\n",
       "         False, False, False, False, False, False, False, False, False, False,\n",
       "         False, False]))"
      ]
     },
     "execution_count": 11,
     "metadata": {},
     "output_type": "execute_result"
    }
   ],
   "source": [
    "bioseq_orig = \"BBCDEFGHI\"\n",
    "bioseq, bioseq_mask = bioseq_tok(bioseq_orig)\n",
    "bioseq, bioseq_mask"
   ]
  },
  {
   "cell_type": "markdown",
   "id": "shared-destruction",
   "metadata": {},
   "source": [
    "# Query example"
   ]
  },
  {
   "cell_type": "markdown",
   "id": "smooth-growth",
   "metadata": {},
   "source": [
    "## Bioseq"
   ]
  },
  {
   "cell_type": "markdown",
   "id": "focal-fiber",
   "metadata": {},
   "source": [
    "Proteins related to query \"blood\":\n",
    "1. **Small integral membrane protein 1** (https://www.uniprot.org/uniprot/B2RUZ4): Regulator of red blood cell formation.\n",
    "1. **Histo-blood group ABO system transferase** (https://www.uniprot.org/uniprot/P38649): This protein is involved in the pathway protein glycosylation.\n",
    "\n",
    "Proteins related to query \"brain\":\n",
    "1. **Tachykinins** (https://www.uniprot.org/uniprot/Q9VGE8): Tachykinins are active peptides which excite neurons. smooth muscles.\n",
    "1. **T-box brain protein 1** (https://www.uniprot.org/uniprot/Q16650): Transcriptional repressor involved in multiple aspects of cortical development.\n",
    "\n",
    "Proteins related to query \"t-cell\":\n",
    "1. **T-cell surface glycoprotein CD3 zeta chain** (https://www.uniprot.org/uniprot/P20963): Part of the TCR-CD3 complex present on T-lymphocyte cell surface that plays an essential role in adaptive immune response. \n",
    "1. **Interleukin-2** (https://www.uniprot.org/uniprot/P60568): Produced by T-cells in response to antigenic or mitogenic stimulation.\n",
    "\n",
    "Proteins related to query \"hormones\":\n",
    "1. **Glycoprotein hormones alpha chain** (https://www.uniprot.org/uniprot/P01215): Shared alpha chain of the active heterodimeric glycoprotein hormones.\n",
    "1. **Crustacean hyperglycemic hormones 3** (https://www.uniprot.org/uniprot/O97385): Hormone found in the sinus gland of isopods and decapods which controls the blood sugar level.\n",
    "\n",
    "Proteins related to query \"virus\":\n",
    "1. **mRNA-capping enzyme catalytic subunit** (https://www.uniprot.org/uniprot/P04298): The heterodimeric enzyme is also involved in early viral gene transcription termination and intermediate viral gene transcription initiation.\n",
    "1. **Hepatitis A virus cellular receptor 2** (https://www.uniprot.org/uniprot/Q8TDQ0): Cell surface receptor implicated in modulating innate and adaptive immune responses.\n",
    "\n",
    "Proteins related to query \"IgG\":\n",
    "1. **IgG kappa variable 1-17** (https://www.uniprot.org/uniprot/P01599): V region of the variable domain of immunoglobulin light chains that participates in the antigen recognition.\n",
    "1. **IgG lambda variable 1-47** (https://www.uniprot.org/uniprot/P01700): V region of the variable domain of immunoglobulin light chains that participates in the antigen recognition."
   ]
  },
  {
   "cell_type": "code",
   "execution_count": 12,
   "id": "nervous-divide",
   "metadata": {
    "ExecuteTime": {
     "end_time": "2021-07-18T18:21:34.179661Z",
     "start_time": "2021-07-18T18:21:34.175432Z"
    }
   },
   "outputs": [],
   "source": [
    "prot_urls = [\"https://www.uniprot.org/uniprot/B2RUZ4.fasta\",\n",
    "             \"https://www.uniprot.org/uniprot/P38649.fasta\",\n",
    "             \n",
    "             \"https://www.uniprot.org/uniprot/Q9VGE8.fasta\",\n",
    "             \"https://www.uniprot.org/uniprot/Q16650.fasta\",\n",
    "             \n",
    "             \"https://www.uniprot.org/uniprot/P20963.fasta\",\n",
    "             \"https://www.uniprot.org/uniprot/P60568.fasta\",\n",
    "             \n",
    "             \"https://www.uniprot.org/uniprot/P01215.fasta\",\n",
    "             \"https://www.uniprot.org/uniprot/O97385.fasta\",\n",
    "             \n",
    "             \"https://www.uniprot.org/uniprot/P04298.fasta\",\n",
    "             \"https://www.uniprot.org/uniprot/Q8TDQ0.fasta\",\n",
    "            \n",
    "             \"https://www.uniprot.org/uniprot/P01599.fasta\",\n",
    "             \"https://www.uniprot.org/uniprot/P01700.fasta\"]"
   ]
  },
  {
   "cell_type": "code",
   "execution_count": 13,
   "id": "checked-links",
   "metadata": {
    "ExecuteTime": {
     "end_time": "2021-07-18T18:21:39.106592Z",
     "start_time": "2021-07-18T18:21:34.180763Z"
    }
   },
   "outputs": [],
   "source": [
    "bioseq_orig =[\"\".join(requests.get(url).text.split(\"\\n\")[1:]) for url in prot_urls]"
   ]
  },
  {
   "cell_type": "code",
   "execution_count": 14,
   "id": "connected-works",
   "metadata": {
    "ExecuteTime": {
     "end_time": "2021-07-18T18:21:39.112631Z",
     "start_time": "2021-07-18T18:21:39.110009Z"
    }
   },
   "outputs": [
    {
     "data": {
      "text/plain": [
       "12"
      ]
     },
     "execution_count": 14,
     "metadata": {},
     "output_type": "execute_result"
    }
   ],
   "source": [
    "len(bioseq_orig)"
   ]
  },
  {
   "cell_type": "code",
   "execution_count": 15,
   "id": "7a3fb865",
   "metadata": {
    "ExecuteTime": {
     "end_time": "2021-07-18T18:21:39.124500Z",
     "start_time": "2021-07-18T18:21:39.113872Z"
    }
   },
   "outputs": [
    {
     "data": {
      "text/plain": [
       "['MQPQESHVHYSRWEDGSRDGVSLGAVSSTEEASRCRRISQRLCTGKLGIAMKVLGGVALFWIIFILGYLTGYYVHKCK',\n",
       " 'MNLRGRPKCNFLHLGILPFAVFVLVFFGYLFLSFRSQNLGHPGAVTRNAYLQPRVLKPTRKDVLVLTPWLAPIIWEGTFNIDILNEQFRIRNTTIGLTVFAIKKYVVFLKLFLETAEQHFMVGHKVIYYVFTDRPADVPQVILGAGRQLVVLTVRNYTRWQDVSMHRMEMISHFSERRFLREVDYLVCADADMKFSDHVGVEILSTFFGTLHPGFYSSSREAFTYERRPQSQAYIPWDRGDFYYGGAFFGGSVLEVYHLTKACHEAMMEDKANGIEPVWHDESYLNKYLLYHKPTKVLSPEYLWDQQLLGWPSIMKKLRYVAVPKDHQAIRN',\n",
       " 'MRPLSGLIALALLLLLLLTAPSSAADTETESSGSPLTPGAEEPRRVVKRAPTSSFIGMRGKKDEEHDTSEGNWLGSGPDPLDYADEEADSSYAENGRRLKKAPLAFVGLRGKKFIPINNRLSDVLQSLEEERLRDSLLQDFFDRVAGRDGSAVGKRAPTGFTGMRGKRPALLAGDDDAEADEATELQQKRAPVNSFVGMRGKKDVSHQHYKRAALSDSYDLRGKQQRFADFNSKFVAVRGKKSDLEGNGVGIGDDHEQALVHPWLYLWGEKRAPNGFLGMRGKRPALFE',\n",
       " 'MQLEHCLSPSIMLSKKFLNVSSSYPHSGGSELVLHDHPIISTTDNLERSSPLKKITRGMTNQSDTDNFPDSKDSPGDVQRSKLSPVLDGVSELRHSFDGSAADRYLLSQSSQPQSAATAPSAMFPYPGQHGPAHPAFSIGSPSRYMAHHPVITNGAYNSLLSNSSPQGYPTAGYPYPQQYGHSYQGAPFYQFSSTQPGLVPGKAQVYLCNRPLWLKFHRHQTEMIITKQGRRMFPFLSFNISGLDPTAHYNIFVDVILADPNHWRFQGGKWVPCGKADTNVQGNRVYMHPDSPNTGAHWMRQEISFGKLKLTNNKGASNNNGQMVVLQSLHKYQPRLHVVEVNEDGTEDTSQPGRVQTFTFPETQFIAVTAYQNTDITQLKIDHNPFAKGFRDNYDTIYTGCDMDRLTPSPNDSPRSQIVPGARYAMAGSFLQDQFVSNYAKARFHPGAGAGPGPGTDRSVPHTNGLLSPQQAEDPGAPSPQRWFVTPANNRLDFAASAYDTATDFAGNAATLLSYAAAGVKALPLQAAGCTGRPLGYYADPSGWGARSPPQYCGTKSGSVLPCWPNSAAAAARMAGANPYLGEEAEGLAAERSPLPPGAAEDAKPKDLSDSSWIETPSSIKSIDSSDSGIYEQAKRRRISPADTPVSESSSPLKSEVLAQRDCEKNCAKDISGYYGFYSHS',\n",
       " 'MKWKALFTAAILQAQLPITEAQSFGLLDPKLCYLLDGILFIYGVILTALFLRVKFSRSADAPAYQQGQNQLYNELNLGRREEYDVLDKRRGRDPEMGGKPQRRKNPQEGLYNELQKDKMAEAYSEIGMKGERRRGKGHDGLYQGLSTATKDTYDALHMQALPPR',\n",
       " 'MYRMQLLSCIALSLALVTNSAPTSSSTKKTQLQLEHLLLDLQMILNGINNYKNPKLTRMLTFKFYMPKKATELKHLQCLEEELKPLEEVLNLAQSKNFHLRPRDLISNINVIVLELKGSETTFMCEYADETATIVEFLNRWITFCQSIISTLT',\n",
       " 'MDYYRKYAAIFLVTLSVFLHVLHSAPDVQDCPECTLQENPFFSQPGAPILQCMGCCFSRAYPTPLRSKKTMLVQKNVTSESTCCVAKSYNRVTVMGGFKVENHTACHCSTCYYHKS',\n",
       " 'MIALRLIAVTLVVAMAASTTWARSFNKRANFDPSCAGVYNRELLGRLSRLCDDCYNVFREPKVATECRNNCFYNPVFVQCLEYLIPADLHEEYQAHVQTVGK',\n",
       " 'MDANVVSSSTIATYIDALAKNASELEQRSTAYEINNELELVFIKPPLITLTNVVNISTIQESFIRFTVTNKEGVKIRTKIPLSKVHGLDVKNVQLVDAIDNIVWEKKSLVTENRLHKECLLRLSTEERHIFLDYKKYGSSIRLELVNLIQAKTKNFTIDFKLKYFLGSGAQSKSSLLHAINHPKSRPNTSLEIEFTPRDNETVPYDELIKELTTLSRHIFMASPENVILSPPINAPIKTFMLPKQDIVGLDLENLYAVTKTDGIPITIRVTSNGLYCYFTHLGYIIRYPVKRIIDSEVVVFGEAVKDKNWTVYLIKLIEPVNAINDRLEESKYVESKLVDICDRIVFKSKKYEGPFTTTSEVVDMLSTYLPKQPEGVILFYSKGPKSNIDFKIKKENTIDQTANVVFRYMSSEPIIFGESSIFVEYKKFSNDKGFPKEYGSGKIVLYNGVNYLNNIYCLEYINTHNEVGIKSVVVPIKFIAEFLVNGEILKPRIDKTMKYINSEDYYGNQHNIIVEHLRDQSIKIGDIFNEDKLSDVGHQYANNDKFRLNPEVSYFTNKRTRGPLGILSNYVKTLLISMYCSKTFLDDSNKRKVLAIDFGNGADLEKYFYGEIALLVATDPDADAIARGNERYNKLNSGIKTKYYKFDYIQETIRSDTFVSSVREVFYFGKFNIIDWQFAIHYSFHPRHYATVMNNLSELTASGGKVLITTMDGDKLSKLTDKKTFIIHKNLPSSENYMSVEKIADDRIVVYNPSTMSTPMTEYIIKKNDIVRVFNEYGFVLVDNVDFATIIERSKKFINGASTMEDRPSTRNFFELNRGAIKCEGLDVEDLLSYYVVYVFSKR',\n",
       " 'MFSHLPFDCVLLLLLLLLTRSSEVEYRAEVGQNAYLPCFYTPAAPGNLVPVCWGKGACPVFECGNVVLRTDERDVNYWTSRYWLNGDFRKGDVSLTIENVTLADSGIYCCRIQIPGIMNDEKFNLKLVIKPAKVTPAPTRQRDFTAAFPRMLTTRGHGPAETQTLGSLPDINLTQISTLANELRDSRLANDLRDSGATIRIGIYIGAGICAGLALALIFGALIFKWYSHSKEKIQNLSLISLANLPPSGLANAVAEGIRSEENIYTIEENVYEVEEPNEYYCYVSSRQQPSQPLGCRFAMP',\n",
       " 'MDMRVPAQLLGLLLLWFPGARCDIQMTQSPSSLSASVGDRVTITCRASQGIRNDLGWYQQKPGKAPKRLIYAASSLQSGVPSRFSGSGSGTEFTLTISSLQPEDFATYYCLQHNSYP',\n",
       " 'MAGFPLLLTLLTHCAGSWAQSVLTQPPSASGTPGQRVTISCSGSSSNIGSNYVYWYQQLPGTAPKLLIYSNNQRPSGVPDRFSGSKSGTSASLAISGLRSEDEADYYCAAWDDSLSG']"
      ]
     },
     "execution_count": 15,
     "metadata": {},
     "output_type": "execute_result"
    }
   ],
   "source": [
    "bioseq_orig"
   ]
  },
  {
   "cell_type": "code",
   "execution_count": 16,
   "id": "intelligent-triple",
   "metadata": {
    "ExecuteTime": {
     "end_time": "2021-07-18T18:21:39.130105Z",
     "start_time": "2021-07-18T18:21:39.125740Z"
    }
   },
   "outputs": [
    {
     "data": {
      "text/plain": [
       "[78, 332, 289, 682, 164, 153, 116, 102, 844, 301, 117, 117]"
      ]
     },
     "execution_count": 16,
     "metadata": {},
     "output_type": "execute_result"
    }
   ],
   "source": [
    "[len(s) for s in bioseq_orig]"
   ]
  },
  {
   "cell_type": "code",
   "execution_count": 17,
   "id": "favorite-producer",
   "metadata": {
    "ExecuteTime": {
     "end_time": "2021-07-18T18:21:39.135209Z",
     "start_time": "2021-07-18T18:21:39.131260Z"
    }
   },
   "outputs": [],
   "source": [
    "bioseq_ = [bioseq_tok(bioseq_sampler(s)) for s in bioseq_orig]"
   ]
  },
  {
   "cell_type": "code",
   "execution_count": 18,
   "id": "toxic-leather",
   "metadata": {
    "ExecuteTime": {
     "end_time": "2021-07-18T18:21:39.141417Z",
     "start_time": "2021-07-18T18:21:39.136331Z"
    }
   },
   "outputs": [
    {
     "data": {
      "text/plain": [
       "(tensor([[10, 14, 13,  ...,  0,  0,  0],\n",
       "         [10, 11,  9,  ...,  0,  0,  0],\n",
       "         [10, 15, 13,  ...,  0,  0,  0],\n",
       "         ...,\n",
       "         [10,  4, 16,  ...,  0,  0,  0],\n",
       "         [10,  2, 10,  ...,  0,  0,  0],\n",
       "         [10,  0,  5,  ...,  0,  0,  0]]),\n",
       " tensor([[ True,  True,  True,  ..., False, False, False],\n",
       "         [ True,  True,  True,  ..., False, False, False],\n",
       "         [ True,  True,  True,  ..., False, False, False],\n",
       "         ...,\n",
       "         [ True,  True,  True,  ..., False, False, False],\n",
       "         [ True,  True,  True,  ..., False, False, False],\n",
       "         [ True,  True,  True,  ..., False, False, False]]))"
      ]
     },
     "execution_count": 18,
     "metadata": {},
     "output_type": "execute_result"
    }
   ],
   "source": [
    "bioseq, bioseq_mask = list(zip(*bioseq_))\n",
    "bioseq      = torch.cat([s.unsqueeze(0) for s in bioseq])\n",
    "bioseq_mask = torch.cat([s.unsqueeze(0) for s in bioseq_mask])\n",
    "bioseq, bioseq_mask"
   ]
  },
  {
   "cell_type": "code",
   "execution_count": 19,
   "id": "incorrect-overall",
   "metadata": {
    "ExecuteTime": {
     "end_time": "2021-07-18T18:21:39.145466Z",
     "start_time": "2021-07-18T18:21:39.142503Z"
    }
   },
   "outputs": [
    {
     "data": {
      "text/plain": [
       "(torch.Size([12, 512]), torch.Size([12, 512]))"
      ]
     },
     "execution_count": 19,
     "metadata": {},
     "output_type": "execute_result"
    }
   ],
   "source": [
    "bioseq.shape, bioseq_mask.shape"
   ]
  },
  {
   "cell_type": "code",
   "execution_count": 20,
   "id": "excess-camel",
   "metadata": {
    "ExecuteTime": {
     "end_time": "2021-07-18T18:21:44.261728Z",
     "start_time": "2021-07-18T18:21:39.147207Z"
    }
   },
   "outputs": [
    {
     "data": {
      "text/plain": [
       "torch.Size([12, 768])"
      ]
     },
     "execution_count": 20,
     "metadata": {},
     "output_type": "execute_result"
    }
   ],
   "source": [
    "bioseq_out = model.bioseq_encoder(bioseq, mask=bioseq_mask)\n",
    "bioseq_out.shape"
   ]
  },
  {
   "cell_type": "markdown",
   "id": "interesting-ceramic",
   "metadata": {},
   "source": [
    "## Text"
   ]
  },
  {
   "cell_type": "markdown",
   "id": "82a31e15",
   "metadata": {},
   "source": [
    "Change here the text query:"
   ]
  },
  {
   "cell_type": "code",
   "execution_count": 21,
   "id": "5700f120",
   "metadata": {
    "ExecuteTime": {
     "end_time": "2021-07-18T18:21:44.264637Z",
     "start_time": "2021-07-18T18:21:44.262979Z"
    }
   },
   "outputs": [],
   "source": [
    "#text_orig = \"protein that is present in the blood\"\n",
    "#text_orig = \"blood cells blood stream nutrition\"\n",
    "#text_orig = \"brain neurology nerve cells\"\n",
    "#text_orig = \"proteins that play a role in the blood transport\"\n",
    "text_orig = \"hormone regulation and similar functions\"\n",
    "#text_orig = \"immune system and antigen processing\"\n",
    "#text_orig = \"viral infection and replication\"\n",
    "#text_orig = \"antibody immune reaction\""
   ]
  },
  {
   "cell_type": "code",
   "execution_count": 22,
   "id": "numerous-volleyball",
   "metadata": {
    "ExecuteTime": {
     "end_time": "2021-07-18T18:21:44.279506Z",
     "start_time": "2021-07-18T18:21:44.265607Z"
    }
   },
   "outputs": [
    {
     "data": {
      "text/plain": [
       "(tensor([[31283, 14267,   537,  ...,     0,     0,     0]]),\n",
       " tensor([[ True,  True,  True,  ..., False, False, False]]))"
      ]
     },
     "execution_count": 22,
     "metadata": {},
     "output_type": "execute_result"
    }
   ],
   "source": [
    "text, text_mask = text_tok(text_orig)\n",
    "text, text_mask"
   ]
  },
  {
   "cell_type": "code",
   "execution_count": 23,
   "id": "critical-instruction",
   "metadata": {
    "ExecuteTime": {
     "end_time": "2021-07-18T18:21:45.618570Z",
     "start_time": "2021-07-18T18:21:44.280527Z"
    }
   },
   "outputs": [
    {
     "data": {
      "text/plain": [
       "torch.Size([1, 768])"
      ]
     },
     "execution_count": 23,
     "metadata": {},
     "output_type": "execute_result"
    }
   ],
   "source": [
    "text_out = model.text_encoder(text, mask=text_mask)\n",
    "text_out.shape"
   ]
  },
  {
   "cell_type": "markdown",
   "id": "tender-combine",
   "metadata": {},
   "source": [
    "## Similarity"
   ]
  },
  {
   "cell_type": "code",
   "execution_count": 24,
   "id": "latin-output",
   "metadata": {
    "ExecuteTime": {
     "end_time": "2021-07-18T18:21:45.622573Z",
     "start_time": "2021-07-18T18:21:45.619489Z"
    }
   },
   "outputs": [],
   "source": [
    "text_out_norm = F.normalize(text_out, p=2, dim =-1)\n",
    "bioseq_out_norm = F.normalize(bioseq_out, p=2, dim =-1)"
   ]
  },
  {
   "cell_type": "code",
   "execution_count": 25,
   "id": "advanced-allocation",
   "metadata": {
    "ExecuteTime": {
     "end_time": "2021-07-18T18:21:45.633939Z",
     "start_time": "2021-07-18T18:21:45.624611Z"
    }
   },
   "outputs": [
    {
     "data": {
      "text/plain": [
       "[0.19082853198051453,\n",
       " 0.1475561261177063,\n",
       " 0.1467944234609604,\n",
       " 0.16863828897476196,\n",
       " 0.1605483740568161,\n",
       " 0.15268614888191223,\n",
       " 0.201420858502388,\n",
       " 0.16629259288311005,\n",
       " 0.15658608078956604,\n",
       " 0.171107679605484,\n",
       " 0.16047260165214539,\n",
       " 0.15689802169799805]"
      ]
     },
     "execution_count": 25,
     "metadata": {},
     "output_type": "execute_result"
    }
   ],
   "source": [
    "sim = einsum('n d, n d -> n', text_out_norm, bioseq_out_norm)\n",
    "sim.tolist()"
   ]
  },
  {
   "cell_type": "code",
   "execution_count": 26,
   "id": "enclosed-privacy",
   "metadata": {
    "ExecuteTime": {
     "end_time": "2021-07-18T18:21:45.710905Z",
     "start_time": "2021-07-18T18:21:45.634901Z"
    }
   },
   "outputs": [
    {
     "data": {
      "image/png": "[encoded data removed]",
      "text/plain": [
       "<Figure size 432x288 with 1 Axes>"
      ]
     },
     "metadata": {
      "needs_background": "light"
     },
     "output_type": "display_data"
    }
   ],
   "source": [
    "plt.imshow(sim.data.unsqueeze(0).numpy(), cmap=\"turbo\");\n",
    "plt.gca().set_xticks(range(len(sim)));\n",
    "plt.gca().set_yticks([]);"
   ]
  },
  {
   "cell_type": "code",
   "execution_count": 27,
   "id": "lonely-marks",
   "metadata": {
    "ExecuteTime": {
     "end_time": "2021-07-18T18:21:45.778178Z",
     "start_time": "2021-07-18T18:21:45.711936Z"
    }
   },
   "outputs": [
    {
     "data": {
      "image/png": "[encoded data removed]",
      "text/plain": [
       "<Figure size 432x288 with 1 Axes>"
      ]
     },
     "metadata": {
      "needs_background": "light"
     },
     "output_type": "display_data"
    }
   ],
   "source": [
    "# colors normalized to the cosine similarity ranges -1 and 1\n",
    "plt.imshow(sim.data.unsqueeze(0).numpy(), cmap=\"turbo\", vmin=-1., vmax=1.);\n",
    "plt.gca().set_xticks(range(len(sim)));\n",
    "plt.gca().set_yticks([]);"
   ]
  },
  {
   "cell_type": "markdown",
   "id": "stopped-president",
   "metadata": {},
   "source": [
    "# Citric acid cycle"
   ]
  },
  {
   "cell_type": "markdown",
   "id": "periodic-calculation",
   "metadata": {},
   "source": [
    "The [citric acid cycle](https://en.wikipedia.org/wiki/Citric_acid_cycle) is a very import chain of reactions in cells and we use the sequences of some of the [involved enzymes](https://en.wikipedia.org/wiki/Citric_acid_cycle#Steps) to look for interesting relationships in the high-dimensional embedding space.\n",
    "\n",
    "1. Citrate synthase, https://www.uniprot.org/uniprot/O75390\n",
    "1. Cytoplasmic aconitate hydratase, https://www.uniprot.org/uniprot/P21399\n",
    "1. Isocitrate dehydrogenase NADP cytoplasmic, https://www.uniprot.org/uniprot/O75874\n",
    "1. Fumarate hydratase mitochondrial, https://www.uniprot.org/uniprot/P07954\n",
    "1. Malate dehydrogenase cytoplasmic, https://www.uniprot.org/uniprot/P40925"
   ]
  },
  {
   "cell_type": "code",
   "execution_count": 28,
   "id": "planned-helmet",
   "metadata": {
    "ExecuteTime": {
     "end_time": "2021-07-18T18:21:45.781199Z",
     "start_time": "2021-07-18T18:21:45.779311Z"
    }
   },
   "outputs": [],
   "source": [
    "cca_urls = [\"https://www.uniprot.org/uniprot/O75390.fasta\",\n",
    "            \"https://www.uniprot.org/uniprot/P21399.fasta\",\n",
    "            \"https://www.uniprot.org/uniprot/O75874.fasta\",\n",
    "            \"https://www.uniprot.org/uniprot/P07954.fasta\",\n",
    "            \"https://www.uniprot.org/uniprot/P40925.fasta\"]"
   ]
  },
  {
   "cell_type": "code",
   "execution_count": 29,
   "id": "crazy-whale",
   "metadata": {
    "ExecuteTime": {
     "end_time": "2021-07-18T18:21:52.567944Z",
     "start_time": "2021-07-18T18:21:45.782255Z"
    }
   },
   "outputs": [],
   "source": [
    "# we also add the proteins from above to see if the cca proteins are clustered together\n",
    "cca_seq =[\"\".join(requests.get(url).text.split(\"\\n\")[1:]) for url in cca_urls+prot_urls]"
   ]
  },
  {
   "cell_type": "code",
   "execution_count": 30,
   "id": "constant-possible",
   "metadata": {
    "ExecuteTime": {
     "end_time": "2021-07-18T18:21:52.577960Z",
     "start_time": "2021-07-18T18:21:52.573515Z"
    }
   },
   "outputs": [],
   "source": [
    "#cca_seq"
   ]
  },
  {
   "cell_type": "code",
   "execution_count": 31,
   "id": "significant-charm",
   "metadata": {
    "ExecuteTime": {
     "end_time": "2021-07-18T18:21:52.591199Z",
     "start_time": "2021-07-18T18:21:52.578936Z"
    }
   },
   "outputs": [
    {
     "data": {
      "text/plain": [
       "[466,\n",
       " 889,\n",
       " 414,\n",
       " 510,\n",
       " 334,\n",
       " 78,\n",
       " 332,\n",
       " 289,\n",
       " 682,\n",
       " 164,\n",
       " 153,\n",
       " 116,\n",
       " 102,\n",
       " 844,\n",
       " 301,\n",
       " 117,\n",
       " 117]"
      ]
     },
     "execution_count": 31,
     "metadata": {},
     "output_type": "execute_result"
    }
   ],
   "source": [
    "[len(s) for s in cca_seq]"
   ]
  },
  {
   "cell_type": "code",
   "execution_count": 32,
   "id": "floating-software",
   "metadata": {
    "ExecuteTime": {
     "end_time": "2021-07-18T18:21:52.596613Z",
     "start_time": "2021-07-18T18:21:52.592238Z"
    }
   },
   "outputs": [],
   "source": [
    "bioseq_ = [bioseq_tok(bioseq_sampler(s)) for s in cca_seq]"
   ]
  },
  {
   "cell_type": "code",
   "execution_count": 33,
   "id": "measured-private",
   "metadata": {
    "ExecuteTime": {
     "end_time": "2021-07-18T18:21:52.603146Z",
     "start_time": "2021-07-18T18:21:52.597830Z"
    }
   },
   "outputs": [
    {
     "data": {
      "text/plain": [
       "(tensor([[10,  0,  9,  ...,  0,  0,  0],\n",
       "         [16,  7, 17,  ...,  2,  0,  9],\n",
       "         [10, 16,  8,  ...,  0,  0,  0],\n",
       "         ...,\n",
       "         [10,  4, 16,  ...,  0,  0,  0],\n",
       "         [10,  2, 10,  ...,  0,  0,  0],\n",
       "         [10,  0,  5,  ...,  0,  0,  0]]),\n",
       " tensor([[ True,  True,  True,  ..., False, False, False],\n",
       "         [ True,  True,  True,  ...,  True,  True,  True],\n",
       "         [ True,  True,  True,  ..., False, False, False],\n",
       "         ...,\n",
       "         [ True,  True,  True,  ..., False, False, False],\n",
       "         [ True,  True,  True,  ..., False, False, False],\n",
       "         [ True,  True,  True,  ..., False, False, False]]))"
      ]
     },
     "execution_count": 33,
     "metadata": {},
     "output_type": "execute_result"
    }
   ],
   "source": [
    "bioseq, bioseq_mask = list(zip(*bioseq_))\n",
    "bioseq      = torch.cat([s.unsqueeze(0) for s in bioseq])\n",
    "bioseq_mask = torch.cat([s.unsqueeze(0) for s in bioseq_mask])\n",
    "bioseq, bioseq_mask"
   ]
  },
  {
   "cell_type": "code",
   "execution_count": 34,
   "id": "suitable-adapter",
   "metadata": {
    "ExecuteTime": {
     "end_time": "2021-07-18T18:21:52.608664Z",
     "start_time": "2021-07-18T18:21:52.605871Z"
    }
   },
   "outputs": [
    {
     "data": {
      "text/plain": [
       "(torch.Size([17, 512]), torch.Size([17, 512]))"
      ]
     },
     "execution_count": 34,
     "metadata": {},
     "output_type": "execute_result"
    }
   ],
   "source": [
    "bioseq.shape, bioseq_mask.shape"
   ]
  },
  {
   "cell_type": "code",
   "execution_count": 35,
   "id": "painful-means",
   "metadata": {
    "ExecuteTime": {
     "end_time": "2021-07-18T18:21:59.660898Z",
     "start_time": "2021-07-18T18:21:52.609897Z"
    }
   },
   "outputs": [
    {
     "data": {
      "text/plain": [
       "torch.Size([17, 768])"
      ]
     },
     "execution_count": 35,
     "metadata": {},
     "output_type": "execute_result"
    }
   ],
   "source": [
    "bioseq_out = model.bioseq_encoder(bioseq, mask=bioseq_mask)\n",
    "bioseq_out.shape"
   ]
  },
  {
   "cell_type": "code",
   "execution_count": 36,
   "id": "synthetic-brooks",
   "metadata": {
    "ExecuteTime": {
     "end_time": "2021-07-18T18:21:59.665171Z",
     "start_time": "2021-07-18T18:21:59.661931Z"
    }
   },
   "outputs": [],
   "source": [
    "u, s, v = torch.svd(bioseq_out)"
   ]
  },
  {
   "cell_type": "code",
   "execution_count": 37,
   "id": "fitting-channel",
   "metadata": {
    "ExecuteTime": {
     "end_time": "2021-07-18T18:21:59.675589Z",
     "start_time": "2021-07-18T18:21:59.666213Z"
    }
   },
   "outputs": [
    {
     "data": {
      "text/plain": [
       "tensor([60.6079, 31.5279, 29.5089, 26.8505, 25.9734, 25.2728, 22.3653, 21.6026,\n",
       "        20.5407, 19.5273, 17.3956, 16.9678, 15.8024, 15.2223, 13.8886, 12.8866,\n",
       "         6.9062], grad_fn=<SvdHelperBackward>)"
      ]
     },
     "execution_count": 37,
     "metadata": {},
     "output_type": "execute_result"
    }
   ],
   "source": [
    "#u, s, v\n",
    "s"
   ]
  },
  {
   "cell_type": "code",
   "execution_count": 38,
   "id": "chief-density",
   "metadata": {
    "ExecuteTime": {
     "end_time": "2021-07-18T18:21:59.680007Z",
     "start_time": "2021-07-18T18:21:59.676638Z"
    }
   },
   "outputs": [
    {
     "data": {
      "text/plain": [
       "(torch.Size([17, 17]), torch.Size([17]), torch.Size([768, 17]))"
      ]
     },
     "execution_count": 38,
     "metadata": {},
     "output_type": "execute_result"
    }
   ],
   "source": [
    "u.shape, s.shape, v.shape"
   ]
  },
  {
   "cell_type": "code",
   "execution_count": 39,
   "id": "aquatic-kernel",
   "metadata": {
    "ExecuteTime": {
     "end_time": "2021-07-18T18:21:59.684586Z",
     "start_time": "2021-07-18T18:21:59.680941Z"
    }
   },
   "outputs": [
    {
     "data": {
      "text/plain": [
       "(torch.Size([17, 768]), torch.Size([1, 768]))"
      ]
     },
     "execution_count": 39,
     "metadata": {},
     "output_type": "execute_result"
    }
   ],
   "source": [
    "bioseq_out.shape, v.t()[0].unsqueeze(0).shape"
   ]
  },
  {
   "cell_type": "code",
   "execution_count": 40,
   "id": "occupied-milwaukee",
   "metadata": {
    "ExecuteTime": {
     "end_time": "2021-07-18T18:21:59.689063Z",
     "start_time": "2021-07-18T18:21:59.685415Z"
    }
   },
   "outputs": [],
   "source": [
    "# project on the top-2 eigenvectors\n",
    "x_coords = einsum(\"id, jd -> ij\", bioseq_out, v.t()[0].unsqueeze(0)).data\n",
    "y_coords = einsum(\"id, jd -> ij\", bioseq_out, v.t()[1].unsqueeze(0)).data"
   ]
  },
  {
   "cell_type": "code",
   "execution_count": 41,
   "id": "electronic-divide",
   "metadata": {
    "ExecuteTime": {
     "end_time": "2021-07-18T18:21:59.834143Z",
     "start_time": "2021-07-18T18:21:59.689999Z"
    }
   },
   "outputs": [
    {
     "data": {
      "image/png": "[encoded data removed]",
      "text/plain": [
       "<Figure size 432x288 with 1 Axes>"
      ]
     },
     "metadata": {
      "needs_background": "light"
     },
     "output_type": "display_data"
    }
   ],
   "source": [
    "plt.scatter(x_coords, y_coords);\n",
    "for i, txt in enumerate(x_coords):\n",
    "    plt.annotate(i, (x_coords[i]+0.025, y_coords[i]-0.2))"
   ]
  },
  {
   "cell_type": "markdown",
   "id": "b62ab999",
   "metadata": {},
   "source": [
    "# Glycolysis"
   ]
  },
  {
   "cell_type": "markdown",
   "id": "38d0f2c4",
   "metadata": {},
   "source": [
    "[Glycolysis](https://en.wikipedia.org/wiki/Glycolysis) is the metabolic pathway that converts glucose C<sub>6</sub>H<sub>12</sub>O<sub>6</sub> into pyruvate CH<sub>3</sub>COCOO<sup>−</sup> and a hydrogen ion H<sup>+</sup>. The free energy released in this process is used to form the high-energy molecules ATP and NADH (reduced nicotinamide adenine dinucleotide).\n",
    "\n",
    "1. Hexokinase-1 (https://www.uniprot.org/uniprot/P19367)\n",
    "1. Glucose-6-phosphate isomerase (https://www.uniprot.org/uniprot/P06744)\n",
    "1. ATP-dependent 6-phosphofructokinase, muscle type (https://www.uniprot.org/uniprot/P08237)\n",
    "1. Fructose-bisphosphate aldolase A (https://www.uniprot.org/uniprot/P04075)\n",
    "1. Triosephosphate isomerase (https://www.uniprot.org/uniprot/P60174)\n",
    "1. Glyceraldehyde-3-phosphate dehydrogenase (https://www.uniprot.org/uniprot/P04406)\n",
    "1. Phosphoglycerate kinase 1 (https://www.uniprot.org/uniprot/P00558)\n",
    "1. Phosphoglycerate mutase 1 (https://www.uniprot.org/uniprot/P18669)\n",
    "1. Alpha-enolase (https://www.uniprot.org/uniprot/P06733)\n",
    "1. Pyruvate kinase PKLR (https://www.uniprot.org/uniprot/P30613)"
   ]
  },
  {
   "cell_type": "code",
   "execution_count": 42,
   "id": "a5789090",
   "metadata": {
    "ExecuteTime": {
     "end_time": "2021-07-18T18:21:59.837134Z",
     "start_time": "2021-07-18T18:21:59.835173Z"
    }
   },
   "outputs": [],
   "source": [
    "glyc_urls = [\"https://www.uniprot.org/uniprot/P19367.fasta\",\n",
    "            \"https://www.uniprot.org/uniprot/P06744.fasta\",\n",
    "            \"https://www.uniprot.org/uniprot/P08237.fasta\",\n",
    "            \"https://www.uniprot.org/uniprot/P04075.fasta\",\n",
    "            \"https://www.uniprot.org/uniprot/P60174.fasta\",\n",
    "            \"https://www.uniprot.org/uniprot/P04406.fasta\",\n",
    "            \"https://www.uniprot.org/uniprot/P00558.fasta\",\n",
    "            \"https://www.uniprot.org/uniprot/P18669.fasta\",\n",
    "            \"https://www.uniprot.org/uniprot/P06733.fasta\",\n",
    "            \"https://www.uniprot.org/uniprot/P30613.fasta\"]"
   ]
  },
  {
   "cell_type": "code",
   "execution_count": 43,
   "id": "5be2c128",
   "metadata": {
    "ExecuteTime": {
     "end_time": "2021-07-18T18:22:04.087959Z",
     "start_time": "2021-07-18T18:21:59.838184Z"
    }
   },
   "outputs": [],
   "source": [
    "# we also add the proteins from above to see if the cca proteins are clustered together\n",
    "glyc_seq =[\"\".join(requests.get(url).text.split(\"\\n\")[1:]) for url in glyc_urls]#+prot_urls]"
   ]
  },
  {
   "cell_type": "code",
   "execution_count": 44,
   "id": "872af9b4",
   "metadata": {
    "ExecuteTime": {
     "end_time": "2021-07-18T18:22:04.097342Z",
     "start_time": "2021-07-18T18:22:04.093327Z"
    }
   },
   "outputs": [],
   "source": [
    "#glyc_seq"
   ]
  },
  {
   "cell_type": "code",
   "execution_count": 45,
   "id": "92e66bf3",
   "metadata": {
    "ExecuteTime": {
     "end_time": "2021-07-18T18:22:04.109992Z",
     "start_time": "2021-07-18T18:22:04.098290Z"
    }
   },
   "outputs": [
    {
     "data": {
      "text/plain": [
       "[917, 558, 780, 364, 249, 335, 417, 254, 434, 574]"
      ]
     },
     "execution_count": 45,
     "metadata": {},
     "output_type": "execute_result"
    }
   ],
   "source": [
    "[len(s) for s in glyc_seq]"
   ]
  },
  {
   "cell_type": "code",
   "execution_count": 46,
   "id": "3e1a62fb",
   "metadata": {
    "ExecuteTime": {
     "end_time": "2021-07-18T18:22:04.115589Z",
     "start_time": "2021-07-18T18:22:04.111037Z"
    }
   },
   "outputs": [],
   "source": [
    "bioseq_ = [bioseq_tok(bioseq_sampler(s)) for s in glyc_seq]"
   ]
  },
  {
   "cell_type": "code",
   "execution_count": 47,
   "id": "6fa8a0b4",
   "metadata": {
    "ExecuteTime": {
     "end_time": "2021-07-18T18:22:04.122706Z",
     "start_time": "2021-07-18T18:22:04.116911Z"
    }
   },
   "outputs": [
    {
     "data": {
      "text/plain": [
       "(tensor([[11,  6,  3,  ..., 14, 14, 17],\n",
       "         [10,  0,  0,  ...,  4,  2, 14],\n",
       "         [17,  4, 15,  ..., 17, 17,  2],\n",
       "         ...,\n",
       "         [10,  0,  0,  ...,  0,  0,  0],\n",
       "         [10, 16,  7,  ...,  0,  0,  0],\n",
       "         [15,  0, 16,  ...,  2,  9, 19]]),\n",
       " tensor([[ True,  True,  True,  ...,  True,  True,  True],\n",
       "         [ True,  True,  True,  ...,  True,  True,  True],\n",
       "         [ True,  True,  True,  ...,  True,  True,  True],\n",
       "         ...,\n",
       "         [ True,  True,  True,  ..., False, False, False],\n",
       "         [ True,  True,  True,  ..., False, False, False],\n",
       "         [ True,  True,  True,  ...,  True,  True,  True]]))"
      ]
     },
     "execution_count": 47,
     "metadata": {},
     "output_type": "execute_result"
    }
   ],
   "source": [
    "bioseq, bioseq_mask = list(zip(*bioseq_))\n",
    "bioseq      = torch.cat([s.unsqueeze(0) for s in bioseq])\n",
    "bioseq_mask = torch.cat([s.unsqueeze(0) for s in bioseq_mask])\n",
    "bioseq, bioseq_mask"
   ]
  },
  {
   "cell_type": "code",
   "execution_count": 48,
   "id": "d7ee611e",
   "metadata": {
    "ExecuteTime": {
     "end_time": "2021-07-18T18:22:04.128636Z",
     "start_time": "2021-07-18T18:22:04.124250Z"
    }
   },
   "outputs": [
    {
     "data": {
      "text/plain": [
       "(torch.Size([10, 512]), torch.Size([10, 512]))"
      ]
     },
     "execution_count": 48,
     "metadata": {},
     "output_type": "execute_result"
    }
   ],
   "source": [
    "bioseq.shape, bioseq_mask.shape"
   ]
  },
  {
   "cell_type": "code",
   "execution_count": 49,
   "id": "a044632c",
   "metadata": {
    "ExecuteTime": {
     "end_time": "2021-07-18T18:22:08.488520Z",
     "start_time": "2021-07-18T18:22:04.130621Z"
    }
   },
   "outputs": [
    {
     "data": {
      "text/plain": [
       "torch.Size([10, 768])"
      ]
     },
     "execution_count": 49,
     "metadata": {},
     "output_type": "execute_result"
    }
   ],
   "source": [
    "bioseq_out = model.bioseq_encoder(bioseq, mask=bioseq_mask)\n",
    "bioseq_out.shape"
   ]
  },
  {
   "cell_type": "code",
   "execution_count": 50,
   "id": "2e6f5fe7",
   "metadata": {
    "ExecuteTime": {
     "end_time": "2021-07-18T18:22:08.493256Z",
     "start_time": "2021-07-18T18:22:08.489526Z"
    }
   },
   "outputs": [],
   "source": [
    "u, s, v = torch.svd(bioseq_out)"
   ]
  },
  {
   "cell_type": "code",
   "execution_count": 51,
   "id": "8e3039b0",
   "metadata": {
    "ExecuteTime": {
     "end_time": "2021-07-18T18:22:08.504316Z",
     "start_time": "2021-07-18T18:22:08.494262Z"
    }
   },
   "outputs": [
    {
     "data": {
      "text/plain": [
       "tensor([49.9514, 30.6073, 24.9115, 22.4767, 20.5456, 19.7257, 17.5594, 17.2067,\n",
       "        15.3715, 14.1553], grad_fn=<SvdHelperBackward>)"
      ]
     },
     "execution_count": 51,
     "metadata": {},
     "output_type": "execute_result"
    }
   ],
   "source": [
    "#u, s, v\n",
    "s"
   ]
  },
  {
   "cell_type": "code",
   "execution_count": 52,
   "id": "a69959ff",
   "metadata": {
    "ExecuteTime": {
     "end_time": "2021-07-18T18:22:08.508299Z",
     "start_time": "2021-07-18T18:22:08.505349Z"
    }
   },
   "outputs": [
    {
     "data": {
      "text/plain": [
       "(torch.Size([10, 10]), torch.Size([10]), torch.Size([768, 10]))"
      ]
     },
     "execution_count": 52,
     "metadata": {},
     "output_type": "execute_result"
    }
   ],
   "source": [
    "u.shape, s.shape, v.shape"
   ]
  },
  {
   "cell_type": "code",
   "execution_count": 53,
   "id": "30f36be6",
   "metadata": {
    "ExecuteTime": {
     "end_time": "2021-07-18T18:22:08.517209Z",
     "start_time": "2021-07-18T18:22:08.509139Z"
    }
   },
   "outputs": [
    {
     "data": {
      "text/plain": [
       "(torch.Size([10, 768]), torch.Size([1, 768]))"
      ]
     },
     "execution_count": 53,
     "metadata": {},
     "output_type": "execute_result"
    }
   ],
   "source": [
    "bioseq_out.shape, v.t()[0].unsqueeze(0).shape"
   ]
  },
  {
   "cell_type": "code",
   "execution_count": 54,
   "id": "0bb463dd",
   "metadata": {
    "ExecuteTime": {
     "end_time": "2021-07-18T18:22:08.521871Z",
     "start_time": "2021-07-18T18:22:08.518180Z"
    }
   },
   "outputs": [],
   "source": [
    "# project on the top-2 eigenvectors\n",
    "x_coords = einsum(\"id, jd -> ij\", bioseq_out, v.t()[0].unsqueeze(0)).data\n",
    "y_coords = einsum(\"id, jd -> ij\", bioseq_out, v.t()[1].unsqueeze(0)).data"
   ]
  },
  {
   "cell_type": "code",
   "execution_count": 55,
   "id": "cf6b40a6",
   "metadata": {
    "ExecuteTime": {
     "end_time": "2021-07-18T18:22:08.638905Z",
     "start_time": "2021-07-18T18:22:08.522836Z"
    }
   },
   "outputs": [
    {
     "data": {
      "image/png": "[encoded data removed]",
      "text/plain": [
       "<Figure size 432x288 with 1 Axes>"
      ]
     },
     "metadata": {
      "needs_background": "light"
     },
     "output_type": "display_data"
    }
   ],
   "source": [
    "plt.scatter(x_coords, y_coords);\n",
    "for i, txt in enumerate(x_coords):\n",
    "    plt.annotate(i, (x_coords[i]+0.01, y_coords[i]-0.1))"
   ]
  },
  {
   "cell_type": "markdown",
   "id": "historical-maple",
   "metadata": {},
   "source": [
    "# End"
   ]
  }
 ],
 "metadata": {
  "kernelspec": {
   "display_name": "claspext",
   "language": "python",
   "name": "claspext"
  },
  "language_info": {
   "codemirror_mode": {
    "name": "ipython",
    "version": 3
   },
   "file_extension": ".py",
   "mimetype": "text/x-python",
   "name": "python",
   "nbconvert_exporter": "python",
   "pygments_lexer": "ipython3",
   "version": "3.8.8"
  },
  "toc": {
   "base_numbering": 1,
   "nav_menu": {},
   "number_sections": true,
   "sideBar": true,
   "skip_h1_title": false,
   "title_cell": "Table of Contents",
   "title_sidebar": "Contents",
   "toc_cell": false,
   "toc_position": {
    "height": "calc(100% - 180px)",
    "left": "10px",
    "top": "150px",
    "width": "217px"
   },
   "toc_section_display": true,
   "toc_window_display": true
  }
 },
 "nbformat": 4,
 "nbformat_minor": 5
}

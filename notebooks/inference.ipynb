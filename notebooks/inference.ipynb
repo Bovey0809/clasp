{
 "cells": [
  {
   "cell_type": "markdown",
   "id": "acute-bargain",
   "metadata": {},
   "source": [
    "# Setup"
   ]
  },
  {
   "cell_type": "code",
   "execution_count": 1,
   "id": "included-sharing",
   "metadata": {
    "ExecuteTime": {
     "end_time": "2021-04-21T19:03:04.080354Z",
     "start_time": "2021-04-21T19:03:03.499880Z"
    }
   },
   "outputs": [],
   "source": [
    "import torch\n",
    "from torch import einsum\n",
    "from torch.utils.data import Dataset, DataLoader\n",
    "import torch.nn.functional as F\n",
    "from clasp import CLASP, Transformer, tokenize, basic_rand_sampler, basic_aa_tokenizer, CLASPDataset\n",
    "from functools import partial\n",
    "from collections import OrderedDict\n",
    "import requests\n",
    "import matplotlib.pyplot as plt"
   ]
  },
  {
   "cell_type": "markdown",
   "id": "decent-curtis",
   "metadata": {},
   "source": [
    "# Instantiate model"
   ]
  },
  {
   "cell_type": "code",
   "execution_count": 2,
   "id": "wrong-delight",
   "metadata": {
    "ExecuteTime": {
     "end_time": "2021-04-21T19:03:04.590625Z",
     "start_time": "2021-04-21T19:03:04.081546Z"
    }
   },
   "outputs": [],
   "source": [
    "text_enc = Transformer(\n",
    "    num_tokens = 49408,\n",
    "    dim = 512,\n",
    "    depth = 6,\n",
    "    seq_len = 1024\n",
    ")\n",
    "\n",
    "bioseq_enc = Transformer(\n",
    "    num_tokens = 23,\n",
    "    dim = 512,\n",
    "    depth = 6,\n",
    "    seq_len = 512,\n",
    "    sparse_attn = False\n",
    ")\n",
    "\n",
    "model = CLASP(\n",
    "    text_encoder = text_enc,\n",
    "    bioseq_encoder = bioseq_enc\n",
    ")"
   ]
  },
  {
   "cell_type": "code",
   "execution_count": 4,
   "id": "bottom-tiffany",
   "metadata": {
    "ExecuteTime": {
     "end_time": "2021-04-21T19:03:28.475651Z",
     "start_time": "2021-04-21T19:03:28.470105Z"
    }
   },
   "outputs": [],
   "source": [
    "path_weights = \"xy/latest.pt\""
   ]
  },
  {
   "cell_type": "code",
   "execution_count": 5,
   "id": "e9324232",
   "metadata": {
    "ExecuteTime": {
     "end_time": "2021-04-21T19:03:28.774901Z",
     "start_time": "2021-04-21T19:03:28.661899Z"
    }
   },
   "outputs": [],
   "source": [
    "ckpt = torch.load(path_weights, map_location=\"cpu\")"
   ]
  },
  {
   "cell_type": "code",
   "execution_count": 6,
   "id": "fbf73756",
   "metadata": {
    "ExecuteTime": {
     "end_time": "2021-04-21T19:03:28.866637Z",
     "start_time": "2021-04-21T19:03:28.852565Z"
    }
   },
   "outputs": [],
   "source": [
    "# this hack seems to be needed, because the model in the ipynb has different weight names?\n",
    "new_ckpt = OrderedDict()\n",
    "for ((kc, vc), ko) in zip(ckpt.items(), model.state_dict().keys()):\n",
    "    new_ckpt[ko] = vc"
   ]
  },
  {
   "cell_type": "code",
   "execution_count": 7,
   "id": "006e3796",
   "metadata": {
    "ExecuteTime": {
     "end_time": "2021-04-21T19:03:29.116022Z",
     "start_time": "2021-04-21T19:03:29.033104Z"
    }
   },
   "outputs": [
    {
     "data": {
      "text/plain": [
       "<All keys matched successfully>"
      ]
     },
     "execution_count": 7,
     "metadata": {},
     "output_type": "execute_result"
    }
   ],
   "source": [
    "model.load_state_dict(new_ckpt)"
   ]
  },
  {
   "cell_type": "code",
   "execution_count": 8,
   "id": "c00bfca6",
   "metadata": {
    "ExecuteTime": {
     "end_time": "2021-04-21T19:03:29.247535Z",
     "start_time": "2021-04-21T19:03:29.237349Z"
    }
   },
   "outputs": [],
   "source": [
    "model.eval();"
   ]
  },
  {
   "cell_type": "code",
   "execution_count": 9,
   "id": "compact-charity",
   "metadata": {
    "ExecuteTime": {
     "end_time": "2021-04-21T19:03:29.434855Z",
     "start_time": "2021-04-21T19:03:29.430001Z"
    }
   },
   "outputs": [],
   "source": [
    "# if you wanto to run it on GPU\n",
    "#device = torch.device(\"cuda:0\")\n",
    "#model.to(device)"
   ]
  },
  {
   "cell_type": "markdown",
   "id": "efficient-candle",
   "metadata": {},
   "source": [
    "# Tokenizer setup"
   ]
  },
  {
   "cell_type": "code",
   "execution_count": 10,
   "id": "twenty-junction",
   "metadata": {
    "ExecuteTime": {
     "end_time": "2021-04-21T19:03:29.829083Z",
     "start_time": "2021-04-21T19:03:29.823880Z"
    }
   },
   "outputs": [],
   "source": [
    "text_sampler = partial(basic_rand_sampler, sample_len=1024)\n",
    "text_tok = partial(tokenize, context_length=1024, return_mask=True)\n",
    "\n",
    "bioseq_sampler = partial(basic_rand_sampler, sample_len=512)\n",
    "bioseq_tok = partial(basic_aa_tokenizer, context_length=512, return_mask=True)"
   ]
  },
  {
   "cell_type": "markdown",
   "id": "shared-destruction",
   "metadata": {},
   "source": [
    "# Query example"
   ]
  },
  {
   "cell_type": "markdown",
   "id": "smooth-growth",
   "metadata": {},
   "source": [
    "## Bioseq"
   ]
  },
  {
   "cell_type": "markdown",
   "id": "focal-fiber",
   "metadata": {},
   "source": [
    "Proteins related query \"blood\":\n",
    "1. https://www.uniprot.org/uniprot/B2RUZ4\n",
    "1. https://www.uniprot.org/uniprot/A0A430QLP7\n",
    "\n",
    "Proteins related to query \"brain\":\n",
    "1. https://www.uniprot.org/uniprot/Q9VGE8\n",
    "1. https://www.uniprot.org/uniprot/Q8C8N3\n",
    "\n",
    "Proteins related to query \"t-cell\":\n",
    "1. https://www.uniprot.org/uniprot/P20963\n",
    "1. https://www.uniprot.org/uniprot/P60568\n",
    "\n",
    "Proteins related to query \"hormones\":\n",
    "1. https://www.uniprot.org/uniprot/P01215\n",
    "1. https://www.uniprot.org/uniprot/O97385\n",
    "\n",
    "Proteins related to query \"virus\":\n",
    "1. https://www.uniprot.org/uniprot/P04298\n",
    "1. https://www.uniprot.org/uniprot/Q8TDQ0"
   ]
  },
  {
   "cell_type": "code",
   "execution_count": 40,
   "id": "nervous-divide",
   "metadata": {
    "ExecuteTime": {
     "end_time": "2021-04-21T19:03:54.413384Z",
     "start_time": "2021-04-21T19:03:54.406964Z"
    }
   },
   "outputs": [],
   "source": [
    "prot_urls = [\"https://www.uniprot.org/uniprot/B2RUZ4.fasta\",\n",
    "             \"https://www.uniprot.org/uniprot/A0A430QLP7.fasta\",\n",
    "             \"https://www.uniprot.org/uniprot/Q9VGE8.fasta\",\n",
    "             \"https://www.uniprot.org/uniprot/Q8C8N3.fasta\",\n",
    "             \"https://www.uniprot.org/uniprot/P20963.fasta\",\n",
    "             \"https://www.uniprot.org/uniprot/P60568.fasta\",\n",
    "             \"https://www.uniprot.org/uniprot/O97385.fasta\",\n",
    "             \"https://www.uniprot.org/uniprot/P04298.fasta\",\n",
    "             \"https://www.uniprot.org/uniprot/Q8TDQ0.fasta\"]"
   ]
  },
  {
   "cell_type": "code",
   "execution_count": 41,
   "id": "checked-links",
   "metadata": {
    "ExecuteTime": {
     "end_time": "2021-04-21T19:03:56.389356Z",
     "start_time": "2021-04-21T19:03:54.547342Z"
    }
   },
   "outputs": [],
   "source": [
    "bioseq_orig =[\"\".join(requests.get(url).text.split(\"\\n\")[1:]) for url in prot_urls]"
   ]
  },
  {
   "cell_type": "code",
   "execution_count": 42,
   "id": "connected-works",
   "metadata": {
    "ExecuteTime": {
     "end_time": "2021-04-21T19:03:56.403374Z",
     "start_time": "2021-04-21T19:03:56.394281Z"
    }
   },
   "outputs": [
    {
     "data": {
      "text/plain": [
       "['MQPQESHVHYSRWEDGSRDGVSLGAVSSTEEASRCRRISQRLCTGKLGIAMKVLGGVALFWIIFILGYLTGYYVHKCK',\n",
       " 'MTLPISLMSINHCDTNIITNGNTNNNHNINNDYNVNHKIMKSLSEYHINEHKQKFHHNLQTNFKEFTCLSQIIKQTNQSAHNSEYKKEVFTSNNDNMKFFQHENEQVIQSQQYYSIPRMNEKPRDLRSHHNCLKQLINSSSPQPFDSSQITSPEDTQFSTSMPTHSSNMSDFPDSKLFHNHTIDHTDLPATTDGSFEAFKILNDPLDLNYTQTEDHMQYRSLHDTIQDGKFPYTKMNSRTISENTSNNSIQPTNIEKSYNQVKSTMSKKQTLTNFDEYPPTPSSSFSQREKISGAKLSFHHISYEVKIQKTLCSKPVIKTILDDVSGILRPGMNALMGPTGSGKSSLLDVLAGRKDPRFLSGKVLIDGRPQPKNFKCISGYVVQDDIVMGTLTVRENLSFSAALRMTMHCTTEERNQKVNDIIDELGLNAVADSKVGTELVRGVSGGERKRTSIGMELITEPPVLFLDEPTTGLDAYMAGQVPFYFIVSGYVCENHNNPPDFFMDVIHGECLRQHGNTSDVQIMDHHDTQERMHLVGQQLIQDWQTSEMAQHVLEEVSSIANRLEKYENGSKKSKDNAVDISFAASYIRQINKVCWRSILNLLRDPLASVIQTIVYLFFALSMGIVYFQMNDSLESGIQNRTGLFYFCTLQVIFVNLATIELFIKERVLFIHESSSGYYQVSVYFFSKILCDIIPTKVLPILFFMPICYWMAGLQKTFGAFMFFELLLCLTTLAAAAIALFISAKNVNTSPFRLMSVRMITPKPRKVFSGFLINLKSMAVWLSWLRYFSIFRYSMGGLLIMEMTTLRFCPMDKSNTTINRQCQNGTTYLEDQEIPYMTGWDLWSNVVGLVVIMIAFYILCYVRLRLLNKYK',\n",
       " 'MRPLSGLIALALLLLLLLTAPSSAADTETESSGSPLTPGAEEPRRVVKRAPTSSFIGMRGKKDEEHDTSEGNWLGSGPDPLDYADEEADSSYAENGRRLKKAPLAFVGLRGKKFIPINNRLSDVLQSLEEERLRDSLLQDFFDRVAGRDGSAVGKRAPTGFTGMRGKRPALLAGDDDAEADEATELQQKRAPVNSFVGMRGKKDVSHQHYKRAALSDSYDLRGKQQRFADFNSKFVAVRGKKSDLEGNGVGIGDDHEQALVHPWLYLWGEKRAPNGFLGMRGKRPALFE',\n",
       " 'MPSSSAMAVGALSSSLLVTCCLMVALCSPSIPLEKLAQAPEQPGQEKREHASRDSPGRVSELGRASRDEGSSARDWKSKGSRALSGREAWSKQKQAWAAQGGSAKAADWQVRPRGDTPQGEPPAAAQEAISLELVPTPELPEEYAYPDYRGKGCVDESGFVYAIGEKFAPGPSACPCLCTEEGPLCAQPECPRLHPRCIHVDNSQCCPQCKEKKNYCEFRGKTYQTLEEFVVSPCERCRCEANGEVLCTVSACPQTECVDPVYEPDQCCPICKNGPNCFAETAVIPAGREVKTDECTICHCTYEEGTWRIERQAMCTRHECRQM',\n",
       " 'MKWKALFTAAILQAQLPITEAQSFGLLDPKLCYLLDGILFIYGVILTALFLRVKFSRSADAPAYQQGQNQLYNELNLGRREEYDVLDKRRGRDPEMGGKPQRRKNPQEGLYNELQKDKMAEAYSEIGMKGERRRGKGHDGLYQGLSTATKDTYDALHMQALPPR',\n",
       " 'MYRMQLLSCIALSLALVTNSAPTSSSTKKTQLQLEHLLLDLQMILNGINNYKNPKLTRMLTFKFYMPKKATELKHLQCLEEELKPLEEVLNLAQSKNFHLRPRDLISNINVIVLELKGSETTFMCEYADETATIVEFLNRWITFCQSIISTLT',\n",
       " 'MIALRLIAVTLVVAMAASTTWARSFNKRANFDPSCAGVYNRELLGRLSRLCDDCYNVFREPKVATECRNNCFYNPVFVQCLEYLIPADLHEEYQAHVQTVGK',\n",
       " 'MDANVVSSSTIATYIDALAKNASELEQRSTAYEINNELELVFIKPPLITLTNVVNISTIQESFIRFTVTNKEGVKIRTKIPLSKVHGLDVKNVQLVDAIDNIVWEKKSLVTENRLHKECLLRLSTEERHIFLDYKKYGSSIRLELVNLIQAKTKNFTIDFKLKYFLGSGAQSKSSLLHAINHPKSRPNTSLEIEFTPRDNETVPYDELIKELTTLSRHIFMASPENVILSPPINAPIKTFMLPKQDIVGLDLENLYAVTKTDGIPITIRVTSNGLYCYFTHLGYIIRYPVKRIIDSEVVVFGEAVKDKNWTVYLIKLIEPVNAINDRLEESKYVESKLVDICDRIVFKSKKYEGPFTTTSEVVDMLSTYLPKQPEGVILFYSKGPKSNIDFKIKKENTIDQTANVVFRYMSSEPIIFGESSIFVEYKKFSNDKGFPKEYGSGKIVLYNGVNYLNNIYCLEYINTHNEVGIKSVVVPIKFIAEFLVNGEILKPRIDKTMKYINSEDYYGNQHNIIVEHLRDQSIKIGDIFNEDKLSDVGHQYANNDKFRLNPEVSYFTNKRTRGPLGILSNYVKTLLISMYCSKTFLDDSNKRKVLAIDFGNGADLEKYFYGEIALLVATDPDADAIARGNERYNKLNSGIKTKYYKFDYIQETIRSDTFVSSVREVFYFGKFNIIDWQFAIHYSFHPRHYATVMNNLSELTASGGKVLITTMDGDKLSKLTDKKTFIIHKNLPSSENYMSVEKIADDRIVVYNPSTMSTPMTEYIIKKNDIVRVFNEYGFVLVDNVDFATIIERSKKFINGASTMEDRPSTRNFFELNRGAIKCEGLDVEDLLSYYVVYVFSKR',\n",
       " 'MFSHLPFDCVLLLLLLLLTRSSEVEYRAEVGQNAYLPCFYTPAAPGNLVPVCWGKGACPVFECGNVVLRTDERDVNYWTSRYWLNGDFRKGDVSLTIENVTLADSGIYCCRIQIPGIMNDEKFNLKLVIKPAKVTPAPTRQRDFTAAFPRMLTTRGHGPAETQTLGSLPDINLTQISTLANELRDSRLANDLRDSGATIRIGIYIGAGICAGLALALIFGALIFKWYSHSKEKIQNLSLISLANLPPSGLANAVAEGIRSEENIYTIEENVYEVEEPNEYYCYVSSRQQPSQPLGCRFAMP']"
      ]
     },
     "execution_count": 42,
     "metadata": {},
     "output_type": "execute_result"
    }
   ],
   "source": [
    "bioseq_orig"
   ]
  },
  {
   "cell_type": "code",
   "execution_count": 43,
   "id": "intelligent-triple",
   "metadata": {
    "ExecuteTime": {
     "end_time": "2021-04-21T19:03:56.418549Z",
     "start_time": "2021-04-21T19:03:56.405619Z"
    }
   },
   "outputs": [
    {
     "data": {
      "text/plain": [
       "[78, 871, 289, 324, 164, 153, 102, 844, 301]"
      ]
     },
     "execution_count": 43,
     "metadata": {},
     "output_type": "execute_result"
    }
   ],
   "source": [
    "[len(s) for s in bioseq_orig]"
   ]
  },
  {
   "cell_type": "code",
   "execution_count": 44,
   "id": "favorite-producer",
   "metadata": {
    "ExecuteTime": {
     "end_time": "2021-04-21T19:03:56.433673Z",
     "start_time": "2021-04-21T19:03:56.423385Z"
    }
   },
   "outputs": [],
   "source": [
    "bioseq_ = [bioseq_tok(bioseq_sampler(s)) for s in bioseq_orig]"
   ]
  },
  {
   "cell_type": "code",
   "execution_count": 45,
   "id": "toxic-leather",
   "metadata": {
    "ExecuteTime": {
     "end_time": "2021-04-21T19:03:56.445324Z",
     "start_time": "2021-04-21T19:03:56.438240Z"
    }
   },
   "outputs": [
    {
     "data": {
      "text/plain": [
       "(tensor([[10, 14, 13,  ...,  0,  0,  0],\n",
       "         [10,  8,  4,  ..., 13,  9,  0],\n",
       "         [10, 15, 13,  ...,  0,  0,  0],\n",
       "         ...,\n",
       "         [10,  7,  0,  ...,  0,  0,  0],\n",
       "         [ 4, 10,  9,  ...,  7, 19, 19],\n",
       "         [10,  4, 16,  ...,  0,  0,  0]]),\n",
       " tensor([[ True,  True,  True,  ..., False, False, False],\n",
       "         [ True,  True,  True,  ...,  True,  True,  True],\n",
       "         [ True,  True,  True,  ..., False, False, False],\n",
       "         ...,\n",
       "         [ True,  True,  True,  ..., False, False, False],\n",
       "         [ True,  True,  True,  ...,  True,  True,  True],\n",
       "         [ True,  True,  True,  ..., False, False, False]]))"
      ]
     },
     "execution_count": 45,
     "metadata": {},
     "output_type": "execute_result"
    }
   ],
   "source": [
    "bioseq, bioseq_mask = list(zip(*bioseq_))\n",
    "bioseq      = torch.cat([s.unsqueeze(0) for s in bioseq])\n",
    "bioseq_mask = torch.cat([s.unsqueeze(0) for s in bioseq_mask])\n",
    "bioseq, bioseq_mask"
   ]
  },
  {
   "cell_type": "code",
   "execution_count": 46,
   "id": "incorrect-overall",
   "metadata": {
    "ExecuteTime": {
     "end_time": "2021-04-21T19:03:56.449482Z",
     "start_time": "2021-04-21T19:03:56.446435Z"
    }
   },
   "outputs": [
    {
     "data": {
      "text/plain": [
       "(torch.Size([9, 512]), torch.Size([9, 512]))"
      ]
     },
     "execution_count": 46,
     "metadata": {},
     "output_type": "execute_result"
    }
   ],
   "source": [
    "bioseq.shape, bioseq_mask.shape"
   ]
  },
  {
   "cell_type": "code",
   "execution_count": 47,
   "id": "excess-camel",
   "metadata": {
    "ExecuteTime": {
     "end_time": "2021-04-21T19:03:57.811708Z",
     "start_time": "2021-04-21T19:03:56.450505Z"
    }
   },
   "outputs": [
    {
     "data": {
      "text/plain": [
       "torch.Size([9, 512])"
      ]
     },
     "execution_count": 47,
     "metadata": {},
     "output_type": "execute_result"
    }
   ],
   "source": [
    "bioseq_out = model.bioseq_encoder(bioseq, mask=bioseq_mask)\n",
    "bioseq_out.shape"
   ]
  },
  {
   "cell_type": "markdown",
   "id": "interesting-ceramic",
   "metadata": {},
   "source": [
    "## Text"
   ]
  },
  {
   "cell_type": "markdown",
   "id": "84defaae",
   "metadata": {},
   "source": [
    "Change here the text query:"
   ]
  },
  {
   "cell_type": "code",
   "execution_count": 48,
   "id": "89e6362e",
   "metadata": {
    "ExecuteTime": {
     "end_time": "2021-04-21T19:04:01.766785Z",
     "start_time": "2021-04-21T19:04:01.763978Z"
    }
   },
   "outputs": [],
   "source": [
    "#text_orig = \"protein that is present in the blood\"\n",
    "text_orig = \"blood cells blood stream nutrition\"\n",
    "#text_orig = \"brain neurology nerve cells\"\n",
    "#text_orig = \"proteins that play a role in the blood transport\"\n",
    "#text_orig = \"hormone regulation and similar functions\"\n",
    "#text_orig = \"immune system and antigen processing\"\n",
    "#text_orig = \"viral infection and replication\""
   ]
  },
  {
   "cell_type": "code",
   "execution_count": 49,
   "id": "numerous-volleyball",
   "metadata": {
    "ExecuteTime": {
     "end_time": "2021-04-21T19:04:01.957633Z",
     "start_time": "2021-04-21T19:04:01.947196Z"
    }
   },
   "outputs": [
    {
     "data": {
      "text/plain": [
       "(tensor([[3590, 8890, 3590,  ...,    0,    0,    0]]),\n",
       " tensor([[ True,  True,  True,  ..., False, False, False]]))"
      ]
     },
     "execution_count": 49,
     "metadata": {},
     "output_type": "execute_result"
    }
   ],
   "source": [
    "text, text_mask = text_tok(text_orig)\n",
    "text, text_mask"
   ]
  },
  {
   "cell_type": "code",
   "execution_count": 50,
   "id": "critical-instruction",
   "metadata": {
    "ExecuteTime": {
     "end_time": "2021-04-21T19:04:02.390861Z",
     "start_time": "2021-04-21T19:04:02.139243Z"
    }
   },
   "outputs": [
    {
     "data": {
      "text/plain": [
       "torch.Size([1, 512])"
      ]
     },
     "execution_count": 50,
     "metadata": {},
     "output_type": "execute_result"
    }
   ],
   "source": [
    "text_out = model.text_encoder(text, mask=text_mask)\n",
    "text_out.shape"
   ]
  },
  {
   "cell_type": "markdown",
   "id": "tender-combine",
   "metadata": {},
   "source": [
    "## Similarity"
   ]
  },
  {
   "cell_type": "code",
   "execution_count": 51,
   "id": "latin-output",
   "metadata": {
    "ExecuteTime": {
     "end_time": "2021-04-21T19:04:02.612942Z",
     "start_time": "2021-04-21T19:04:02.605407Z"
    }
   },
   "outputs": [],
   "source": [
    "text_out_norm = F.normalize(text_out, p=2, dim =-1)\n",
    "bioseq_out_norm = F.normalize(bioseq_out, p=2, dim =-1)"
   ]
  },
  {
   "cell_type": "code",
   "execution_count": 52,
   "id": "advanced-allocation",
   "metadata": {
    "ExecuteTime": {
     "end_time": "2021-04-21T19:04:02.914241Z",
     "start_time": "2021-04-21T19:04:02.816361Z"
    }
   },
   "outputs": [
    {
     "data": {
      "text/plain": [
       "[0.06864210218191147,\n",
       " 0.07336428761482239,\n",
       " 0.03554559871554375,\n",
       " 0.013657044619321823,\n",
       " 0.037616245448589325,\n",
       " 0.02798568829894066,\n",
       " 0.03425944596529007,\n",
       " 0.061149779707193375,\n",
       " 0.04801230877637863]"
      ]
     },
     "execution_count": 52,
     "metadata": {},
     "output_type": "execute_result"
    }
   ],
   "source": [
    "sim = einsum('n d, n d -> n', text_out_norm, bioseq_out_norm)\n",
    "sim.tolist()"
   ]
  },
  {
   "cell_type": "code",
   "execution_count": 53,
   "id": "enclosed-privacy",
   "metadata": {
    "ExecuteTime": {
     "end_time": "2021-04-21T19:04:03.182343Z",
     "start_time": "2021-04-21T19:04:03.066808Z"
    }
   },
   "outputs": [
    {
     "data": {
      "image/png": "[encoded data removed]",
      "text/plain": [
       "<Figure size 432x288 with 1 Axes>"
      ]
     },
     "metadata": {
      "needs_background": "light"
     },
     "output_type": "display_data"
    }
   ],
   "source": [
    "plt.imshow(sim.data.unsqueeze(0).numpy(), cmap=\"turbo\");"
   ]
  },
  {
   "cell_type": "code",
   "execution_count": 54,
   "id": "lonely-marks",
   "metadata": {
    "ExecuteTime": {
     "end_time": "2021-04-21T19:04:04.037119Z",
     "start_time": "2021-04-21T19:04:03.954903Z"
    }
   },
   "outputs": [
    {
     "data": {
      "image/png": "[encoded data removed]",
      "text/plain": [
       "<Figure size 432x288 with 1 Axes>"
      ]
     },
     "metadata": {
      "needs_background": "light"
     },
     "output_type": "display_data"
    }
   ],
   "source": [
    "plt.imshow(sim.data.unsqueeze(0).numpy(), cmap=\"turbo\", vmin=-1., vmax=1.);"
   ]
  },
  {
   "cell_type": "markdown",
   "id": "stopped-president",
   "metadata": {},
   "source": [
    "# Citric acid cycle"
   ]
  },
  {
   "cell_type": "markdown",
   "id": "periodic-calculation",
   "metadata": {},
   "source": [
    "The [citric acid cycle](https://en.wikipedia.org/wiki/Citric_acid_cycle) is a very import chain of reactions in cells and we use the sequences of some of the [involved enzymes](https://en.wikipedia.org/wiki/Citric_acid_cycle#Steps) to look for interesting relationships in the high-dimensional embedding space.\n",
    "\n",
    "1. Citrate synthase, https://www.uniprot.org/uniprot/O75390\n",
    "1. Cytoplasmic aconitate hydratase, https://www.uniprot.org/uniprot/P21399\n",
    "1. Isocitrate dehydrogenase NADP cytoplasmic, https://www.uniprot.org/uniprot/O75874\n",
    "1. Fumarate hydratase mitochondrial, https://www.uniprot.org/uniprot/P07954\n",
    "1. Malate dehydrogenase cytoplasmic, https://www.uniprot.org/uniprot/P40925"
   ]
  },
  {
   "cell_type": "code",
   "execution_count": 26,
   "id": "planned-helmet",
   "metadata": {
    "ExecuteTime": {
     "end_time": "2021-04-21T19:03:35.092324Z",
     "start_time": "2021-04-21T19:03:35.086399Z"
    }
   },
   "outputs": [],
   "source": [
    "cca_urls = [\"https://www.uniprot.org/uniprot/O75390.fasta\",\n",
    "            \"https://www.uniprot.org/uniprot/P21399.fasta\",\n",
    "            \"https://www.uniprot.org/uniprot/O75874.fasta\",\n",
    "            \"https://www.uniprot.org/uniprot/P07954.fasta\",\n",
    "            \"https://www.uniprot.org/uniprot/P40925.fasta\"]"
   ]
  },
  {
   "cell_type": "code",
   "execution_count": 27,
   "id": "crazy-whale",
   "metadata": {
    "ExecuteTime": {
     "end_time": "2021-04-21T19:03:38.185228Z",
     "start_time": "2021-04-21T19:03:35.305776Z"
    }
   },
   "outputs": [],
   "source": [
    "# we also add the proteins from above to see if the cca proteins are clustered together\n",
    "cca_seq =[\"\".join(requests.get(url).text.split(\"\\n\")[1:]) for url in cca_urls+prot_urls]"
   ]
  },
  {
   "cell_type": "code",
   "execution_count": 28,
   "id": "constant-possible",
   "metadata": {
    "ExecuteTime": {
     "end_time": "2021-04-21T19:03:38.200972Z",
     "start_time": "2021-04-21T19:03:38.191028Z"
    }
   },
   "outputs": [
    {
     "data": {
      "text/plain": [
       "['MALLTAAARLLGTKNASCLVLAARHASASSTNLKDILADLIPKEQARIKTFRQQHGKTVVGQITVDMMYGGMRGMKGLVYETSVLDPDEGIRFRGFSIPECQKLLPKAKGGEEPLPEGLFWLLVTGHIPTEEQVSWLSKEWAKRAALPSHVVTMLDNFPTNLHPMSQLSAAVTALNSESNFARAYAQGISRTKYWELIYEDSMDLIAKLPCVAAKIYRNLYREGSGIGAIDSNLDWSHNFTNMLGYTDHQFTELTRLYLTIHSDHEGGNVSAHTSHLVGSALSDPYLSFAAAMNGLAGPLHGLANQEVLVWLTQLQKEVGKDVSDEKLRDYIWNTLNSGRVVPGYGHAVLRKTDPRYTCQREFALKHLPNDPMFKLVAQLYKIVPNVLLEQGKAKNPWPNVDAHSGVLLQYYGMTEMNYYTVLFGVSRALGVLAQLIWSRALGFPLERPKSMSTEGLMKFVDSKSG',\n",
       " 'MSNPFAHLAEPLDPVQPGKKFFNLNKLEDSRYGRLPFSIRVLLEAAIRNCDEFLVKKQDIENILHWNVTQHKNIEVPFKPARVILQDFTGVPAVVDFAAMRDAVKKLGGDPEKINPVCPADLVIDHSIQVDFNRRADSLQKNQDLEFERNRERFEFLKWGSQAFHNMRIIPPGSGIIHQVNLEYLARVVFDQDGYYYPDSLVGTDSHTTMIDGLGILGWGVGGIEAEAVMLGQPISMVLPQVIGYRLMGKPHPLVTSTDIVLTITKHLRQVGVVGKFVEFFGPGVAQLSIADRATIANMCPEYGATAAFFPVDEVSITYLVQTGRDEEKLKYIKKYLQAVGMFRDFNDPSQDPDFTQVVELDLKTVVPCCSGPKRPQDKVAVSDMKKDFESCLGAKQGFKGFQVAPEHHNDHKTFIYDNTEFTLAHGSVVIAAITSCTNTSNPSVMLGAGLLAKKAVDAGLNVMPYIKTSLSPGSGVVTYYLQESGVMPYLSQLGFDVVGYGCMTCIGNSGPLPEPVVEAITQGDLVAVGVLSGNRNFEGRVHPNTRANYLASPPLVIAYAIAGTIRIDFEKEPLGVNAKGQQVFLKDIWPTRDEIQAVERQYVIPGMFKEVYQKIETVNESWNALATPSDKLFFWNSKSTYIKSPPFFENLTLDLQPPKSIVDAYVLLNLGDSVTTDHISPAGNIARNSPAARYLTNRGLTPREFNSYGSRRGNDAVMARGTFANIRLLNRFLNKQAPQTIHLPSGEILDVFDAAERYQQAGLPLIVLAGKEYGAGSSRDWAAKGPFLLGIKAVLAESYERIHRSNLVGMGVIPLEYLPGENADALGLTGQERYTIIIPENLKPQMKVQVKLDTGKTFQAVMRFDTDVELTYFLNGGILNYMIRKMAK',\n",
       " 'MSKKISGGSVVEMQGDEMTRIIWELIKEKLIFPYVELDLHSYDLGIENRDATNDQVTKDAAEAIKKHNVGVKCATITPDEKRVEEFKLKQMWKSPNGTIRNILGGTVFREAIICKNIPRLVSGWVKPIIIGRHAYGDQYRATDFVVPGPGKVEITYTPSDGTQKVTYLVHNFEEGGGVAMGMYNQDKSIEDFAHSSFQMALSKGWPLYLSTKNTILKKYDGRFKDIFQEIYDKQYKSQFEAQKIWYEHRLIDDMVAQAMKSEGGFIWACKNYDGDVQSDSVAQGYGSLGMMTSVLVCPDGKTVEAEAAHGTVTRHYRMYQKGQETSTNPIASIFAWTRGLAHRAKLDNNKELAFFANALEEVSIETIEAGFMTKDLAACIKGLPNVQRSDYLNTFEFMDKLGENLKIKLAQAKL',\n",
       " 'MYRALRLLARSRPLVRAPAAALASAPGLGGAAVPSFWPPNAARMASQNSFRIEYDTFGELKVPNDKYYGAQTVRSTMNFKIGGVTERMPTPVIKAFGILKRAAAEVNQDYGLDPKIANAIMKAADEVAEGKLNDHFPLVVWQTGSGTQTNMNVNEVISNRAIEMLGGELGSKIPVHPNDHVNKSQSSNDTFPTAMHIAAAIEVHEVLLPGLQKLHDALDAKSKEFAQIIKIGRTHTQDAVPLTLGQEFSGYVQQVKYAMTRIKAAMPRIYELAAGGTAVGTGLNTRIGFAEKVAAKVAALTGLPFVTAPNKFEALAAHDALVELSGAMNTTACSLMKIANDIRFLGSGPRSGLGELILPENEPGSSIMPGKVNPTQCEAMTMVAAQVMGNHVAVTVGGSNGHFELNVFKPMMIKNVLHSARLLGDASVSFTENCVVGIQANTERINKLMNESLMLVTALNPHIGYDKAAKIAKTAHKNGSTLKETAIELGYLTAEQFDEWVKPKDMLGPK',\n",
       " 'MSEPIRVLVTGAAGQIAYSLLYSIGNGSVFGKDQPIILVLLDITPMMGVLDGVLMELQDCALPLLKDVIATDKEDVAFKDLDVAILVGSMPRREGMERKDLLKANVKIFKSQGAALDKYAKKSVKVIVVGNPANTNCLTASKSAPSIPKENFSCLTRLDHNRAKAQIALKLGVTANDVKNVIIWGNHSSTQYPDVNHAKVKLQGKEVGVYEALKDDSWLKGEFVTTVQQRGAAVIKARKLSSAMSAAKAICDHVRDIWFGTPEGEFVSMGVISDGNSYGVPDDLLYSFPVVIKNKTWKFVEGLPINDFSREKMDLTAKELTEEKESAFEFLSSA',\n",
       " 'MQPQESHVHYSRWEDGSRDGVSLGAVSSTEEASRCRRISQRLCTGKLGIAMKVLGGVALFWIIFILGYLTGYYVHKCK',\n",
       " 'MTLPISLMSINHCDTNIITNGNTNNNHNINNDYNVNHKIMKSLSEYHINEHKQKFHHNLQTNFKEFTCLSQIIKQTNQSAHNSEYKKEVFTSNNDNMKFFQHENEQVIQSQQYYSIPRMNEKPRDLRSHHNCLKQLINSSSPQPFDSSQITSPEDTQFSTSMPTHSSNMSDFPDSKLFHNHTIDHTDLPATTDGSFEAFKILNDPLDLNYTQTEDHMQYRSLHDTIQDGKFPYTKMNSRTISENTSNNSIQPTNIEKSYNQVKSTMSKKQTLTNFDEYPPTPSSSFSQREKISGAKLSFHHISYEVKIQKTLCSKPVIKTILDDVSGILRPGMNALMGPTGSGKSSLLDVLAGRKDPRFLSGKVLIDGRPQPKNFKCISGYVVQDDIVMGTLTVRENLSFSAALRMTMHCTTEERNQKVNDIIDELGLNAVADSKVGTELVRGVSGGERKRTSIGMELITEPPVLFLDEPTTGLDAYMAGQVPFYFIVSGYVCENHNNPPDFFMDVIHGECLRQHGNTSDVQIMDHHDTQERMHLVGQQLIQDWQTSEMAQHVLEEVSSIANRLEKYENGSKKSKDNAVDISFAASYIRQINKVCWRSILNLLRDPLASVIQTIVYLFFALSMGIVYFQMNDSLESGIQNRTGLFYFCTLQVIFVNLATIELFIKERVLFIHESSSGYYQVSVYFFSKILCDIIPTKVLPILFFMPICYWMAGLQKTFGAFMFFELLLCLTTLAAAAIALFISAKNVNTSPFRLMSVRMITPKPRKVFSGFLINLKSMAVWLSWLRYFSIFRYSMGGLLIMEMTTLRFCPMDKSNTTINRQCQNGTTYLEDQEIPYMTGWDLWSNVVGLVVIMIAFYILCYVRLRLLNKYK',\n",
       " 'MRPLSGLIALALLLLLLLTAPSSAADTETESSGSPLTPGAEEPRRVVKRAPTSSFIGMRGKKDEEHDTSEGNWLGSGPDPLDYADEEADSSYAENGRRLKKAPLAFVGLRGKKFIPINNRLSDVLQSLEEERLRDSLLQDFFDRVAGRDGSAVGKRAPTGFTGMRGKRPALLAGDDDAEADEATELQQKRAPVNSFVGMRGKKDVSHQHYKRAALSDSYDLRGKQQRFADFNSKFVAVRGKKSDLEGNGVGIGDDHEQALVHPWLYLWGEKRAPNGFLGMRGKRPALFE',\n",
       " 'MPSSSAMAVGALSSSLLVTCCLMVALCSPSIPLEKLAQAPEQPGQEKREHASRDSPGRVSELGRASRDEGSSARDWKSKGSRALSGREAWSKQKQAWAAQGGSAKAADWQVRPRGDTPQGEPPAAAQEAISLELVPTPELPEEYAYPDYRGKGCVDESGFVYAIGEKFAPGPSACPCLCTEEGPLCAQPECPRLHPRCIHVDNSQCCPQCKEKKNYCEFRGKTYQTLEEFVVSPCERCRCEANGEVLCTVSACPQTECVDPVYEPDQCCPICKNGPNCFAETAVIPAGREVKTDECTICHCTYEEGTWRIERQAMCTRHECRQM',\n",
       " 'MKWKALFTAAILQAQLPITEAQSFGLLDPKLCYLLDGILFIYGVILTALFLRVKFSRSADAPAYQQGQNQLYNELNLGRREEYDVLDKRRGRDPEMGGKPQRRKNPQEGLYNELQKDKMAEAYSEIGMKGERRRGKGHDGLYQGLSTATKDTYDALHMQALPPR',\n",
       " 'MYRMQLLSCIALSLALVTNSAPTSSSTKKTQLQLEHLLLDLQMILNGINNYKNPKLTRMLTFKFYMPKKATELKHLQCLEEELKPLEEVLNLAQSKNFHLRPRDLISNINVIVLELKGSETTFMCEYADETATIVEFLNRWITFCQSIISTLT',\n",
       " 'MIALRLIAVTLVVAMAASTTWARSFNKRANFDPSCAGVYNRELLGRLSRLCDDCYNVFREPKVATECRNNCFYNPVFVQCLEYLIPADLHEEYQAHVQTVGK',\n",
       " 'MDANVVSSSTIATYIDALAKNASELEQRSTAYEINNELELVFIKPPLITLTNVVNISTIQESFIRFTVTNKEGVKIRTKIPLSKVHGLDVKNVQLVDAIDNIVWEKKSLVTENRLHKECLLRLSTEERHIFLDYKKYGSSIRLELVNLIQAKTKNFTIDFKLKYFLGSGAQSKSSLLHAINHPKSRPNTSLEIEFTPRDNETVPYDELIKELTTLSRHIFMASPENVILSPPINAPIKTFMLPKQDIVGLDLENLYAVTKTDGIPITIRVTSNGLYCYFTHLGYIIRYPVKRIIDSEVVVFGEAVKDKNWTVYLIKLIEPVNAINDRLEESKYVESKLVDICDRIVFKSKKYEGPFTTTSEVVDMLSTYLPKQPEGVILFYSKGPKSNIDFKIKKENTIDQTANVVFRYMSSEPIIFGESSIFVEYKKFSNDKGFPKEYGSGKIVLYNGVNYLNNIYCLEYINTHNEVGIKSVVVPIKFIAEFLVNGEILKPRIDKTMKYINSEDYYGNQHNIIVEHLRDQSIKIGDIFNEDKLSDVGHQYANNDKFRLNPEVSYFTNKRTRGPLGILSNYVKTLLISMYCSKTFLDDSNKRKVLAIDFGNGADLEKYFYGEIALLVATDPDADAIARGNERYNKLNSGIKTKYYKFDYIQETIRSDTFVSSVREVFYFGKFNIIDWQFAIHYSFHPRHYATVMNNLSELTASGGKVLITTMDGDKLSKLTDKKTFIIHKNLPSSENYMSVEKIADDRIVVYNPSTMSTPMTEYIIKKNDIVRVFNEYGFVLVDNVDFATIIERSKKFINGASTMEDRPSTRNFFELNRGAIKCEGLDVEDLLSYYVVYVFSKR',\n",
       " 'MFSHLPFDCVLLLLLLLLTRSSEVEYRAEVGQNAYLPCFYTPAAPGNLVPVCWGKGACPVFECGNVVLRTDERDVNYWTSRYWLNGDFRKGDVSLTIENVTLADSGIYCCRIQIPGIMNDEKFNLKLVIKPAKVTPAPTRQRDFTAAFPRMLTTRGHGPAETQTLGSLPDINLTQISTLANELRDSRLANDLRDSGATIRIGIYIGAGICAGLALALIFGALIFKWYSHSKEKIQNLSLISLANLPPSGLANAVAEGIRSEENIYTIEENVYEVEEPNEYYCYVSSRQQPSQPLGCRFAMP']"
      ]
     },
     "execution_count": 28,
     "metadata": {},
     "output_type": "execute_result"
    }
   ],
   "source": [
    "cca_seq"
   ]
  },
  {
   "cell_type": "code",
   "execution_count": 29,
   "id": "significant-charm",
   "metadata": {
    "ExecuteTime": {
     "end_time": "2021-04-21T19:03:38.217327Z",
     "start_time": "2021-04-21T19:03:38.206445Z"
    }
   },
   "outputs": [
    {
     "data": {
      "text/plain": [
       "[466, 889, 414, 510, 334, 78, 871, 289, 324, 164, 153, 102, 844, 301]"
      ]
     },
     "execution_count": 29,
     "metadata": {},
     "output_type": "execute_result"
    }
   ],
   "source": [
    "[len(s) for s in cca_seq]"
   ]
  },
  {
   "cell_type": "code",
   "execution_count": 30,
   "id": "floating-software",
   "metadata": {
    "ExecuteTime": {
     "end_time": "2021-04-21T19:03:38.233335Z",
     "start_time": "2021-04-21T19:03:38.222236Z"
    }
   },
   "outputs": [],
   "source": [
    "bioseq_ = [bioseq_tok(bioseq_sampler(s)) for s in cca_seq]"
   ]
  },
  {
   "cell_type": "code",
   "execution_count": 31,
   "id": "measured-private",
   "metadata": {
    "ExecuteTime": {
     "end_time": "2021-04-21T19:03:38.248582Z",
     "start_time": "2021-04-21T19:03:38.236587Z"
    }
   },
   "outputs": [
    {
     "data": {
      "text/plain": [
       "(tensor([[10,  0,  9,  ...,  0,  0,  0],\n",
       "         [ 5, 10,  4,  ..., 14, 19,  8],\n",
       "         [10, 16,  8,  ...,  0,  0,  0],\n",
       "         ...,\n",
       "         [10,  7,  0,  ...,  0,  0,  0],\n",
       "         [16,  9,  9,  ..., 16,  4,  6],\n",
       "         [10,  4, 16,  ...,  0,  0,  0]]),\n",
       " tensor([[ True,  True,  True,  ..., False, False, False],\n",
       "         [ True,  True,  True,  ...,  True,  True,  True],\n",
       "         [ True,  True,  True,  ..., False, False, False],\n",
       "         ...,\n",
       "         [ True,  True,  True,  ..., False, False, False],\n",
       "         [ True,  True,  True,  ...,  True,  True,  True],\n",
       "         [ True,  True,  True,  ..., False, False, False]]))"
      ]
     },
     "execution_count": 31,
     "metadata": {},
     "output_type": "execute_result"
    }
   ],
   "source": [
    "bioseq, bioseq_mask = list(zip(*bioseq_))\n",
    "bioseq      = torch.cat([s.unsqueeze(0) for s in bioseq])\n",
    "bioseq_mask = torch.cat([s.unsqueeze(0) for s in bioseq_mask])\n",
    "bioseq, bioseq_mask"
   ]
  },
  {
   "cell_type": "code",
   "execution_count": 32,
   "id": "suitable-adapter",
   "metadata": {
    "ExecuteTime": {
     "end_time": "2021-04-21T19:03:38.258305Z",
     "start_time": "2021-04-21T19:03:38.251623Z"
    }
   },
   "outputs": [
    {
     "data": {
      "text/plain": [
       "(torch.Size([14, 512]), torch.Size([14, 512]))"
      ]
     },
     "execution_count": 32,
     "metadata": {},
     "output_type": "execute_result"
    }
   ],
   "source": [
    "bioseq.shape, bioseq_mask.shape"
   ]
  },
  {
   "cell_type": "code",
   "execution_count": 33,
   "id": "painful-means",
   "metadata": {
    "ExecuteTime": {
     "end_time": "2021-04-21T19:03:39.553902Z",
     "start_time": "2021-04-21T19:03:38.261485Z"
    }
   },
   "outputs": [
    {
     "data": {
      "text/plain": [
       "torch.Size([14, 512])"
      ]
     },
     "execution_count": 33,
     "metadata": {},
     "output_type": "execute_result"
    }
   ],
   "source": [
    "bioseq_out = model.bioseq_encoder(bioseq, mask=bioseq_mask)\n",
    "bioseq_out.shape"
   ]
  },
  {
   "cell_type": "code",
   "execution_count": 34,
   "id": "synthetic-brooks",
   "metadata": {
    "ExecuteTime": {
     "end_time": "2021-04-21T19:03:39.557975Z",
     "start_time": "2021-04-21T19:03:39.555310Z"
    }
   },
   "outputs": [],
   "source": [
    "u, s, v = torch.svd(bioseq_out)"
   ]
  },
  {
   "cell_type": "code",
   "execution_count": 35,
   "id": "fitting-channel",
   "metadata": {
    "ExecuteTime": {
     "end_time": "2021-04-21T19:03:39.569431Z",
     "start_time": "2021-04-21T19:03:39.559043Z"
    }
   },
   "outputs": [
    {
     "data": {
      "text/plain": [
       "tensor([14.7837,  5.3171,  3.8008,  3.3596,  3.0461,  2.9466,  2.4739,  2.2731,\n",
       "         1.9248,  1.7428,  1.6701,  1.5164,  1.3612,  1.0183],\n",
       "       grad_fn=<SvdHelperBackward>)"
      ]
     },
     "execution_count": 35,
     "metadata": {},
     "output_type": "execute_result"
    }
   ],
   "source": [
    "#u, s, v\n",
    "s"
   ]
  },
  {
   "cell_type": "code",
   "execution_count": 36,
   "id": "chief-density",
   "metadata": {
    "ExecuteTime": {
     "end_time": "2021-04-21T19:03:39.574227Z",
     "start_time": "2021-04-21T19:03:39.570408Z"
    }
   },
   "outputs": [
    {
     "data": {
      "text/plain": [
       "(torch.Size([14, 14]), torch.Size([14]), torch.Size([512, 14]))"
      ]
     },
     "execution_count": 36,
     "metadata": {},
     "output_type": "execute_result"
    }
   ],
   "source": [
    "u.shape, s.shape, v.shape"
   ]
  },
  {
   "cell_type": "code",
   "execution_count": 37,
   "id": "aquatic-kernel",
   "metadata": {
    "ExecuteTime": {
     "end_time": "2021-04-21T19:03:39.579509Z",
     "start_time": "2021-04-21T19:03:39.575054Z"
    }
   },
   "outputs": [
    {
     "data": {
      "text/plain": [
       "(torch.Size([14, 512]), torch.Size([1, 512]))"
      ]
     },
     "execution_count": 37,
     "metadata": {},
     "output_type": "execute_result"
    }
   ],
   "source": [
    "bioseq_out.shape, v.t()[0].unsqueeze(0).shape"
   ]
  },
  {
   "cell_type": "code",
   "execution_count": 38,
   "id": "occupied-milwaukee",
   "metadata": {
    "ExecuteTime": {
     "end_time": "2021-04-21T19:03:39.583933Z",
     "start_time": "2021-04-21T19:03:39.580421Z"
    }
   },
   "outputs": [],
   "source": [
    "# project on the top-2 eigenvectors\n",
    "x_coords = einsum(\"id, jd -> ij\", bioseq_out, v.t()[0].unsqueeze(0)).data\n",
    "y_coords = einsum(\"id, jd -> ij\", bioseq_out, v.t()[1].unsqueeze(0)).data"
   ]
  },
  {
   "cell_type": "code",
   "execution_count": 39,
   "id": "electronic-divide",
   "metadata": {
    "ExecuteTime": {
     "end_time": "2021-04-21T19:03:39.704141Z",
     "start_time": "2021-04-21T19:03:39.584871Z"
    }
   },
   "outputs": [
    {
     "data": {
      "image/png": "[encoded data removed]",
      "text/plain": [
       "<Figure size 432x288 with 1 Axes>"
      ]
     },
     "metadata": {
      "needs_background": "light"
     },
     "output_type": "display_data"
    }
   ],
   "source": [
    "plt.scatter(x_coords, y_coords);\n",
    "for i, txt in enumerate(x_coords):\n",
    "    plt.annotate(i, (x_coords[i]+0.025, y_coords[i]-0.2))"
   ]
  },
  {
   "cell_type": "markdown",
   "id": "historical-maple",
   "metadata": {},
   "source": [
    "# End"
   ]
  }
 ],
 "metadata": {
  "kernelspec": {
   "display_name": "claspext",
   "language": "python",
   "name": "claspext"
  },
  "language_info": {
   "codemirror_mode": {
    "name": "ipython",
    "version": 3
   },
   "file_extension": ".py",
   "mimetype": "text/x-python",
   "name": "python",
   "nbconvert_exporter": "python",
   "pygments_lexer": "ipython3",
   "version": "3.8.8"
  },
  "toc": {
   "base_numbering": 1,
   "nav_menu": {},
   "number_sections": true,
   "sideBar": true,
   "skip_h1_title": false,
   "title_cell": "Table of Contents",
   "title_sidebar": "Contents",
   "toc_cell": false,
   "toc_position": {
    "height": "calc(100% - 180px)",
    "left": "10px",
    "top": "150px",
    "width": "288px"
   },
   "toc_section_display": true,
   "toc_window_display": true
  }
 },
 "nbformat": 4,
 "nbformat_minor": 5
}

{
 "cells": [
  {
   "cell_type": "markdown",
   "id": "acute-bargain",
   "metadata": {},
   "source": [
    "# Setup"
   ]
  },
  {
   "cell_type": "code",
   "execution_count": 1,
   "id": "included-sharing",
   "metadata": {
    "ExecuteTime": {
     "end_time": "2021-04-21T18:52:52.833205Z",
     "start_time": "2021-04-21T18:52:52.257628Z"
    }
   },
   "outputs": [],
   "source": [
    "import torch\n",
    "from torch import einsum\n",
    "from torch.utils.data import Dataset, DataLoader\n",
    "import torch.nn.functional as F\n",
    "from clasp import CLASP, Transformer, tokenize, basic_rand_sampler, basic_aa_tokenizer, CLASPDataset\n",
    "from functools import partial\n",
    "from collections import OrderedDict\n",
    "import requests\n",
    "import matplotlib.pyplot as plt"
   ]
  },
  {
   "cell_type": "markdown",
   "id": "decent-curtis",
   "metadata": {},
   "source": [
    "# Instantiate model"
   ]
  },
  {
   "cell_type": "code",
   "execution_count": 2,
   "id": "wrong-delight",
   "metadata": {
    "ExecuteTime": {
     "end_time": "2021-04-21T18:52:54.767202Z",
     "start_time": "2021-04-21T18:52:54.257695Z"
    }
   },
   "outputs": [],
   "source": [
    "text_enc = Transformer(\n",
    "    num_tokens = 49408,\n",
    "    dim = 512,\n",
    "    depth = 6,\n",
    "    seq_len = 1024\n",
    ")\n",
    "\n",
    "bioseq_enc = Transformer(\n",
    "    num_tokens = 23,\n",
    "    dim = 512,\n",
    "    depth = 6,\n",
    "    seq_len = 512,\n",
    "    sparse_attn = False\n",
    ")\n",
    "\n",
    "model = CLASP(\n",
    "    text_encoder = text_enc,\n",
    "    bioseq_encoder = bioseq_enc\n",
    ")"
   ]
  },
  {
   "cell_type": "code",
   "execution_count": 4,
   "id": "bottom-tiffany",
   "metadata": {
    "ExecuteTime": {
     "end_time": "2021-04-21T18:36:25.843176Z",
     "start_time": "2021-04-21T18:36:25.841435Z"
    }
   },
   "outputs": [],
   "source": [
    "path_weights = \"xy/latest.pt\""
   ]
  },
  {
   "cell_type": "code",
   "execution_count": 9,
   "id": "e9324232",
   "metadata": {
    "ExecuteTime": {
     "end_time": "2021-04-21T18:36:49.163176Z",
     "start_time": "2021-04-21T18:36:49.044916Z"
    }
   },
   "outputs": [],
   "source": [
    "ckpt = torch.load(path_weights, map_location=\"cpu\")"
   ]
  },
  {
   "cell_type": "code",
   "execution_count": 10,
   "id": "fbf73756",
   "metadata": {
    "ExecuteTime": {
     "end_time": "2021-04-21T18:36:49.909902Z",
     "start_time": "2021-04-21T18:36:49.902644Z"
    }
   },
   "outputs": [],
   "source": [
    "# this hack seems to be needed, because the model in the ipynb has different weight names?\n",
    "new_ckpt = OrderedDict()\n",
    "for ((kc, vc), ko) in zip(ckpt.items(), model.state_dict().keys()):\n",
    "    new_ckpt[ko] = vc"
   ]
  },
  {
   "cell_type": "code",
   "execution_count": 11,
   "id": "006e3796",
   "metadata": {
    "ExecuteTime": {
     "end_time": "2021-04-21T18:36:50.658707Z",
     "start_time": "2021-04-21T18:36:50.576891Z"
    }
   },
   "outputs": [
    {
     "data": {
      "text/plain": [
       "<All keys matched successfully>"
      ]
     },
     "execution_count": 11,
     "metadata": {},
     "output_type": "execute_result"
    }
   ],
   "source": [
    "model.load_state_dict(new_ckpt)"
   ]
  },
  {
   "cell_type": "code",
   "execution_count": 12,
   "id": "c00bfca6",
   "metadata": {
    "ExecuteTime": {
     "end_time": "2021-04-21T18:36:51.394730Z",
     "start_time": "2021-04-21T18:36:51.389204Z"
    }
   },
   "outputs": [],
   "source": [
    "model.eval();"
   ]
  },
  {
   "cell_type": "code",
   "execution_count": 13,
   "id": "compact-charity",
   "metadata": {
    "ExecuteTime": {
     "end_time": "2021-04-21T18:36:51.800710Z",
     "start_time": "2021-04-21T18:36:51.796004Z"
    }
   },
   "outputs": [],
   "source": [
    "# if you wanto to run it on GPU\n",
    "#device = torch.device(\"cuda:0\")\n",
    "#model.to(device)"
   ]
  },
  {
   "cell_type": "markdown",
   "id": "efficient-candle",
   "metadata": {},
   "source": [
    "# Tokenizer setup"
   ]
  },
  {
   "cell_type": "code",
   "execution_count": 10,
   "id": "twenty-junction",
   "metadata": {
    "ExecuteTime": {
     "end_time": "2021-04-21T18:55:43.408784Z",
     "start_time": "2021-04-21T18:55:43.404003Z"
    }
   },
   "outputs": [],
   "source": [
    "text_sampler = partial(basic_rand_sampler, sample_len=1024)\n",
    "text_tok = partial(tokenize, context_length=1024, return_mask=True)\n",
    "\n",
    "bioseq_sampler = partial(basic_rand_sampler, sample_len=512)\n",
    "bioseq_tok = partial(basic_aa_tokenizer, context_length=512, return_mask=True)"
   ]
  },
  {
   "cell_type": "markdown",
   "id": "shared-destruction",
   "metadata": {},
   "source": [
    "# Query example"
   ]
  },
  {
   "cell_type": "markdown",
   "id": "smooth-growth",
   "metadata": {},
   "source": [
    "## Bioseq"
   ]
  },
  {
   "cell_type": "markdown",
   "id": "focal-fiber",
   "metadata": {},
   "source": [
    "Proteins related query \"blood\":\n",
    "1. https://www.uniprot.org/uniprot/B2RUZ4\n",
    "1. https://www.uniprot.org/uniprot/A0A430QLP7\n",
    "\n",
    "Proteins related to query \"brain\":\n",
    "1. https://www.uniprot.org/uniprot/Q9VGE8\n",
    "1. https://www.uniprot.org/uniprot/Q8C8N3\n",
    "\n",
    "Proteins related to query \"t-cell\":\n",
    "1. https://www.uniprot.org/uniprot/P20963\n",
    "1. https://www.uniprot.org/uniprot/P60568\n",
    "\n",
    "Proteins related to query \"hormones\":\n",
    "1. https://www.uniprot.org/uniprot/P01215\n",
    "1. https://www.uniprot.org/uniprot/O97385\n",
    "\n",
    "Proteins related to query \"virus\":\n",
    "1. https://www.uniprot.org/uniprot/P04298\n",
    "1. https://www.uniprot.org/uniprot/Q8TDQ0"
   ]
  },
  {
   "cell_type": "code",
   "execution_count": 11,
   "id": "nervous-divide",
   "metadata": {
    "ExecuteTime": {
     "end_time": "2021-04-21T18:55:45.904949Z",
     "start_time": "2021-04-21T18:55:45.896528Z"
    }
   },
   "outputs": [],
   "source": [
    "prot_urls = [\"https://www.uniprot.org/uniprot/B2RUZ4.fasta\",\n",
    "             \"https://www.uniprot.org/uniprot/A0A430QLP7.fasta\",\n",
    "             \"https://www.uniprot.org/uniprot/Q9VGE8.fasta\",\n",
    "             \"https://www.uniprot.org/uniprot/Q8C8N3.fasta\",\n",
    "             \"https://www.uniprot.org/uniprot/P20963.fasta\",\n",
    "             \"https://www.uniprot.org/uniprot/P60568.fasta\",\n",
    "             \"https://www.uniprot.org/uniprot/O97385.fasta\",\n",
    "             \"https://www.uniprot.org/uniprot/P04298.fasta\",\n",
    "             \"https://www.uniprot.org/uniprot/Q8TDQ0.fasta\"]"
   ]
  },
  {
   "cell_type": "code",
   "execution_count": 12,
   "id": "checked-links",
   "metadata": {
    "ExecuteTime": {
     "end_time": "2021-04-21T18:55:48.162442Z",
     "start_time": "2021-04-21T18:55:46.327182Z"
    }
   },
   "outputs": [],
   "source": [
    "bioseq_orig =[\"\".join(requests.get(url).text.split(\"\\n\")[1:]) for url in prot_urls]"
   ]
  },
  {
   "cell_type": "code",
   "execution_count": 13,
   "id": "connected-works",
   "metadata": {
    "ExecuteTime": {
     "end_time": "2021-04-21T18:55:48.176656Z",
     "start_time": "2021-04-21T18:55:48.167388Z"
    }
   },
   "outputs": [
    {
     "data": {
      "text/plain": [
       "['MQPQESHVHYSRWEDGSRDGVSLGAVSSTEEASRCRRISQRLCTGKLGIAMKVLGGVALFWIIFILGYLTGYYVHKCK',\n",
       " 'MTLPISLMSINHCDTNIITNGNTNNNHNINNDYNVNHKIMKSLSEYHINEHKQKFHHNLQTNFKEFTCLSQIIKQTNQSAHNSEYKKEVFTSNNDNMKFFQHENEQVIQSQQYYSIPRMNEKPRDLRSHHNCLKQLINSSSPQPFDSSQITSPEDTQFSTSMPTHSSNMSDFPDSKLFHNHTIDHTDLPATTDGSFEAFKILNDPLDLNYTQTEDHMQYRSLHDTIQDGKFPYTKMNSRTISENTSNNSIQPTNIEKSYNQVKSTMSKKQTLTNFDEYPPTPSSSFSQREKISGAKLSFHHISYEVKIQKTLCSKPVIKTILDDVSGILRPGMNALMGPTGSGKSSLLDVLAGRKDPRFLSGKVLIDGRPQPKNFKCISGYVVQDDIVMGTLTVRENLSFSAALRMTMHCTTEERNQKVNDIIDELGLNAVADSKVGTELVRGVSGGERKRTSIGMELITEPPVLFLDEPTTGLDAYMAGQVPFYFIVSGYVCENHNNPPDFFMDVIHGECLRQHGNTSDVQIMDHHDTQERMHLVGQQLIQDWQTSEMAQHVLEEVSSIANRLEKYENGSKKSKDNAVDISFAASYIRQINKVCWRSILNLLRDPLASVIQTIVYLFFALSMGIVYFQMNDSLESGIQNRTGLFYFCTLQVIFVNLATIELFIKERVLFIHESSSGYYQVSVYFFSKILCDIIPTKVLPILFFMPICYWMAGLQKTFGAFMFFELLLCLTTLAAAAIALFISAKNVNTSPFRLMSVRMITPKPRKVFSGFLINLKSMAVWLSWLRYFSIFRYSMGGLLIMEMTTLRFCPMDKSNTTINRQCQNGTTYLEDQEIPYMTGWDLWSNVVGLVVIMIAFYILCYVRLRLLNKYK',\n",
       " 'MRPLSGLIALALLLLLLLTAPSSAADTETESSGSPLTPGAEEPRRVVKRAPTSSFIGMRGKKDEEHDTSEGNWLGSGPDPLDYADEEADSSYAENGRRLKKAPLAFVGLRGKKFIPINNRLSDVLQSLEEERLRDSLLQDFFDRVAGRDGSAVGKRAPTGFTGMRGKRPALLAGDDDAEADEATELQQKRAPVNSFVGMRGKKDVSHQHYKRAALSDSYDLRGKQQRFADFNSKFVAVRGKKSDLEGNGVGIGDDHEQALVHPWLYLWGEKRAPNGFLGMRGKRPALFE',\n",
       " 'MPSSSAMAVGALSSSLLVTCCLMVALCSPSIPLEKLAQAPEQPGQEKREHASRDSPGRVSELGRASRDEGSSARDWKSKGSRALSGREAWSKQKQAWAAQGGSAKAADWQVRPRGDTPQGEPPAAAQEAISLELVPTPELPEEYAYPDYRGKGCVDESGFVYAIGEKFAPGPSACPCLCTEEGPLCAQPECPRLHPRCIHVDNSQCCPQCKEKKNYCEFRGKTYQTLEEFVVSPCERCRCEANGEVLCTVSACPQTECVDPVYEPDQCCPICKNGPNCFAETAVIPAGREVKTDECTICHCTYEEGTWRIERQAMCTRHECRQM',\n",
       " 'MKWKALFTAAILQAQLPITEAQSFGLLDPKLCYLLDGILFIYGVILTALFLRVKFSRSADAPAYQQGQNQLYNELNLGRREEYDVLDKRRGRDPEMGGKPQRRKNPQEGLYNELQKDKMAEAYSEIGMKGERRRGKGHDGLYQGLSTATKDTYDALHMQALPPR',\n",
       " 'MYRMQLLSCIALSLALVTNSAPTSSSTKKTQLQLEHLLLDLQMILNGINNYKNPKLTRMLTFKFYMPKKATELKHLQCLEEELKPLEEVLNLAQSKNFHLRPRDLISNINVIVLELKGSETTFMCEYADETATIVEFLNRWITFCQSIISTLT',\n",
       " 'MIALRLIAVTLVVAMAASTTWARSFNKRANFDPSCAGVYNRELLGRLSRLCDDCYNVFREPKVATECRNNCFYNPVFVQCLEYLIPADLHEEYQAHVQTVGK',\n",
       " 'MDANVVSSSTIATYIDALAKNASELEQRSTAYEINNELELVFIKPPLITLTNVVNISTIQESFIRFTVTNKEGVKIRTKIPLSKVHGLDVKNVQLVDAIDNIVWEKKSLVTENRLHKECLLRLSTEERHIFLDYKKYGSSIRLELVNLIQAKTKNFTIDFKLKYFLGSGAQSKSSLLHAINHPKSRPNTSLEIEFTPRDNETVPYDELIKELTTLSRHIFMASPENVILSPPINAPIKTFMLPKQDIVGLDLENLYAVTKTDGIPITIRVTSNGLYCYFTHLGYIIRYPVKRIIDSEVVVFGEAVKDKNWTVYLIKLIEPVNAINDRLEESKYVESKLVDICDRIVFKSKKYEGPFTTTSEVVDMLSTYLPKQPEGVILFYSKGPKSNIDFKIKKENTIDQTANVVFRYMSSEPIIFGESSIFVEYKKFSNDKGFPKEYGSGKIVLYNGVNYLNNIYCLEYINTHNEVGIKSVVVPIKFIAEFLVNGEILKPRIDKTMKYINSEDYYGNQHNIIVEHLRDQSIKIGDIFNEDKLSDVGHQYANNDKFRLNPEVSYFTNKRTRGPLGILSNYVKTLLISMYCSKTFLDDSNKRKVLAIDFGNGADLEKYFYGEIALLVATDPDADAIARGNERYNKLNSGIKTKYYKFDYIQETIRSDTFVSSVREVFYFGKFNIIDWQFAIHYSFHPRHYATVMNNLSELTASGGKVLITTMDGDKLSKLTDKKTFIIHKNLPSSENYMSVEKIADDRIVVYNPSTMSTPMTEYIIKKNDIVRVFNEYGFVLVDNVDFATIIERSKKFINGASTMEDRPSTRNFFELNRGAIKCEGLDVEDLLSYYVVYVFSKR',\n",
       " 'MFSHLPFDCVLLLLLLLLTRSSEVEYRAEVGQNAYLPCFYTPAAPGNLVPVCWGKGACPVFECGNVVLRTDERDVNYWTSRYWLNGDFRKGDVSLTIENVTLADSGIYCCRIQIPGIMNDEKFNLKLVIKPAKVTPAPTRQRDFTAAFPRMLTTRGHGPAETQTLGSLPDINLTQISTLANELRDSRLANDLRDSGATIRIGIYIGAGICAGLALALIFGALIFKWYSHSKEKIQNLSLISLANLPPSGLANAVAEGIRSEENIYTIEENVYEVEEPNEYYCYVSSRQQPSQPLGCRFAMP']"
      ]
     },
     "execution_count": 13,
     "metadata": {},
     "output_type": "execute_result"
    }
   ],
   "source": [
    "bioseq_orig"
   ]
  },
  {
   "cell_type": "code",
   "execution_count": 14,
   "id": "intelligent-triple",
   "metadata": {
    "ExecuteTime": {
     "end_time": "2021-04-21T18:55:48.185565Z",
     "start_time": "2021-04-21T18:55:48.178819Z"
    }
   },
   "outputs": [
    {
     "data": {
      "text/plain": [
       "[78, 871, 289, 324, 164, 153, 102, 844, 301]"
      ]
     },
     "execution_count": 14,
     "metadata": {},
     "output_type": "execute_result"
    }
   ],
   "source": [
    "[len(s) for s in bioseq_orig]"
   ]
  },
  {
   "cell_type": "code",
   "execution_count": 15,
   "id": "favorite-producer",
   "metadata": {
    "ExecuteTime": {
     "end_time": "2021-04-21T18:55:48.721952Z",
     "start_time": "2021-04-21T18:55:48.712004Z"
    }
   },
   "outputs": [],
   "source": [
    "bioseq_ = [bioseq_tok(bioseq_sampler(s)) for s in bioseq_orig]"
   ]
  },
  {
   "cell_type": "code",
   "execution_count": 16,
   "id": "toxic-leather",
   "metadata": {
    "ExecuteTime": {
     "end_time": "2021-04-21T18:55:49.419575Z",
     "start_time": "2021-04-21T18:55:49.412349Z"
    }
   },
   "outputs": [
    {
     "data": {
      "text/plain": [
       "(tensor([[10, 14, 13,  ...,  0,  0,  0],\n",
       "         [16, 16, 13,  ..., 17,  9, 14],\n",
       "         [10, 15, 13,  ...,  0,  0,  0],\n",
       "         ...,\n",
       "         [10,  7,  0,  ...,  0,  0,  0],\n",
       "         [20,  3,  8,  ...,  7,  0,  9],\n",
       "         [10,  4, 16,  ...,  0,  0,  0]]),\n",
       " tensor([[ True,  True,  True,  ..., False, False, False],\n",
       "         [ True,  True,  True,  ...,  True,  True,  True],\n",
       "         [ True,  True,  True,  ..., False, False, False],\n",
       "         ...,\n",
       "         [ True,  True,  True,  ..., False, False, False],\n",
       "         [ True,  True,  True,  ...,  True,  True,  True],\n",
       "         [ True,  True,  True,  ..., False, False, False]]))"
      ]
     },
     "execution_count": 16,
     "metadata": {},
     "output_type": "execute_result"
    }
   ],
   "source": [
    "bioseq, bioseq_mask = list(zip(*bioseq_))\n",
    "bioseq      = torch.cat([s.unsqueeze(0) for s in bioseq])\n",
    "bioseq_mask = torch.cat([s.unsqueeze(0) for s in bioseq_mask])\n",
    "bioseq, bioseq_mask"
   ]
  },
  {
   "cell_type": "code",
   "execution_count": 17,
   "id": "incorrect-overall",
   "metadata": {
    "ExecuteTime": {
     "end_time": "2021-04-21T18:55:49.832855Z",
     "start_time": "2021-04-21T18:55:49.827314Z"
    }
   },
   "outputs": [
    {
     "data": {
      "text/plain": [
       "(torch.Size([9, 512]), torch.Size([9, 512]))"
      ]
     },
     "execution_count": 17,
     "metadata": {},
     "output_type": "execute_result"
    }
   ],
   "source": [
    "bioseq.shape, bioseq_mask.shape"
   ]
  },
  {
   "cell_type": "code",
   "execution_count": 18,
   "id": "excess-camel",
   "metadata": {
    "ExecuteTime": {
     "end_time": "2021-04-21T18:55:51.045691Z",
     "start_time": "2021-04-21T18:55:50.201679Z"
    }
   },
   "outputs": [
    {
     "data": {
      "text/plain": [
       "torch.Size([9, 512])"
      ]
     },
     "execution_count": 18,
     "metadata": {},
     "output_type": "execute_result"
    }
   ],
   "source": [
    "bioseq_out = model.bioseq_encoder(bioseq, mask=bioseq_mask)\n",
    "bioseq_out.shape"
   ]
  },
  {
   "cell_type": "markdown",
   "id": "interesting-ceramic",
   "metadata": {},
   "source": [
    "## Text"
   ]
  },
  {
   "cell_type": "markdown",
   "id": "84defaae",
   "metadata": {},
   "source": [
    "Change here the text query:"
   ]
  },
  {
   "cell_type": "code",
   "execution_count": 19,
   "id": "89e6362e",
   "metadata": {
    "ExecuteTime": {
     "end_time": "2021-04-21T18:55:52.929846Z",
     "start_time": "2021-04-21T18:55:52.924417Z"
    }
   },
   "outputs": [],
   "source": [
    "#text_orig = \"protein that is present in the blood\"\n",
    "#text_orig = \"blood cells blood stream nutrition\"\n",
    "#text_orig = \"brain neurology nerve cells\"\n",
    "#text_orig = \"proteins that play a role in the blood transport\"\n",
    "#text_orig = \"hormone regulation and similar functions\"\n",
    "#text_orig = \"immune system and antigen processing\"\n",
    "text_orig = \"viral infection and replication\""
   ]
  },
  {
   "cell_type": "code",
   "execution_count": 20,
   "id": "numerous-volleyball",
   "metadata": {
    "ExecuteTime": {
     "end_time": "2021-04-21T18:55:53.339596Z",
     "start_time": "2021-04-21T18:55:53.325716Z"
    }
   },
   "outputs": [
    {
     "data": {
      "text/plain": [
       "(tensor([[11653, 14774,   537,  ...,     0,     0,     0]]),\n",
       " tensor([[ True,  True,  True,  ..., False, False, False]]))"
      ]
     },
     "execution_count": 20,
     "metadata": {},
     "output_type": "execute_result"
    }
   ],
   "source": [
    "text, text_mask = text_tok(text_orig)\n",
    "text, text_mask"
   ]
  },
  {
   "cell_type": "code",
   "execution_count": 21,
   "id": "critical-instruction",
   "metadata": {
    "ExecuteTime": {
     "end_time": "2021-04-21T18:55:53.971320Z",
     "start_time": "2021-04-21T18:55:53.720423Z"
    }
   },
   "outputs": [
    {
     "data": {
      "text/plain": [
       "torch.Size([1, 512])"
      ]
     },
     "execution_count": 21,
     "metadata": {},
     "output_type": "execute_result"
    }
   ],
   "source": [
    "text_out = model.text_encoder(text, mask=text_mask)\n",
    "text_out.shape"
   ]
  },
  {
   "cell_type": "markdown",
   "id": "tender-combine",
   "metadata": {},
   "source": [
    "## Similarity"
   ]
  },
  {
   "cell_type": "code",
   "execution_count": 22,
   "id": "latin-output",
   "metadata": {
    "ExecuteTime": {
     "end_time": "2021-04-21T18:55:54.412262Z",
     "start_time": "2021-04-21T18:55:54.407137Z"
    }
   },
   "outputs": [],
   "source": [
    "text_out_norm = F.normalize(text_out, p=2, dim =-1)\n",
    "bioseq_out_norm = F.normalize(bioseq_out, p=2, dim =-1)"
   ]
  },
  {
   "cell_type": "code",
   "execution_count": 23,
   "id": "advanced-allocation",
   "metadata": {
    "ExecuteTime": {
     "end_time": "2021-04-21T18:55:54.914718Z",
     "start_time": "2021-04-21T18:55:54.908424Z"
    }
   },
   "outputs": [
    {
     "data": {
      "text/plain": [
       "[0.29615318775177,\n",
       " 0.2974168062210083,\n",
       " 0.296694278717041,\n",
       " 0.2964709997177124,\n",
       " 0.2963044047355652,\n",
       " 0.29626691341400146,\n",
       " 0.29622459411621094,\n",
       " 0.29716986417770386,\n",
       " 0.2966017723083496]"
      ]
     },
     "execution_count": 23,
     "metadata": {},
     "output_type": "execute_result"
    }
   ],
   "source": [
    "sim = einsum('n d, n d -> n', text_out_norm, bioseq_out_norm)\n",
    "sim.tolist()"
   ]
  },
  {
   "cell_type": "code",
   "execution_count": 154,
   "id": "enclosed-privacy",
   "metadata": {
    "ExecuteTime": {
     "end_time": "2021-04-21T18:51:18.254117Z",
     "start_time": "2021-04-21T18:51:18.173695Z"
    }
   },
   "outputs": [
    {
     "data": {
      "image/png": "[encoded data removed]",
      "text/plain": [
       "<Figure size 432x288 with 1 Axes>"
      ]
     },
     "metadata": {
      "needs_background": "light"
     },
     "output_type": "display_data"
    }
   ],
   "source": [
    "plt.imshow(sim.data.unsqueeze(0).numpy(), cmap=\"turbo\");"
   ]
  },
  {
   "cell_type": "code",
   "execution_count": 155,
   "id": "lonely-marks",
   "metadata": {
    "ExecuteTime": {
     "end_time": "2021-04-21T18:51:18.525569Z",
     "start_time": "2021-04-21T18:51:18.409104Z"
    }
   },
   "outputs": [
    {
     "data": {
      "image/png": "[encoded data removed]",
      "text/plain": [
       "<Figure size 432x288 with 1 Axes>"
      ]
     },
     "metadata": {
      "needs_background": "light"
     },
     "output_type": "display_data"
    }
   ],
   "source": [
    "plt.imshow(sim.data.unsqueeze(0).numpy(), cmap=\"turbo\", vmin=-1., vmax=1.);"
   ]
  },
  {
   "cell_type": "markdown",
   "id": "stopped-president",
   "metadata": {},
   "source": [
    "# Citric acid cycle"
   ]
  },
  {
   "cell_type": "markdown",
   "id": "periodic-calculation",
   "metadata": {},
   "source": [
    "The [citric acid cycle](https://en.wikipedia.org/wiki/Citric_acid_cycle) is a very import chain of reactions in cells and we use the sequences of some of the [involved enzymes](https://en.wikipedia.org/wiki/Citric_acid_cycle#Steps) to look for interesting relationships in the high-dimensional embedding space.\n",
    "\n",
    "1. Citrate synthase, https://www.uniprot.org/uniprot/O75390\n",
    "1. Cytoplasmic aconitate hydratase, https://www.uniprot.org/uniprot/P21399\n",
    "1. Isocitrate dehydrogenase NADP cytoplasmic, https://www.uniprot.org/uniprot/O75874\n",
    "1. Fumarate hydratase mitochondrial, https://www.uniprot.org/uniprot/P07954\n",
    "1. Malate dehydrogenase cytoplasmic, https://www.uniprot.org/uniprot/P40925"
   ]
  },
  {
   "cell_type": "code",
   "execution_count": 156,
   "id": "planned-helmet",
   "metadata": {
    "ExecuteTime": {
     "end_time": "2021-04-21T18:51:19.561369Z",
     "start_time": "2021-04-21T18:51:19.555528Z"
    }
   },
   "outputs": [],
   "source": [
    "cca_urls = [\"https://www.uniprot.org/uniprot/O75390.fasta\",\n",
    "            \"https://www.uniprot.org/uniprot/P21399.fasta\",\n",
    "            \"https://www.uniprot.org/uniprot/O75874.fasta\",\n",
    "            \"https://www.uniprot.org/uniprot/P07954.fasta\",\n",
    "            \"https://www.uniprot.org/uniprot/P40925.fasta\"]"
   ]
  },
  {
   "cell_type": "code",
   "execution_count": 160,
   "id": "crazy-whale",
   "metadata": {
    "ExecuteTime": {
     "end_time": "2021-04-21T18:51:23.713127Z",
     "start_time": "2021-04-21T18:51:20.425120Z"
    }
   },
   "outputs": [],
   "source": [
    "# we also add the proteins from above to see if the cca proteins are clustered together\n",
    "cca_seq =[\"\".join(requests.get(url).text.split(\"\\n\")[1:]) for url in cca_urls+prot_urls]"
   ]
  },
  {
   "cell_type": "code",
   "execution_count": null,
   "id": "constant-possible",
   "metadata": {
    "ExecuteTime": {
     "end_time": "2021-04-21T18:54:20.616213Z",
     "start_time": "2021-04-21T18:54:20.546795Z"
    }
   },
   "outputs": [],
   "source": [
    "cca_seq"
   ]
  },
  {
   "cell_type": "code",
   "execution_count": 162,
   "id": "significant-charm",
   "metadata": {
    "ExecuteTime": {
     "end_time": "2021-04-21T18:51:23.735535Z",
     "start_time": "2021-04-21T18:51:23.723601Z"
    }
   },
   "outputs": [
    {
     "data": {
      "text/plain": [
       "[466, 889, 414, 510, 334, 78, 871, 289, 324, 164, 153, 102, 844, 301]"
      ]
     },
     "execution_count": 162,
     "metadata": {},
     "output_type": "execute_result"
    }
   ],
   "source": [
    "[len(s) for s in cca_seq]"
   ]
  },
  {
   "cell_type": "code",
   "execution_count": 163,
   "id": "floating-software",
   "metadata": {
    "ExecuteTime": {
     "end_time": "2021-04-21T18:51:23.741322Z",
     "start_time": "2021-04-21T18:51:23.736884Z"
    }
   },
   "outputs": [],
   "source": [
    "bioseq_ = [bioseq_tok(bioseq_sampler(s)) for s in cca_seq]"
   ]
  },
  {
   "cell_type": "code",
   "execution_count": 164,
   "id": "measured-private",
   "metadata": {
    "ExecuteTime": {
     "end_time": "2021-04-21T18:51:23.747314Z",
     "start_time": "2021-04-21T18:51:23.742447Z"
    }
   },
   "outputs": [
    {
     "data": {
      "text/plain": [
       "(tensor([[10,  0,  9,  ...,  0,  0,  0],\n",
       "         [10,  4, 15,  ..., 19,  8,  9],\n",
       "         [10, 16,  8,  ...,  0,  0,  0],\n",
       "         ...,\n",
       "         [10,  7,  0,  ...,  0,  0,  0],\n",
       "         [14,  2,  7,  ..., 13, 16, 17],\n",
       "         [10,  4, 16,  ...,  0,  0,  0]]),\n",
       " tensor([[ True,  True,  True,  ..., False, False, False],\n",
       "         [ True,  True,  True,  ...,  True,  True,  True],\n",
       "         [ True,  True,  True,  ..., False, False, False],\n",
       "         ...,\n",
       "         [ True,  True,  True,  ..., False, False, False],\n",
       "         [ True,  True,  True,  ...,  True,  True,  True],\n",
       "         [ True,  True,  True,  ..., False, False, False]]))"
      ]
     },
     "execution_count": 164,
     "metadata": {},
     "output_type": "execute_result"
    }
   ],
   "source": [
    "bioseq, bioseq_mask = list(zip(*bioseq_))\n",
    "bioseq      = torch.cat([s.unsqueeze(0) for s in bioseq])\n",
    "bioseq_mask = torch.cat([s.unsqueeze(0) for s in bioseq_mask])\n",
    "bioseq, bioseq_mask"
   ]
  },
  {
   "cell_type": "code",
   "execution_count": 165,
   "id": "suitable-adapter",
   "metadata": {
    "ExecuteTime": {
     "end_time": "2021-04-21T18:51:23.753820Z",
     "start_time": "2021-04-21T18:51:23.748580Z"
    }
   },
   "outputs": [
    {
     "data": {
      "text/plain": [
       "(torch.Size([14, 512]), torch.Size([14, 512]))"
      ]
     },
     "execution_count": 165,
     "metadata": {},
     "output_type": "execute_result"
    }
   ],
   "source": [
    "bioseq.shape, bioseq_mask.shape"
   ]
  },
  {
   "cell_type": "code",
   "execution_count": 166,
   "id": "painful-means",
   "metadata": {
    "ExecuteTime": {
     "end_time": "2021-04-21T18:51:25.032038Z",
     "start_time": "2021-04-21T18:51:23.754819Z"
    }
   },
   "outputs": [
    {
     "data": {
      "text/plain": [
       "torch.Size([14, 512])"
      ]
     },
     "execution_count": 166,
     "metadata": {},
     "output_type": "execute_result"
    }
   ],
   "source": [
    "bioseq_out = model.bioseq_encoder(bioseq, mask=bioseq_mask)\n",
    "bioseq_out.shape"
   ]
  },
  {
   "cell_type": "code",
   "execution_count": 167,
   "id": "synthetic-brooks",
   "metadata": {
    "ExecuteTime": {
     "end_time": "2021-04-21T18:51:25.036050Z",
     "start_time": "2021-04-21T18:51:25.033454Z"
    }
   },
   "outputs": [],
   "source": [
    "u, s, v = torch.svd(bioseq_out)"
   ]
  },
  {
   "cell_type": "code",
   "execution_count": 168,
   "id": "fitting-channel",
   "metadata": {
    "ExecuteTime": {
     "end_time": "2021-04-21T18:51:25.047545Z",
     "start_time": "2021-04-21T18:51:25.037128Z"
    }
   },
   "outputs": [
    {
     "data": {
      "text/plain": [
       "tensor([14.7699,  5.2958,  3.7536,  3.3699,  3.1054,  2.9547,  2.3776,  2.2126,\n",
       "         1.9828,  1.6885,  1.5700,  1.4410,  1.3252,  1.1328],\n",
       "       grad_fn=<SvdHelperBackward>)"
      ]
     },
     "execution_count": 168,
     "metadata": {},
     "output_type": "execute_result"
    }
   ],
   "source": [
    "#u, s, v\n",
    "s"
   ]
  },
  {
   "cell_type": "code",
   "execution_count": 169,
   "id": "chief-density",
   "metadata": {
    "ExecuteTime": {
     "end_time": "2021-04-21T18:51:25.052259Z",
     "start_time": "2021-04-21T18:51:25.048492Z"
    }
   },
   "outputs": [
    {
     "data": {
      "text/plain": [
       "(torch.Size([14, 14]), torch.Size([14]), torch.Size([512, 14]))"
      ]
     },
     "execution_count": 169,
     "metadata": {},
     "output_type": "execute_result"
    }
   ],
   "source": [
    "u.shape, s.shape, v.shape"
   ]
  },
  {
   "cell_type": "code",
   "execution_count": 170,
   "id": "aquatic-kernel",
   "metadata": {
    "ExecuteTime": {
     "end_time": "2021-04-21T18:51:25.057567Z",
     "start_time": "2021-04-21T18:51:25.053073Z"
    }
   },
   "outputs": [
    {
     "data": {
      "text/plain": [
       "(torch.Size([14, 512]), torch.Size([1, 512]))"
      ]
     },
     "execution_count": 170,
     "metadata": {},
     "output_type": "execute_result"
    }
   ],
   "source": [
    "bioseq_out.shape, v.t()[0].unsqueeze(0).shape"
   ]
  },
  {
   "cell_type": "code",
   "execution_count": 171,
   "id": "occupied-milwaukee",
   "metadata": {
    "ExecuteTime": {
     "end_time": "2021-04-21T18:51:25.062277Z",
     "start_time": "2021-04-21T18:51:25.058421Z"
    }
   },
   "outputs": [],
   "source": [
    "# project on the top-2 eigenvectors\n",
    "x_coords = einsum(\"id, jd -> ij\", bioseq_out, v.t()[0].unsqueeze(0)).data\n",
    "y_coords = einsum(\"id, jd -> ij\", bioseq_out, v.t()[1].unsqueeze(0)).data"
   ]
  },
  {
   "cell_type": "code",
   "execution_count": 172,
   "id": "electronic-divide",
   "metadata": {
    "ExecuteTime": {
     "end_time": "2021-04-21T18:51:25.194448Z",
     "start_time": "2021-04-21T18:51:25.063296Z"
    }
   },
   "outputs": [
    {
     "data": {
      "image/png": "[encoded data removed]",
      "text/plain": [
       "<Figure size 432x288 with 1 Axes>"
      ]
     },
     "metadata": {
      "needs_background": "light"
     },
     "output_type": "display_data"
    }
   ],
   "source": [
    "plt.scatter(x_coords, y_coords);\n",
    "for i, txt in enumerate(x_coords):\n",
    "    plt.annotate(i, (x_coords[i]+0.025, y_coords[i]-0.2))"
   ]
  },
  {
   "cell_type": "markdown",
   "id": "historical-maple",
   "metadata": {},
   "source": [
    "# End"
   ]
  }
 ],
 "metadata": {
  "kernelspec": {
   "display_name": "claspext",
   "language": "python",
   "name": "claspext"
  },
  "language_info": {
   "codemirror_mode": {
    "name": "ipython",
    "version": 3
   },
   "file_extension": ".py",
   "mimetype": "text/x-python",
   "name": "python",
   "nbconvert_exporter": "python",
   "pygments_lexer": "ipython3",
   "version": "3.8.8"
  },
  "toc": {
   "base_numbering": 1,
   "nav_menu": {},
   "number_sections": true,
   "sideBar": true,
   "skip_h1_title": false,
   "title_cell": "Table of Contents",
   "title_sidebar": "Contents",
   "toc_cell": false,
   "toc_position": {
    "height": "calc(100% - 180px)",
    "left": "10px",
    "top": "150px",
    "width": "288px"
   },
   "toc_section_display": true,
   "toc_window_display": true
  }
 },
 "nbformat": 4,
 "nbformat_minor": 5
}

{
 "cells": [
  {
   "cell_type": "markdown",
   "id": "rural-victoria",
   "metadata": {},
   "source": [
    "# Imports"
   ]
  },
  {
   "cell_type": "code",
   "execution_count": 1,
   "id": "adopted-annex",
   "metadata": {
    "ExecuteTime": {
     "end_time": "2021-04-18T15:46:46.286781Z",
     "start_time": "2021-04-18T15:46:45.954289Z"
    }
   },
   "outputs": [],
   "source": [
    "import torch\n",
    "from torch.utils.data import Dataset, DataLoader\n",
    "import random\n",
    "import time\n",
    "from datetime import datetime\n",
    "from functools import partial\n",
    "import json"
   ]
  },
  {
   "cell_type": "markdown",
   "id": "modular-diversity",
   "metadata": {},
   "source": [
    "# Sampler"
   ]
  },
  {
   "cell_type": "markdown",
   "id": "necessary-alert",
   "metadata": {},
   "source": [
    "## Basic sampler"
   ]
  },
  {
   "cell_type": "code",
   "execution_count": 2,
   "id": "quarterly-parker",
   "metadata": {
    "ExecuteTime": {
     "end_time": "2021-04-18T15:46:46.493663Z",
     "start_time": "2021-04-18T15:46:46.484724Z"
    }
   },
   "outputs": [],
   "source": [
    "def basic_rand_sampler(seq, sample_len):\n",
    "    \"\"\"\n",
    "    Basic random text sampler.\n",
    "    If sample_len is greater than the length of the seq, the seq is returned.\n",
    "    \"\"\"\n",
    "    seq_len   = len(seq)\n",
    "    if seq_len > sample_len:\n",
    "        start_idx = random.randint(0, min(seq_len,seq_len - sample_len))\n",
    "        end_idx   = start_idx+sample_len\n",
    "        return seq[start_idx:end_idx]\n",
    "    else:\n",
    "        return seq"
   ]
  },
  {
   "cell_type": "code",
   "execution_count": 3,
   "id": "proprietary-classroom",
   "metadata": {
    "ExecuteTime": {
     "end_time": "2021-04-18T15:46:46.683829Z",
     "start_time": "2021-04-18T15:46:46.678693Z"
    }
   },
   "outputs": [],
   "source": [
    "text = \"ABC DEF GHI JKL!\""
   ]
  },
  {
   "cell_type": "code",
   "execution_count": 4,
   "id": "metropolitan-province",
   "metadata": {
    "ExecuteTime": {
     "end_time": "2021-04-18T15:46:46.859156Z",
     "start_time": "2021-04-18T15:46:46.850046Z"
    }
   },
   "outputs": [
    {
     "data": {
      "text/plain": [
       "['C DEF', 'ABC D', ' DEF ']"
      ]
     },
     "execution_count": 4,
     "metadata": {},
     "output_type": "execute_result"
    }
   ],
   "source": [
    "[basic_rand_sampler(text, 5) for i in range(3)]"
   ]
  },
  {
   "cell_type": "code",
   "execution_count": 5,
   "id": "central-cocktail",
   "metadata": {
    "ExecuteTime": {
     "end_time": "2021-04-18T15:46:47.038644Z",
     "start_time": "2021-04-18T15:46:47.028723Z"
    }
   },
   "outputs": [
    {
     "data": {
      "text/plain": [
       "[' GHI JKL', 'C DEF GH', 'ABC DEF ', 'F GHI JK', 'F GHI JK', ' GHI JKL']"
      ]
     },
     "execution_count": 5,
     "metadata": {},
     "output_type": "execute_result"
    }
   ],
   "source": [
    "[basic_rand_sampler(text, 8) for i in range(6)]"
   ]
  },
  {
   "cell_type": "code",
   "execution_count": 6,
   "id": "incoming-dialogue",
   "metadata": {
    "ExecuteTime": {
     "end_time": "2021-04-18T15:46:47.257311Z",
     "start_time": "2021-04-18T15:46:47.248501Z"
    }
   },
   "outputs": [
    {
     "data": {
      "text/plain": [
       "['ABC DEF GHI JKL!', 'ABC DEF GHI JKL!', 'ABC DEF GHI JKL!']"
      ]
     },
     "execution_count": 6,
     "metadata": {},
     "output_type": "execute_result"
    }
   ],
   "source": [
    "[basic_rand_sampler(text, 100) for i in range(3)]"
   ]
  },
  {
   "cell_type": "markdown",
   "id": "tribal-hypothetical",
   "metadata": {},
   "source": [
    "## Identity sampler"
   ]
  },
  {
   "cell_type": "code",
   "execution_count": 7,
   "id": "prescription-dodge",
   "metadata": {
    "ExecuteTime": {
     "end_time": "2021-04-18T15:46:47.688611Z",
     "start_time": "2021-04-18T15:46:47.683661Z"
    }
   },
   "outputs": [],
   "source": [
    "identity_sampler = lambda x: x"
   ]
  },
  {
   "cell_type": "code",
   "execution_count": 8,
   "id": "recreational-plane",
   "metadata": {
    "ExecuteTime": {
     "end_time": "2021-04-18T15:46:47.874350Z",
     "start_time": "2021-04-18T15:46:47.872234Z"
    }
   },
   "outputs": [],
   "source": [
    "assert text == identity_sampler(text)"
   ]
  },
  {
   "cell_type": "markdown",
   "id": "tutorial-match",
   "metadata": {},
   "source": [
    "# Tokenizer"
   ]
  },
  {
   "cell_type": "markdown",
   "id": "cognitive-toolbox",
   "metadata": {},
   "source": [
    "## Basic aminoacid tokenizer"
   ]
  },
  {
   "cell_type": "code",
   "execution_count": 9,
   "id": "broad-nomination",
   "metadata": {
    "ExecuteTime": {
     "end_time": "2021-04-18T15:46:48.545087Z",
     "start_time": "2021-04-18T15:46:48.539003Z"
    }
   },
   "outputs": [],
   "source": [
    "def basic_aa_tokenizer(seq, context_length, return_mask=True):\n",
    "    \"\"\"\n",
    "    Maps a number between 0 and 21 to each 21 proteogenic aminoacids.\n",
    "    Unknown char input gets mapped to 22.\n",
    "    \"\"\"\n",
    "    aa = \"ACDEFGHIKLMNOPQRSTUVWY\"\n",
    "    d = {a: i for i, a in enumerate(aa)}\n",
    "    seq_len = len(seq)\n",
    "    seq_empty = torch.zeros(context_length - len(seq), dtype=torch.long)\n",
    "    seq_tok   = torch.tensor([d[a] if a in aa else 22 for a in seq], dtype=torch.long)\n",
    "    seq = torch.cat([seq_tok, seq_empty], dim=0)\n",
    "    if return_mask:\n",
    "        mask = torch.zeros_like(seq).bool()\n",
    "        mask[0:seq_len] = True\n",
    "        return seq, mask\n",
    "    else:\n",
    "        return seq"
   ]
  },
  {
   "cell_type": "code",
   "execution_count": 10,
   "id": "fossil-indicator",
   "metadata": {
    "ExecuteTime": {
     "end_time": "2021-04-18T15:46:48.896443Z",
     "start_time": "2021-04-18T15:46:48.891257Z"
    }
   },
   "outputs": [],
   "source": [
    "aa_seq = \"ACDEFGHIKLMNOPQRSTUVWYZZZ\""
   ]
  },
  {
   "cell_type": "code",
   "execution_count": 11,
   "id": "smooth-andrews",
   "metadata": {
    "ExecuteTime": {
     "end_time": "2021-04-18T15:46:49.150688Z",
     "start_time": "2021-04-18T15:46:49.143886Z"
    }
   },
   "outputs": [],
   "source": [
    "tokens, mask = basic_aa_tokenizer(aa_seq, 30)"
   ]
  },
  {
   "cell_type": "code",
   "execution_count": 12,
   "id": "medieval-millennium",
   "metadata": {
    "ExecuteTime": {
     "end_time": "2021-04-18T15:46:49.456239Z",
     "start_time": "2021-04-18T15:46:49.445974Z"
    }
   },
   "outputs": [
    {
     "data": {
      "text/plain": [
       "(tensor([ 0,  1,  2,  3,  4,  5,  6,  7,  8,  9, 10, 11, 12, 13, 14, 15, 16, 17,\n",
       "         18, 19, 20, 21, 22, 22, 22,  0,  0,  0,  0,  0]),\n",
       " tensor([ True,  True,  True,  True,  True,  True,  True,  True,  True,  True,\n",
       "          True,  True,  True,  True,  True,  True,  True,  True,  True,  True,\n",
       "          True,  True,  True,  True,  True, False, False, False, False, False]))"
      ]
     },
     "execution_count": 12,
     "metadata": {},
     "output_type": "execute_result"
    }
   ],
   "source": [
    "tokens, mask"
   ]
  },
  {
   "cell_type": "code",
   "execution_count": 13,
   "id": "adverse-cambridge",
   "metadata": {
    "ExecuteTime": {
     "end_time": "2021-04-18T15:46:49.657722Z",
     "start_time": "2021-04-18T15:46:49.652013Z"
    }
   },
   "outputs": [],
   "source": [
    "assert len(tokens[mask]) == len(aa_seq) # because we have a 1:1 relationship, unlike with the text"
   ]
  },
  {
   "cell_type": "code",
   "execution_count": 14,
   "id": "danish-david",
   "metadata": {
    "ExecuteTime": {
     "end_time": "2021-04-18T15:46:49.954050Z",
     "start_time": "2021-04-18T15:46:49.947963Z"
    }
   },
   "outputs": [],
   "source": [
    "assert len(tokens[mask]) == mask.sum()"
   ]
  },
  {
   "cell_type": "code",
   "execution_count": 15,
   "id": "rough-novel",
   "metadata": {
    "ExecuteTime": {
     "end_time": "2021-04-18T15:46:50.313592Z",
     "start_time": "2021-04-18T15:46:50.309106Z"
    }
   },
   "outputs": [],
   "source": [
    "assert tokens[~mask].sum() == 0."
   ]
  },
  {
   "cell_type": "markdown",
   "id": "systematic-attachment",
   "metadata": {},
   "source": [
    "## Text tokenizer"
   ]
  },
  {
   "cell_type": "code",
   "execution_count": 16,
   "id": "obvious-honolulu",
   "metadata": {
    "ExecuteTime": {
     "end_time": "2021-04-18T15:46:51.058297Z",
     "start_time": "2021-04-18T15:46:50.939758Z"
    }
   },
   "outputs": [],
   "source": [
    "from simple_tokenizer import tokenize"
   ]
  },
  {
   "cell_type": "code",
   "execution_count": 17,
   "id": "excessive-interface",
   "metadata": {
    "ExecuteTime": {
     "end_time": "2021-04-18T15:46:51.142569Z",
     "start_time": "2021-04-18T15:46:51.135771Z"
    }
   },
   "outputs": [],
   "source": [
    "tokens, mask = tokenize(text, context_length=30, return_mask=True)"
   ]
  },
  {
   "cell_type": "code",
   "execution_count": 18,
   "id": "subject-function",
   "metadata": {
    "ExecuteTime": {
     "end_time": "2021-04-18T15:46:51.435897Z",
     "start_time": "2021-04-18T15:46:51.426907Z"
    }
   },
   "outputs": [
    {
     "data": {
      "text/plain": [
       "(tensor([[ 5334, 11649, 22279,    73, 14134,   256,     0,     0,     0,     0,\n",
       "              0,     0,     0,     0,     0,     0,     0,     0,     0,     0,\n",
       "              0,     0,     0,     0,     0,     0,     0,     0,     0,     0]]),\n",
       " tensor([[ True,  True,  True,  True,  True,  True, False, False, False, False,\n",
       "          False, False, False, False, False, False, False, False, False, False,\n",
       "          False, False, False, False, False, False, False, False, False, False]]))"
      ]
     },
     "execution_count": 18,
     "metadata": {},
     "output_type": "execute_result"
    }
   ],
   "source": [
    "tokens, mask"
   ]
  },
  {
   "cell_type": "code",
   "execution_count": 19,
   "id": "accurate-douglas",
   "metadata": {
    "ExecuteTime": {
     "end_time": "2021-04-18T15:46:51.716581Z",
     "start_time": "2021-04-18T15:46:51.710797Z"
    }
   },
   "outputs": [],
   "source": [
    "assert len(tokens[mask]) == mask.sum()"
   ]
  },
  {
   "cell_type": "code",
   "execution_count": 20,
   "id": "unlikely-cooler",
   "metadata": {
    "ExecuteTime": {
     "end_time": "2021-04-18T15:46:51.953165Z",
     "start_time": "2021-04-18T15:46:51.947315Z"
    }
   },
   "outputs": [],
   "source": [
    "assert tokens[~mask].sum() == 0."
   ]
  },
  {
   "cell_type": "markdown",
   "id": "capable-chicago",
   "metadata": {},
   "source": [
    "# Dataset"
   ]
  },
  {
   "cell_type": "code",
   "execution_count": 21,
   "id": "separate-climb",
   "metadata": {
    "ExecuteTime": {
     "end_time": "2021-04-18T15:46:52.443862Z",
     "start_time": "2021-04-18T15:46:52.436330Z"
    }
   },
   "outputs": [],
   "source": [
    "class CLASPDataset(Dataset):\n",
    "    \"\"\"\n",
    "    Basic CLASP dataset that loads the preprocessed csv file into RAM.\n",
    "        path: path to the csv file\n",
    "    \"\"\"\n",
    "    def __init__(self, path, text_sampler, bioseq_sampler, text_tok, bioseq_tok):\n",
    "        super().__init__()\n",
    "        self.path = path\n",
    "\n",
    "        tp = time.time()\n",
    "        with open(path, \"r\") as reader:\n",
    "            self.data = reader.readlines()\n",
    "        print(f\"Load data time: {time.time() - tp:.3f} s\")\n",
    "\n",
    "        self.cols = self.data.pop(0).split(\",\")\n",
    "        self.len  = len(self.data)\n",
    "\n",
    "        self.text_sampler   = text_sampler\n",
    "        self.bioseq_sampler = bioseq_sampler\n",
    "\n",
    "        self.text_tok   = text_tok\n",
    "        self.bioseq_tok = bioseq_tok\n",
    "\n",
    "    def __len__(self):\n",
    "        return self.len\n",
    "\n",
    "    def __getitem__(self, idx):\n",
    "        sample = self.data[idx][:-2] # without \"\\n\"\n",
    "        sample = sample.split(\",\")\n",
    "        sample = [x for x in sample if len(x) > 0]\n",
    "\n",
    "        text   = \" \".join(sample[:-2])\n",
    "        bioseq = sample[-1]\n",
    "\n",
    "        text   = self.text_sampler(text)\n",
    "        bioseq = self.bioseq_sampler(bioseq)\n",
    "        \n",
    "        print(text, len(text))\n",
    "        print(bioseq, len(bioseq))\n",
    "\n",
    "        text, text_mask = self.text_tok(text)\n",
    "        bioseq, bioseq_mask = self.bioseq_tok(bioseq)\n",
    "\n",
    "        return text, text_mask, bioseq, bioseq_mask"
   ]
  },
  {
   "cell_type": "code",
   "execution_count": 22,
   "id": "frozen-lebanon",
   "metadata": {
    "ExecuteTime": {
     "end_time": "2021-04-18T15:46:52.707568Z",
     "start_time": "2021-04-18T15:46:52.700924Z"
    }
   },
   "outputs": [],
   "source": [
    "str_sampler = partial(basic_rand_sampler, sample_len=100)\n",
    "text_tok    = partial(tokenize, context_length=120, return_mask=True)\n",
    "bioseq_tok  = partial(basic_aa_tokenizer, context_length=120, return_mask=True)"
   ]
  },
  {
   "cell_type": "code",
   "execution_count": 23,
   "id": "indoor-prescription",
   "metadata": {
    "ExecuteTime": {
     "end_time": "2021-04-18T15:46:53.046581Z",
     "start_time": "2021-04-18T15:46:53.038419Z"
    }
   },
   "outputs": [
    {
     "name": "stdout",
     "output_type": "stream",
     "text": [
      "Load data time: 0.002 s\n"
     ]
    }
   ],
   "source": [
    "ds = CLASPDataset(path=\"uniprot_100_reduced.csv\",\n",
    "                  text_sampler=str_sampler,\n",
    "                  bioseq_sampler=str_sampler,\n",
    "                  text_tok=text_tok,\n",
    "                  bioseq_tok=bioseq_tok)"
   ]
  },
  {
   "cell_type": "code",
   "execution_count": 24,
   "id": "stuffed-hacker",
   "metadata": {
    "ExecuteTime": {
     "end_time": "2021-04-18T15:46:53.352214Z",
     "start_time": "2021-04-18T15:46:53.339504Z"
    }
   },
   "outputs": [
    {
     "name": "stdout",
     "output_type": "stream",
     "text": [
      "e archaeon Pyrococcus furiosus contains two thioredoxin fold units.\"; \"Glutaredoxin-like protein gen 100\n",
      "QLKQLVQELSELTDKLSYEIVDFDTPEGKELAKRYRIDRAPATTITQDGKDFGVRYFGLPAGHEFAAFLEDIVDVSREETNLMDETKQAIRNIDQDVRIL 100\n"
     ]
    },
    {
     "data": {
      "text/plain": [
       "(tensor([[  324, 10121,   525, 39762, 23036,  2736,   665, 15681,  3036, 12844,\n",
       "           1237,  2362,  3580,   639, 41517, 11021, 10394, 18650,   282,   257,\n",
       "           5952,   648,   515,   639, 41517,   268,   789,  8088,  3278,     0,\n",
       "              0,     0,     0,     0,     0,     0,     0,     0,     0,     0,\n",
       "              0,     0,     0,     0,     0,     0,     0,     0,     0,     0,\n",
       "              0,     0,     0,     0,     0,     0,     0,     0,     0,     0,\n",
       "              0,     0,     0,     0,     0,     0,     0,     0,     0,     0,\n",
       "              0,     0,     0,     0,     0,     0,     0,     0,     0,     0,\n",
       "              0,     0,     0,     0,     0,     0,     0,     0,     0,     0,\n",
       "              0,     0,     0,     0,     0,     0,     0,     0,     0,     0,\n",
       "              0,     0,     0,     0,     0,     0,     0,     0,     0,     0,\n",
       "              0,     0,     0,     0,     0,     0,     0,     0,     0,     0]]),\n",
       " tensor([[ True,  True,  True,  True,  True,  True,  True,  True,  True,  True,\n",
       "           True,  True,  True,  True,  True,  True,  True,  True,  True,  True,\n",
       "           True,  True,  True,  True,  True,  True,  True,  True,  True, False,\n",
       "          False, False, False, False, False, False, False, False, False, False,\n",
       "          False, False, False, False, False, False, False, False, False, False,\n",
       "          False, False, False, False, False, False, False, False, False, False,\n",
       "          False, False, False, False, False, False, False, False, False, False,\n",
       "          False, False, False, False, False, False, False, False, False, False,\n",
       "          False, False, False, False, False, False, False, False, False, False,\n",
       "          False, False, False, False, False, False, False, False, False, False,\n",
       "          False, False, False, False, False, False, False, False, False, False,\n",
       "          False, False, False, False, False, False, False, False, False, False]]),\n",
       " tensor([14,  9,  8, 14,  9, 19, 14,  3,  9, 16,  3,  9, 17,  2,  8,  9, 16, 21,\n",
       "          3,  7, 19,  2,  4,  2, 17, 13,  3,  5,  8,  3,  9,  0,  8, 15, 21, 15,\n",
       "          7,  2, 15,  0, 13,  0, 17, 17,  7, 17, 14,  2,  5,  8,  2,  4,  5, 19,\n",
       "         15, 21,  4,  5,  9, 13,  0,  5,  6,  3,  4,  0,  0,  4,  9,  3,  2,  7,\n",
       "         19,  2, 19, 16, 15,  3,  3, 17, 11,  9, 10,  2,  3, 17,  8, 14,  0,  7,\n",
       "         15, 11,  7,  2, 14,  2, 19, 15,  7,  9,  0,  0,  0,  0,  0,  0,  0,  0,\n",
       "          0,  0,  0,  0,  0,  0,  0,  0,  0,  0,  0,  0]),\n",
       " tensor([ True,  True,  True,  True,  True,  True,  True,  True,  True,  True,\n",
       "          True,  True,  True,  True,  True,  True,  True,  True,  True,  True,\n",
       "          True,  True,  True,  True,  True,  True,  True,  True,  True,  True,\n",
       "          True,  True,  True,  True,  True,  True,  True,  True,  True,  True,\n",
       "          True,  True,  True,  True,  True,  True,  True,  True,  True,  True,\n",
       "          True,  True,  True,  True,  True,  True,  True,  True,  True,  True,\n",
       "          True,  True,  True,  True,  True,  True,  True,  True,  True,  True,\n",
       "          True,  True,  True,  True,  True,  True,  True,  True,  True,  True,\n",
       "          True,  True,  True,  True,  True,  True,  True,  True,  True,  True,\n",
       "          True,  True,  True,  True,  True,  True,  True,  True,  True,  True,\n",
       "         False, False, False, False, False, False, False, False, False, False,\n",
       "         False, False, False, False, False, False, False, False, False, False]))"
      ]
     },
     "execution_count": 24,
     "metadata": {},
     "output_type": "execute_result"
    }
   ],
   "source": [
    "ds[1]"
   ]
  },
  {
   "cell_type": "markdown",
   "id": "known-steps",
   "metadata": {},
   "source": [
    "# Dataloader"
   ]
  },
  {
   "cell_type": "code",
   "execution_count": 25,
   "id": "informed-ethics",
   "metadata": {
    "ExecuteTime": {
     "end_time": "2021-04-18T15:46:54.210935Z",
     "start_time": "2021-04-18T15:46:54.205432Z"
    }
   },
   "outputs": [],
   "source": [
    "dl = DataLoader(ds, 32)"
   ]
  },
  {
   "cell_type": "code",
   "execution_count": 26,
   "id": "unlikely-diabetes",
   "metadata": {
    "ExecuteTime": {
     "end_time": "2021-04-18T15:46:54.642666Z",
     "start_time": "2021-04-18T15:46:54.609925Z"
    }
   },
   "outputs": [
    {
     "name": "stdout",
     "output_type": "stream",
     "text": [
      "t.\"; -!- SUBCELLULAR LOCATION: Membrane . TRANSMEM 12..33 /note=\"Helical\" /evidence=\"ECO:0000256|SAM 100\n",
      "MVEALISDEAFIKGCAAIGAGLAVGLAGIGAGAGESGIGAAAVGAIAEDRGFLGLGLLFTVIPETIVIFGLVISFILMFA 80\n",
      "uriosus.\"; \"A protein disulfide oxidoreductase from the archaeon Pyrococcus furiosus contains two th 100\n",
      "DETKQAIRNIDQDVRILVFVTPTCPYCPLAVRMAHKFAIENTKAGKGKILGDMVEAIEYPEWADQYNVMAVPKIVIQVNGEDRVEFEGAYPEKMFLEKLL 100\n",
      "H Unreviewed; 32 AA. A0A7C3Z3T6; SubName: Full=DUF2080 family transposase-associated protein ; Flags 100\n",
      "YERTITPFGNSAKLDAPKKYIGHRAYVIIVK 31\n",
      " ACT_SITE 372 /note=\"Nucleophile\" /evidence=\"ECO:0000256|PROSITE-ProRule:PRU10055\" 1: Evidence at pr 100\n",
      "PKNFMFGYSWSGFQFEMGLPGSEVESDWWVWVHDKENIASGLVSGDLPENGPAYWHLYKQDHDIAEKLGMDCIRGGIEWARIFPKPTFDVKVDVEKDEEG 100\n",
      "donado J.Q.; Lopez-Cortes A.; \"Methane production in hypersaline environments: Microbial diversity;  100\n",
      "YATAAYTNNILDDNLYYNVDYINDKYDGAANKGTDNKVNATMDVVKDIATESTIYGIENYEKYPTALEDHFGGSQRATVLSAAAGSAASLATGNANAGLS 100\n",
      " N.; Fullmer M.S.; Makkay A.M.; Wheeler R.; Ventosa A.; Naor A.; Gogarten J.P.; Papke R.T.; \"Evidenc 100\n",
      "HFPNPVDAQPRRVPRIWRGDPDSELAEGMQLVDEDGEVVFMVTDISMDPHAGEIATGRVFSGTLEKGQELYVSGTAGKNRIQSVGLFMGSEREEVEHVPA 100\n",
      "idence=\"ECO:0000259|Pfam:PF02249\" NON_TER 1 /evidence=\"ECO:0000313|EMBL:ABW73323.1\" NON_TER 160 /evi 100\n",
      "TQYATAAYCNNILDDNLYYNVDYINDKYDGAANKGVDNKVTASLDVVKDIATESTIYGIENYEKYPTTLEDHFGGSQRGTSLSAAAGSAVAIATGNGNAG 100\n",
      "amples. NUCLEOTIDE SEQUENCE. Bebout B.M.; Smith J.M.; Kelley C.A.; Potter E.; Spear J.; Sahl J.; \"Sa 100\n",
      "TESTIYGLENYEKYPTTLEDHFGGSQRATSLSAAAGAATSIATGNGNAGLSAWYLCMYLHKEAHGRLGFFGYDLQDQCGATNVFSFQSDEGAPVELRGPN 100\n",
      "CO:0000259|Pfam:PF02249\" NON_TER 1 /evidence=\"ECO:0000313|EMBL:ATU81530.1\" NON_TER 162 /evidence=\"EC 100\n",
      "GFTQYATAAYTDDILDNNVYYNVDYINDKYNGAATIGKDNKVKATLDVVKDIATESTLYGIETYEKFPTALEDHFGGSQRATVLAAAAGVAVALGTANAN 100\n",
      "idence= . DOMAIN 1..41 /note=\"MCR_alpha_N\" /evidence=\"ECO:0000259|Pfam:PF02745\" DOMAIN 89..215 /note 100\n",
      "LGGYMSGGVGFTMYATPAYTNDIVDDFLYWGNDYASKKYGGNGKAKATIETVKDIGTEVTLYGLEQYEKYPTTLEDHFGGSQRATVVSIAAGGATALATG 100\n",
      "archaeota; Stenosarchaea group; Methanomicrobia; Methanomicrobiales; environmental samples. NUCLEOTI 100\n",
      "GHFADMIQADRKYPNDPARATLEVVGAGAMLFDQIWLGSYMSGGVGFTQYATAAYTDNILDDYTYYGMDYIKSKYKVNWQSPSEKDKVKATQDVVNDIAT 100\n",
      " Spear J.; Sahl J.; \"Salinity controls the isotopic composition of methane and the methanogen commun 100\n",
      "VNKVNTYALSMYEEYPAAMEAHFGGSQRSTVCAAASAIAGAMATGSADVGVNCWYLSMVQHKERLGRLGFYGFDLQDMAGSTNSFAYRSDEGCPFEMRGP 100\n",
      "\"ECO:0000259|SMART:SM01060\" NON_TER 1 /evidence=\"ECO:0000313|EMBL:AED99995.1\" NON_TER 188 /evidence= 100\n",
      "ERIPERVVHARGTGAHGYFECYESMAEYTMASFLQEAGKKTPVFVRFSTVVGFRGSADTVRDARGFATKFYTEDGNYDLVGNNIPVFFIQDAIKFPDLVH 100\n",
      "A.; Potter E.; Spear J.; Sahl J.; \"Salinity controls the isotopic composition of methane and the met 100\n",
      "VKDIATESTIYGIENYEKYPTALEDHFGGSQRATVLSAAAGSAASLATGNANAGLSAWYLSMYLHKEALGRLGFFGFDLQDQCGATNVFSFQSDEGLPHE 100\n",
      "stem.\"; DOMAIN 1..123 /note=\"MCR_alpha\" /evidence=\"ECO:0000259|Pfam:PF02249\" NON_TER 1 /evidence=\"EC 100\n",
      "VIKDIATESTLYGLENYEKYPVALEDHFGGSQRATVLSAAAGSAGSLATGNANAGLSAWYLCTYLHKEGHGRLGFFGFDLQDQCGATNTFSYQSDEGLPH 100\n",
      "n a hypersaline microbial mat.\"; DOMAIN 1..119 /note=\"MCR_alpha\" /evidence=\"ECO:0000259|Pfam:PF02249 100\n",
      "AANKGVDNKVTASLDVVKDIATESTIYGIENYEKYPTTLEDHFGGSQRGTSLSAAAGSAVAIATGNGNAGLSGWYLCMYVHKEALGRLGFFGYDLQDQCG 100\n",
      "Coenzyme-B sulfoethylthiotransferase ; Flags: Fragment; Name=mcrA ; uncultured euryarchaeote. Archae 100\n",
      "GMSFISAYNMCAGEAAVADLSFAAKHAALVSMGEMLPARRARGPNEPGGLSFGRLSDIVQTSRTVTDDPAKVALEVVGAGCMLYDRIWLGSYMSGGVGFT 100\n",
      "ota; environmental samples. NUCLEOTIDE SEQUENCE. NUCLEOTIDE SEQUENCE. Santana P.P.B.; Ghilard R.Jr.; 100\n",
      "YTYYGMDYVKSKYGGAGKVPAKQDAVNDIATEVTLYGMEQYEQYPTALESHFGGSQRASVLAAAAGLSTSIGTGNSNAGLNAWYLSMLLHKEGWSRLGFF 100\n",
      "rophic and oligotrophic areas of the Florida Everglades.\"; DOMAIN 1..124 /note=\"MCR_alpha\" /evidence 100\n",
      "ILDDYTYYGMDYIKDKYKVDWKNPNEKDKIKATQDNINDIATEVCLYGMEQYEQFPTMMEDHFGGSQRAGVLAAACGLSTSIATGNSNAGLNGWYLCMLL 100\n",
      "ENCE. NUCLEOTIDE SEQUENCE. Evans P.; Hinds L.; Sly L.; McSweeney C.; Morrison M.; Wright A.-D.; Evan 100\n",
      "GVKADDYAKQMALADEISSYALEMYERYPAVMETHFGGSQRATVTAASTGIATAFATGVADNGLNTWYQSMLQHKERTGRLGFYGFDLQDQCGSANSYSY 100\n",
      "ethanosarcina sp. Archaea; Euryarchaeota; Stenosarchaea group; Methanomicrobia; Methanosarcinales; M 100\n",
      "NNVYYDVDYINDKYNGAANVGKDNKIKATLDVVKDIATESTIYGIETYEKFPTALEDHFGGSQRATVLAAAAGVATALATSNANAGLSGWYLSMYLHKEA 100\n",
      "ntranikian G.; \"Cloning; sequencing; and expression of the gene encoding extracellular alpha-amylase 100\n",
      "GGDLEWNPFVGDYTWTDFSKVASGKYTANYLDFHPNELHCCDEGTFGGFPDICHHKEWDQYWLWKSNESYAAYLRSIGFDGWRFDYVKGYGAWVVRDWLN 100\n",
      "bout L.; Bebout B.M.; \"Shifts in methanogen community structure and function associated with long-te 100\n",
      "PYCNNILDDNLYYNVDYINDKYDGAANKGVDNKVTASLDVVKDIATESTIYGIENYEKYPTTLEDHFGGSQRGTSLSAAAGSAVAIATGNGNAGLSGWYL 100\n",
      "ty in a hypersaline microbial mat.\"; DOMAIN 1..119 /note=\"MCR_alpha\" /evidence=\"ECO:0000259|Pfam:PF0 100\n",
      "YYNVDYINDKYDGAANKGVDNKVTASLDVVKDIATESTIYGIENYEKYPTTLEDHFGGSQRGTSLSAAAGSAVAIATGNGNAGLSGWYLCMYVHKEALGR 100\n",
      "tion rate on metabolic pathway shift between aceticlastic and nonaceticlastic methanogenesis in chem 100\n",
      "RRARGPNEPGGLAFGLFSDIIQANRKYPNDPAKASLEVVGAGTMLYDQIWLGSYMSGGVGFTQYATAAYTDNILDEFTYYGMDYIKDKYKVDWKNPSPKD 100\n",
      "elley C.A.; Potter E.; Spear J.; Sahl J.; \"Salinity controls the isotopic composition of methane and 100\n",
      "VIKDITTESTIYGLENYEKYPTTLEDHFGGSQRATSLSAAAGAATSIATGNGNAGLSAWYLCMYLHKEAHGRLGFFGYDLQDQCGATNVFSFQSDEGAPV 100\n",
      "59|Pfam:PF02249\" NON_TER 1 /evidence=\"ECO:0000313|EMBL:ACN41311.1\" NON_TER 152 /evidence=\"ECO:000031 100\n",
      "VNDIATEVTLYGMEQYEEFPTALESHFGGSQRATVLAAAAGVSAALATANSNAGLNGWYLSMLLHKDGWSRLGFYGYDLQDQCGSANTLSFRSDEGAIGE 100\n",
      "E. Castro H.; Ogram A.; Reddy K.R.; \"Phylogenetic characterization of methanogenic assemblages in eu 100\n",
      "TDNILDDFTYYGKEYVEDKWGMAGAPNTMDSVLDVASEVTFYALEQFEDYPALLETIFGGSQRASIVAAGAACSTGFATGNAQTALSGWYLSMYLHKEQH 100\n",
      "in a hypersaline microbial mat.\"; DOMAIN 1..120 /note=\"MCR_alpha\" /evidence=\"ECO:0000259|Pfam:PF0224 100\n",
      "MDYLKDKYGVDWANPSPDDRVKASQEVVNDLATEVCLNANEQYEQYPTLMEDHFGGSQRAGVNAAACGLTCSIGTGNSNAGLNGWYLSMLVHKENWSRLG 100\n",
      "00259|Pfam:PF02249\" NON_TER 1 /evidence=\"ECO:0000313|EMBL:ABG48753.1\" NON_TER 144 /evidence=\"ECO:000 100\n",
      "VLDDFTYYGQEYVEDKFGMTEAPNTMETVLDVGSEVTFYALEQFEDYPALLETIFGGSQRASIVAAAAGCATGFATGNAQTGLSAWYLSMYLHKEQHSRL 100\n",
      "; Castro H.; Ogram A.; \"Structure and function of methanogens along a short-term restoration chronos 100\n",
      "EVTLYGMEQYEAYPTLLEDHFGGSQRASVLAAASGITAAIASGHSQVGLAAWYLSMLLHKEGWGRLGFFGYDLQDQCGPTNVFSYQSDEGNPVEMRGANY 100\n",
      "0000313|EMBL:ABD18733.1\" NON_TER 253 /evidence=\"ECO:0000313|EMBL:ABD18733.1\" 3: Inferred from homolo 100\n",
      "EDKFGMTEAPNNMDTVLDVGSEVTFYALEQFEEYPALLETIFGGSQRASIVAAAAGCSTGFATGNAQTGLSAWYLSMYLHKEQHSRLGFYGYDLQDQCGA 100\n"
     ]
    }
   ],
   "source": [
    "batch = next(iter(dl))"
   ]
  },
  {
   "cell_type": "code",
   "execution_count": 27,
   "id": "informational-ready",
   "metadata": {
    "ExecuteTime": {
     "end_time": "2021-04-18T15:46:55.018561Z",
     "start_time": "2021-04-18T15:46:55.012831Z"
    }
   },
   "outputs": [
    {
     "data": {
      "text/plain": [
       "[torch.Size([32, 1, 120]),\n",
       " torch.Size([32, 1, 120]),\n",
       " torch.Size([32, 120]),\n",
       " torch.Size([32, 120])]"
      ]
     },
     "execution_count": 27,
     "metadata": {},
     "output_type": "execute_result"
    }
   ],
   "source": [
    "[b.shape for b in batch]"
   ]
  },
  {
   "cell_type": "markdown",
   "id": "stock-anderson",
   "metadata": {},
   "source": [
    "# RankSplitDataset"
   ]
  },
  {
   "cell_type": "markdown",
   "id": "executive-netscape",
   "metadata": {
    "ExecuteTime": {
     "end_time": "2021-04-18T15:20:06.971752Z",
     "start_time": "2021-04-18T15:20:06.964335Z"
    }
   },
   "source": [
    "For details see notebook `RankSplitDataset.ipynb`."
   ]
  },
  {
   "cell_type": "code",
   "execution_count": 28,
   "id": "stupid-costa",
   "metadata": {
    "ExecuteTime": {
     "end_time": "2021-04-18T15:47:01.066116Z",
     "start_time": "2021-04-18T15:47:01.064179Z"
    }
   },
   "outputs": [],
   "source": [
    "path_offset_dict = '../data/uniprot_sprot_offset_dict.json'"
   ]
  },
  {
   "cell_type": "code",
   "execution_count": 29,
   "id": "welsh-fellowship",
   "metadata": {
    "ExecuteTime": {
     "end_time": "2021-04-18T15:47:01.550944Z",
     "start_time": "2021-04-18T15:47:01.306731Z"
    }
   },
   "outputs": [],
   "source": [
    "with open(path_offset_dict, \"r\", encoding='utf-8') as data_file:    \n",
    "    offset_dict = json.load(data_file)"
   ]
  },
  {
   "cell_type": "code",
   "execution_count": 30,
   "id": "continent-tractor",
   "metadata": {
    "ExecuteTime": {
     "end_time": "2021-04-18T15:47:01.635347Z",
     "start_time": "2021-04-18T15:47:01.627990Z"
    }
   },
   "outputs": [
    {
     "data": {
      "text/plain": [
       "564278"
      ]
     },
     "execution_count": 30,
     "metadata": {},
     "output_type": "execute_result"
    }
   ],
   "source": [
    "len(offset_dict.keys())"
   ]
  },
  {
   "cell_type": "code",
   "execution_count": 31,
   "id": "precious-lighting",
   "metadata": {
    "ExecuteTime": {
     "end_time": "2021-04-18T15:47:02.090378Z",
     "start_time": "2021-04-18T15:47:02.085239Z"
    }
   },
   "outputs": [],
   "source": [
    "file_path = \"../data/uniprot_sprot.csv\""
   ]
  },
  {
   "cell_type": "code",
   "execution_count": 32,
   "id": "western-internet",
   "metadata": {
    "ExecuteTime": {
     "end_time": "2021-04-18T15:47:02.439949Z",
     "start_time": "2021-04-18T15:47:02.432593Z"
    }
   },
   "outputs": [],
   "source": [
    "class RankSplitDataset(Dataset):\n",
    "    def __init__(self, file_path, offset_dict, rank, world_size, logger=None):\n",
    "        self.file_path        = file_path\n",
    "        self.offset_dict      = offset_dict\n",
    "        self.total_len        = len(offset_dict.keys())\n",
    "        self.rank_len         = self.total_len // world_size\n",
    "        self.rank_line_offset = self.rank_len * rank\n",
    "        self.rank_byte_offset = self.offset_dict[str(self.rank_line_offset)] # because json keys are strings after it is saved\n",
    "\n",
    "        if logger:\n",
    "            logger.info(f\"{datetime.now()} rank: {rank} dataset information:\\n{'total len':>20}: {self.total_len}\\n{'rank len':>20}: {self.rank_len}\\n{'rank line offset':>20}: {self.rank_line_offset}\\n{'rank byte offset':>20}: {self.rank_byte_offset}\")\n",
    "        else:\n",
    "            print(f\"{datetime.now()} rank: {rank} dataset information:\\n{'total len':>20}: {self.total_len}\\n{'rank len':>20}: {self.rank_len}\\n{'rank line offset':>20}: {self.rank_line_offset}\\n{'rank byte offset':>20}: {self.rank_byte_offset}\")\n",
    "\n",
    "        tp = time.time()\n",
    "        with open(self.file_path, 'r', encoding='utf-8') as f:\n",
    "            f.seek(self.rank_byte_offset) # move to the line for the specific rank\n",
    "            lines = []\n",
    "            for i in range(self.rank_len): # load all the lines for the rank\n",
    "                line = f.readline()\n",
    "                if line != \"\":\n",
    "                    lines.append(line)\n",
    "\n",
    "        self.data = lines\n",
    "\n",
    "        if logger:\n",
    "            logger.info(f\"{datetime.now()} rank: {rank} dataset load data time: {time.time() - tp:.3f} s\")\n",
    "            logger.info(f\"{datetime.now()} rank: {rank} dataset len: {len(self.data)}\")\n",
    "        else:\n",
    "            print(f\"{datetime.now()} rank: {rank} dataset load data time: {time.time() - tp:.3f} s\")\n",
    "            print(f\"{datetime.now()} rank: {rank} dataset len: {len(self.data)}\")\n",
    "        \n",
    "    def __len__(self):\n",
    "        return len(self.data)\n",
    "\n",
    "    def __getitem__(self, idx):\n",
    "        return self.data[idx]"
   ]
  },
  {
   "cell_type": "markdown",
   "id": "joint-rapid",
   "metadata": {},
   "source": [
    "# CLASPRankSplitDataset"
   ]
  },
  {
   "cell_type": "code",
   "execution_count": 33,
   "id": "organic-black",
   "metadata": {
    "ExecuteTime": {
     "end_time": "2021-04-18T15:47:03.291162Z",
     "start_time": "2021-04-18T15:47:03.284632Z"
    }
   },
   "outputs": [],
   "source": [
    "class CLASPRankSplitDataset(RankSplitDataset):\n",
    "    \"\"\"\n",
    "    CLASP rank split dataset that loads equally sized pieces for each rank\n",
    "    of the preprocessed csv file into RAM.\n",
    "        path: path to the csv file\n",
    "    \"\"\"\n",
    "    def __init__(self, file_path, offset_dict, rank, world_size, logger,\n",
    "                 text_sampler, bioseq_sampler, text_tok, bioseq_tok):\n",
    "        super().__init__(file_path, offset_dict, rank, world_size, logger)\n",
    "\n",
    "        self.text_sampler   = text_sampler\n",
    "        self.bioseq_sampler = bioseq_sampler\n",
    "\n",
    "        self.text_tok   = text_tok\n",
    "        self.bioseq_tok = bioseq_tok\n",
    "\n",
    "    def __getitem__(self, idx):\n",
    "        sample = self.data[idx][:-1] # without \"\\n\"\n",
    "        sample = sample.split(\",\")\n",
    "        sample = [x for x in sample if len(x) > 0]\n",
    "\n",
    "        text   = \" \".join(sample[:-1])\n",
    "        bioseq = sample[-1]\n",
    "\n",
    "        text   = self.text_sampler(text)\n",
    "        bioseq = self.bioseq_sampler(bioseq)\n",
    "        \n",
    "        print(text, len(text))\n",
    "        print(bioseq, len(bioseq))\n",
    "\n",
    "        text, text_mask = self.text_tok(text)\n",
    "        bioseq, bioseq_mask = self.bioseq_tok(bioseq)\n",
    "\n",
    "        return text, text_mask, bioseq, bioseq_mask"
   ]
  },
  {
   "cell_type": "code",
   "execution_count": 34,
   "id": "previous-throw",
   "metadata": {
    "ExecuteTime": {
     "end_time": "2021-04-18T15:47:03.717269Z",
     "start_time": "2021-04-18T15:47:03.710627Z"
    }
   },
   "outputs": [],
   "source": [
    "str_sampler = partial(basic_rand_sampler, sample_len=100)\n",
    "text_tok    = partial(tokenize, context_length=120, return_mask=True)\n",
    "bioseq_tok  = partial(basic_aa_tokenizer, context_length=120, return_mask=True)"
   ]
  },
  {
   "cell_type": "code",
   "execution_count": 35,
   "id": "static-arrival",
   "metadata": {
    "ExecuteTime": {
     "end_time": "2021-04-18T15:47:04.341502Z",
     "start_time": "2021-04-18T15:47:04.083244Z"
    }
   },
   "outputs": [
    {
     "name": "stdout",
     "output_type": "stream",
     "text": [
      "              total        used        free      shared  buff/cache   available\r\n",
      "Mem:           31Gi       4.1Gi        22Gi       0.0Ki       4.7Gi        26Gi\r\n",
      "Swap:         979Mi       979Mi       0.0Ki\r\n"
     ]
    }
   ],
   "source": [
    "!free -h"
   ]
  },
  {
   "cell_type": "code",
   "execution_count": 36,
   "id": "stunning-chest",
   "metadata": {
    "ExecuteTime": {
     "end_time": "2021-04-18T15:47:05.896210Z",
     "start_time": "2021-04-18T15:47:04.440944Z"
    }
   },
   "outputs": [
    {
     "name": "stdout",
     "output_type": "stream",
     "text": [
      "2021-04-18 17:47:04.445135 rank: 0 dataset information:\n",
      "           total len: 564278\n",
      "            rank len: 282139\n",
      "    rank line offset: 0\n",
      "    rank byte offset: 118\n",
      "2021-04-18 17:47:05.894728 rank: 0 dataset load data time: 1.449 s\n",
      "2021-04-18 17:47:05.894806 rank: 0 dataset len: 282139\n"
     ]
    }
   ],
   "source": [
    "ds1 = CLASPRankSplitDataset(file_path=file_path,\n",
    "                           offset_dict=offset_dict,\n",
    "                           rank=0,\n",
    "                           world_size=2,\n",
    "                           text_sampler=str_sampler,\n",
    "                           bioseq_sampler=str_sampler,\n",
    "                           text_tok=text_tok,\n",
    "                           bioseq_tok=bioseq_tok,\n",
    "                           logger=None)"
   ]
  },
  {
   "cell_type": "code",
   "execution_count": 37,
   "id": "sufficient-porcelain",
   "metadata": {
    "ExecuteTime": {
     "end_time": "2021-04-18T15:47:06.188545Z",
     "start_time": "2021-04-18T15:47:05.897287Z"
    }
   },
   "outputs": [
    {
     "name": "stdout",
     "output_type": "stream",
     "text": [
      "              total        used        free      shared  buff/cache   available\r\n",
      "Mem:           31Gi       5.5Gi        21Gi       0.0Ki       4.7Gi        25Gi\r\n",
      "Swap:         979Mi       979Mi       0.0Ki\r\n"
     ]
    }
   ],
   "source": [
    "!free -h"
   ]
  },
  {
   "cell_type": "code",
   "execution_count": 38,
   "id": "unavailable-procurement",
   "metadata": {
    "ExecuteTime": {
     "end_time": "2021-04-18T15:47:10.980520Z",
     "start_time": "2021-04-18T15:47:10.974949Z"
    }
   },
   "outputs": [
    {
     "data": {
      "text/plain": [
       "1.4000000000000004"
      ]
     },
     "execution_count": 38,
     "metadata": {},
     "output_type": "execute_result"
    }
   ],
   "source": [
    "5.5 - 4.1"
   ]
  },
  {
   "cell_type": "code",
   "execution_count": 39,
   "id": "surface-chicken",
   "metadata": {
    "ExecuteTime": {
     "end_time": "2021-04-18T15:47:12.891447Z",
     "start_time": "2021-04-18T15:47:11.658944Z"
    }
   },
   "outputs": [
    {
     "name": "stdout",
     "output_type": "stream",
     "text": [
      "2021-04-18 17:47:11.662694 rank: 1 dataset information:\n",
      "           total len: 564278\n",
      "            rank len: 282139\n",
      "    rank line offset: 282139\n",
      "    rank byte offset: 1520906478\n",
      "2021-04-18 17:47:12.889981 rank: 1 dataset load data time: 1.227 s\n",
      "2021-04-18 17:47:12.890055 rank: 1 dataset len: 282138\n"
     ]
    }
   ],
   "source": [
    "ds2 = CLASPRankSplitDataset(file_path=file_path,\n",
    "                           offset_dict=offset_dict,\n",
    "                           rank=1,\n",
    "                           world_size=2,\n",
    "                           text_sampler=str_sampler,\n",
    "                           bioseq_sampler=str_sampler,\n",
    "                           text_tok=text_tok,\n",
    "                           bioseq_tok=bioseq_tok,\n",
    "                           logger=None)"
   ]
  },
  {
   "cell_type": "code",
   "execution_count": 40,
   "id": "rising-powell",
   "metadata": {
    "ExecuteTime": {
     "end_time": "2021-04-18T15:47:13.209370Z",
     "start_time": "2021-04-18T15:47:12.892525Z"
    }
   },
   "outputs": [
    {
     "name": "stdout",
     "output_type": "stream",
     "text": [
      "              total        used        free      shared  buff/cache   available\r\n",
      "Mem:           31Gi       6.7Gi        19Gi       0.0Ki       4.7Gi        24Gi\r\n",
      "Swap:         979Mi       979Mi       0.0Ki\r\n"
     ]
    }
   ],
   "source": [
    "!free -h"
   ]
  },
  {
   "cell_type": "code",
   "execution_count": 41,
   "id": "capable-hierarchy",
   "metadata": {
    "ExecuteTime": {
     "end_time": "2021-04-18T15:47:13.214017Z",
     "start_time": "2021-04-18T15:47:13.211096Z"
    }
   },
   "outputs": [
    {
     "data": {
      "text/plain": [
       "1.2000000000000002"
      ]
     },
     "execution_count": 41,
     "metadata": {},
     "output_type": "execute_result"
    }
   ],
   "source": [
    "6.7 - 5.5"
   ]
  },
  {
   "cell_type": "code",
   "execution_count": 42,
   "id": "boxed-arthritis",
   "metadata": {
    "ExecuteTime": {
     "end_time": "2021-04-18T15:47:13.221748Z",
     "start_time": "2021-04-18T15:47:13.215323Z"
    }
   },
   "outputs": [
    {
     "data": {
      "text/plain": [
       "2.6000000000000005"
      ]
     },
     "execution_count": 42,
     "metadata": {},
     "output_type": "execute_result"
    }
   ],
   "source": [
    "6.7 - 4.1"
   ]
  },
  {
   "cell_type": "code",
   "execution_count": 43,
   "id": "raised-pocket",
   "metadata": {
    "ExecuteTime": {
     "end_time": "2021-04-18T15:47:17.172493Z",
     "start_time": "2021-04-18T15:47:17.164365Z"
    }
   },
   "outputs": [
    {
     "name": "stdout",
     "output_type": "stream",
     "text": [
      " Ranavirus. NCBI_TaxID=654924; NCBI_TaxID=30343; Dryophytes versicolor (chameleon treefrog). NCBI_Ta 100\n",
      "APVEWNNPPSEKGLIVGHFSGIKYKGEKAQASEVDVNKMCCWVSKFKDAMRRYQGIQTCKIPGKVLSDLDAKIKAYNLTVEGVEGFVRYSRVTKQHVAAF 100\n",
      "=\"ECO:0000255|HAMAP-Rule:MF_00445\" TRANSMEM 354..374 /note=\"Helical\" /evidence=\"ECO:0000255|HAMAP-Ru 100\n",
      "GEIELQEIVNGLINTQMYNSPGISIALIFITVGIGFKLSPAPSHQWTPDVYEGSPTPVVAFLSVTSKVAASASATRIFDIPFYFSSNEWHPLLEILAILS 100\n"
     ]
    }
   ],
   "source": [
    "assert not(torch.equal(ds1[0][0], ds2[0][0]))"
   ]
  },
  {
   "cell_type": "code",
   "execution_count": 44,
   "id": "tested-coupon",
   "metadata": {
    "ExecuteTime": {
     "end_time": "2021-04-18T15:47:17.682966Z",
     "start_time": "2021-04-18T15:47:17.671170Z"
    }
   },
   "outputs": [
    {
     "name": "stdout",
     "output_type": "stream",
     "text": [
      "41. RecName: Full=Putative transcription factor 001R; ORFNames=FV3-001R; Frog virus 3 (isolate Goorh 100\n",
      "SAEDVLKEYDRRRRMEALLLSLYYPNDRKLLDYKEWSPPRVQVECPKAPVEWNNPPSEKGLIVGHFSGIKYKGEKAQASEVDVNKMCCWVSKFKDAMRRY 100\n",
      "valuation and plastome evolution.\"; Nucleic Acids Res. 36:2366-2378(2008). -!- FUNCTION: NDH shuttle 100\n",
      "FSSNEWHPLLEILAILSMILGNLIAITQTSMKRMLAYSSIGQIGYVIIGIIVGDANGGYASMITYMLFYISMNLGTFACIVLFGLRTGTDNIRDYAGLYT 100\n"
     ]
    }
   ],
   "source": [
    "assert not(torch.equal(ds1[0][1], ds2[0][1]))"
   ]
  },
  {
   "cell_type": "code",
   "execution_count": 45,
   "id": "political-bookmark",
   "metadata": {
    "ExecuteTime": {
     "end_time": "2021-04-18T15:47:24.045250Z",
     "start_time": "2021-04-18T15:47:24.035888Z"
    }
   },
   "outputs": [
    {
     "name": "stdout",
     "output_type": "stream",
     "text": [
      "lor (chameleon treefrog). NCBI_TaxID=8404; Lithobates pipiens (Northern leopard frog) (Rana pipiens) 100\n",
      "LSDLDAKIKAYNLTVEGVEGFVRYSRVTKQHVAAFLKELRHSKQYENVNLIHYILTDKRVDIQHLEKDLVKDFKALVESAHRMRQGHMINVKYILYQLLK 100\n"
     ]
    },
    {
     "data": {
      "text/plain": [
       "(tensor([[11335,   263, 41317, 13354, 11438,  1818,  5021,  3035,   318,  4581,\n",
       "           1014,   284,   279,   275,   271,   275,   282, 31088, 21727,   741,\n",
       "            741,  1323,   263,  5049, 15931, 11438,   264,   263, 22143,   741,\n",
       "            741,  1323,   264,     0,     0,     0,     0,     0,     0,     0,\n",
       "              0,     0,     0,     0,     0,     0,     0,     0,     0,     0,\n",
       "              0,     0,     0,     0,     0,     0,     0,     0,     0,     0,\n",
       "              0,     0,     0,     0,     0,     0,     0,     0,     0,     0,\n",
       "              0,     0,     0,     0,     0,     0,     0,     0,     0,     0,\n",
       "              0,     0,     0,     0,     0,     0,     0,     0,     0,     0,\n",
       "              0,     0,     0,     0,     0,     0,     0,     0,     0,     0,\n",
       "              0,     0,     0,     0,     0,     0,     0,     0,     0,     0,\n",
       "              0,     0,     0,     0,     0,     0,     0,     0,     0,     0]]),\n",
       " tensor([[ True,  True,  True,  True,  True,  True,  True,  True,  True,  True,\n",
       "           True,  True,  True,  True,  True,  True,  True,  True,  True,  True,\n",
       "           True,  True,  True,  True,  True,  True,  True,  True,  True,  True,\n",
       "           True,  True,  True, False, False, False, False, False, False, False,\n",
       "          False, False, False, False, False, False, False, False, False, False,\n",
       "          False, False, False, False, False, False, False, False, False, False,\n",
       "          False, False, False, False, False, False, False, False, False, False,\n",
       "          False, False, False, False, False, False, False, False, False, False,\n",
       "          False, False, False, False, False, False, False, False, False, False,\n",
       "          False, False, False, False, False, False, False, False, False, False,\n",
       "          False, False, False, False, False, False, False, False, False, False,\n",
       "          False, False, False, False, False, False, False, False, False, False]]),\n",
       " tensor([ 9, 16,  2,  9,  2,  0,  8,  7,  8,  0, 21, 11,  9, 17, 19,  3,  5, 19,\n",
       "          3,  5,  4, 19, 15, 21, 16, 15, 19, 17,  8, 14,  6, 19,  0,  0,  4,  9,\n",
       "          8,  3,  9, 15,  6, 16,  8, 14, 21,  3, 11, 19, 11,  9,  7,  6, 21,  7,\n",
       "          9, 17,  2,  8, 15, 19,  2,  7, 14,  6,  9,  3,  8,  2,  9, 19,  8,  2,\n",
       "          4,  8,  0,  9, 19,  3, 16,  0,  6, 15, 10, 15, 14,  5,  6, 10,  7, 11,\n",
       "         19,  8, 21,  7,  9, 21, 14,  9,  9,  8,  0,  0,  0,  0,  0,  0,  0,  0,\n",
       "          0,  0,  0,  0,  0,  0,  0,  0,  0,  0,  0,  0]),\n",
       " tensor([ True,  True,  True,  True,  True,  True,  True,  True,  True,  True,\n",
       "          True,  True,  True,  True,  True,  True,  True,  True,  True,  True,\n",
       "          True,  True,  True,  True,  True,  True,  True,  True,  True,  True,\n",
       "          True,  True,  True,  True,  True,  True,  True,  True,  True,  True,\n",
       "          True,  True,  True,  True,  True,  True,  True,  True,  True,  True,\n",
       "          True,  True,  True,  True,  True,  True,  True,  True,  True,  True,\n",
       "          True,  True,  True,  True,  True,  True,  True,  True,  True,  True,\n",
       "          True,  True,  True,  True,  True,  True,  True,  True,  True,  True,\n",
       "          True,  True,  True,  True,  True,  True,  True,  True,  True,  True,\n",
       "          True,  True,  True,  True,  True,  True,  True,  True,  True,  True,\n",
       "         False, False, False, False, False, False, False, False, False, False,\n",
       "         False, False, False, False, False, False, False, False, False, False]))"
      ]
     },
     "execution_count": 45,
     "metadata": {},
     "output_type": "execute_result"
    }
   ],
   "source": [
    "ds1[0]"
   ]
  },
  {
   "cell_type": "code",
   "execution_count": 48,
   "id": "together-labor",
   "metadata": {
    "ExecuteTime": {
     "end_time": "2021-04-18T15:47:30.909533Z",
     "start_time": "2021-04-18T15:47:30.896280Z"
    }
   },
   "outputs": [
    {
     "name": "stdout",
     "output_type": "stream",
     "text": [
      "11-DEC-2019; entry version 24. RecName: Full=NAD(P)H-quinone oxidoreductase subunit 2 B; chloroplast 100\n",
      "SPGISIALIFITVGIGFKLSPAPSHQWTPDVYEGSPTPVVAFLSVTSKVAASASATRIFDIPFYFSSNEWHPLLEILAILSMILGNLIAITQTSMKRMLA 100\n"
     ]
    },
    {
     "data": {
      "text/plain": [
       "(tensor([[  272,   272,   268,  4628,   268,   273,   271,   272,   280,   282,\n",
       "           5362,  3273,   273,   275,   269,  1020,  1981,   281,  1476,   284,\n",
       "          43928,   263,   335,   264,   327,   268,  8607,   637, 33731,   639,\n",
       "           5015,    83,   894,  1783,  5695,   273,   321,   282, 23135,   676,\n",
       "            952,     0,     0,     0,     0,     0,     0,     0,     0,     0,\n",
       "              0,     0,     0,     0,     0,     0,     0,     0,     0,     0,\n",
       "              0,     0,     0,     0,     0,     0,     0,     0,     0,     0,\n",
       "              0,     0,     0,     0,     0,     0,     0,     0,     0,     0,\n",
       "              0,     0,     0,     0,     0,     0,     0,     0,     0,     0,\n",
       "              0,     0,     0,     0,     0,     0,     0,     0,     0,     0,\n",
       "              0,     0,     0,     0,     0,     0,     0,     0,     0,     0,\n",
       "              0,     0,     0,     0,     0,     0,     0,     0,     0,     0]]),\n",
       " tensor([[ True,  True,  True,  True,  True,  True,  True,  True,  True,  True,\n",
       "           True,  True,  True,  True,  True,  True,  True,  True,  True,  True,\n",
       "           True,  True,  True,  True,  True,  True,  True,  True,  True,  True,\n",
       "           True,  True,  True,  True,  True,  True,  True,  True,  True,  True,\n",
       "           True, False, False, False, False, False, False, False, False, False,\n",
       "          False, False, False, False, False, False, False, False, False, False,\n",
       "          False, False, False, False, False, False, False, False, False, False,\n",
       "          False, False, False, False, False, False, False, False, False, False,\n",
       "          False, False, False, False, False, False, False, False, False, False,\n",
       "          False, False, False, False, False, False, False, False, False, False,\n",
       "          False, False, False, False, False, False, False, False, False, False,\n",
       "          False, False, False, False, False, False, False, False, False, False]]),\n",
       " tensor([16, 13,  5,  7, 16,  7,  0,  9,  7,  4,  7, 17, 19,  5,  7,  5,  4,  8,\n",
       "          9, 16, 13,  0, 13, 16,  6, 14, 20, 17, 13,  2, 19, 21,  3,  5, 16, 13,\n",
       "         17, 13, 19, 19,  0,  4,  9, 16, 19, 17, 16,  8, 19,  0,  0, 16,  0, 16,\n",
       "          0, 17, 15,  7,  4,  2,  7, 13,  4, 21,  4, 16, 16, 11,  3, 20,  6, 13,\n",
       "          9,  9,  3,  7,  9,  0,  7,  9, 16, 10,  7,  9,  5, 11,  9,  7,  0,  7,\n",
       "         17, 14, 17, 16, 10,  8, 15, 10,  9,  0,  0,  0,  0,  0,  0,  0,  0,  0,\n",
       "          0,  0,  0,  0,  0,  0,  0,  0,  0,  0,  0,  0]),\n",
       " tensor([ True,  True,  True,  True,  True,  True,  True,  True,  True,  True,\n",
       "          True,  True,  True,  True,  True,  True,  True,  True,  True,  True,\n",
       "          True,  True,  True,  True,  True,  True,  True,  True,  True,  True,\n",
       "          True,  True,  True,  True,  True,  True,  True,  True,  True,  True,\n",
       "          True,  True,  True,  True,  True,  True,  True,  True,  True,  True,\n",
       "          True,  True,  True,  True,  True,  True,  True,  True,  True,  True,\n",
       "          True,  True,  True,  True,  True,  True,  True,  True,  True,  True,\n",
       "          True,  True,  True,  True,  True,  True,  True,  True,  True,  True,\n",
       "          True,  True,  True,  True,  True,  True,  True,  True,  True,  True,\n",
       "          True,  True,  True,  True,  True,  True,  True,  True,  True,  True,\n",
       "         False, False, False, False, False, False, False, False, False, False,\n",
       "         False, False, False, False, False, False, False, False, False, False]))"
      ]
     },
     "execution_count": 48,
     "metadata": {},
     "output_type": "execute_result"
    }
   ],
   "source": [
    "ds2[0]"
   ]
  },
  {
   "cell_type": "markdown",
   "id": "advised-accommodation",
   "metadata": {},
   "source": [
    "# Real parameter dataset setup"
   ]
  },
  {
   "cell_type": "code",
   "execution_count": 49,
   "id": "italic-cream",
   "metadata": {
    "ExecuteTime": {
     "end_time": "2021-04-18T15:47:45.942704Z",
     "start_time": "2021-04-18T15:47:45.937404Z"
    }
   },
   "outputs": [],
   "source": [
    "text_sampler = partial(basic_rand_sampler, sample_len=1024)\n",
    "text_tok     = partial(tokenize, context_length=1024, return_mask=True)\n",
    "\n",
    "bioseq_sampler = partial(basic_rand_sampler, sample_len=512)\n",
    "bioseq_tok     = partial(basic_aa_tokenizer, context_length=512, return_mask=True)"
   ]
  },
  {
   "cell_type": "code",
   "execution_count": 50,
   "id": "regulated-injection",
   "metadata": {
    "ExecuteTime": {
     "end_time": "2021-04-18T15:47:48.074607Z",
     "start_time": "2021-04-18T15:47:46.640581Z"
    }
   },
   "outputs": [
    {
     "name": "stdout",
     "output_type": "stream",
     "text": [
      "2021-04-18 17:47:46.644228 rank: 0 dataset information:\n",
      "           total len: 564278\n",
      "            rank len: 282139\n",
      "    rank line offset: 0\n",
      "    rank byte offset: 118\n",
      "2021-04-18 17:47:48.073161 rank: 0 dataset load data time: 1.429 s\n",
      "2021-04-18 17:47:48.073235 rank: 0 dataset len: 282139\n"
     ]
    }
   ],
   "source": [
    "ds_real = CLASPRankSplitDataset(file_path=file_path,\n",
    "                           offset_dict=offset_dict,\n",
    "                           rank=0,\n",
    "                           world_size=2,\n",
    "                           text_sampler=text_sampler,\n",
    "                           bioseq_sampler=bioseq_sampler,\n",
    "                           text_tok=text_tok,\n",
    "                           bioseq_tok=bioseq_tok,\n",
    "                           logger=None)"
   ]
  },
  {
   "cell_type": "markdown",
   "id": "changed-passing",
   "metadata": {},
   "source": [
    "## Small sample"
   ]
  },
  {
   "cell_type": "code",
   "execution_count": 51,
   "id": "knowing-powell",
   "metadata": {
    "ExecuteTime": {
     "end_time": "2021-04-18T15:47:54.624267Z",
     "start_time": "2021-04-18T15:47:54.616382Z"
    }
   },
   "outputs": [
    {
     "data": {
      "text/plain": [
       "[(246, 637),\n",
       " (622, 700),\n",
       " (629, 926),\n",
       " (646, 917),\n",
       " (824, 942),\n",
       " (1877, 818),\n",
       " (2307, 914),\n",
       " (2515, 974),\n",
       " (2545, 962),\n",
       " (2551, 972),\n",
       " (3124, 1007)]"
      ]
     },
     "execution_count": 51,
     "metadata": {},
     "output_type": "execute_result"
    }
   ],
   "source": [
    "# find some smaller length test cases\n",
    "[(i,len(ds_real.data[i])) for i in range(10000) if len(ds_real.data[i]) < 1024]"
   ]
  },
  {
   "cell_type": "code",
   "execution_count": 52,
   "id": "demanding-cleanup",
   "metadata": {
    "ExecuteTime": {
     "end_time": "2021-04-18T15:47:56.169716Z",
     "start_time": "2021-04-18T15:47:56.164741Z"
    }
   },
   "outputs": [],
   "source": [
    "idx = 246"
   ]
  },
  {
   "cell_type": "code",
   "execution_count": 53,
   "id": "electrical-rubber",
   "metadata": {
    "ExecuteTime": {
     "end_time": "2021-04-18T15:47:56.655403Z",
     "start_time": "2021-04-18T15:47:56.647072Z"
    }
   },
   "outputs": [
    {
     "data": {
      "text/plain": [
       "'12KD_MYCSM Reviewed; 24 AA.,P80438;,01-NOV-1995; integrated into UniProtKB/Swiss-Prot. 01-NOV-1995; sequence version 1. 11-DEC-2019; entry version 23.,RecName: Full=12 kDa protein; Flags: Fragment;,,Mycolicibacterium smegmatis (Mycobacterium smegmatis).,,Bacteria; Actinobacteria; Corynebacteriales; Mycobacteriaceae; Mycolicibacterium.,NCBI_TaxID=1772;,,[1],PROTEIN SEQUENCE.,,,,Pahl A.; Keller U.;,,Submitted (MAR-1995) to UniProtKB.,,,CHAIN 1..>24 /note=\"12 kDa protein\" /id=\"PRO_0000064349\" NON_TER 24,1: Evidence at protein level;,Direct protein sequencing.,SEQUENCE 24 AA; 2766 MW; 0D19F1F488DB3201 CRC64;,MFHVLTLTYLCPLDVVXQTRPAHV\\n'"
      ]
     },
     "execution_count": 53,
     "metadata": {},
     "output_type": "execute_result"
    }
   ],
   "source": [
    "ds_real.data[idx]"
   ]
  },
  {
   "cell_type": "code",
   "execution_count": 54,
   "id": "international-lyric",
   "metadata": {
    "ExecuteTime": {
     "end_time": "2021-04-18T15:47:57.149307Z",
     "start_time": "2021-04-18T15:47:57.110611Z"
    }
   },
   "outputs": [
    {
     "name": "stdout",
     "output_type": "stream",
     "text": [
      "12KD_MYCSM Reviewed; 24 AA. P80438; 01-NOV-1995; integrated into UniProtKB/Swiss-Prot. 01-NOV-1995; sequence version 1. 11-DEC-2019; entry version 23. RecName: Full=12 kDa protein; Flags: Fragment; Mycolicibacterium smegmatis (Mycobacterium smegmatis). Bacteria; Actinobacteria; Corynebacteriales; Mycobacteriaceae; Mycolicibacterium. NCBI_TaxID=1772; [1] PROTEIN SEQUENCE. Pahl A.; Keller U.; Submitted (MAR-1995) to UniProtKB. CHAIN 1..>24 /note=\"12 kDa protein\" /id=\"PRO_0000064349\" NON_TER 24 1: Evidence at protein level; Direct protein sequencing. SEQUENCE 24 AA; 2766 MW; 0D19F1F488DB3201 CRC64; 602\n",
      "MFHVLTLTYLCPLDVVXQTRPAHV 24\n"
     ]
    },
    {
     "data": {
      "text/plain": [
       "(tensor([[  272,   273, 15597,  ...,     0,     0,     0]]),\n",
       " tensor([[ True,  True,  True,  ..., False, False, False]]),\n",
       " tensor([10,  4,  6, 19,  9, 17,  9, 17, 21,  9,  1, 13,  9,  2, 19, 19, 22, 14,\n",
       "         17, 15, 13,  0,  6, 19,  0,  0,  0,  0,  0,  0,  0,  0,  0,  0,  0,  0,\n",
       "          0,  0,  0,  0,  0,  0,  0,  0,  0,  0,  0,  0,  0,  0,  0,  0,  0,  0,\n",
       "          0,  0,  0,  0,  0,  0,  0,  0,  0,  0,  0,  0,  0,  0,  0,  0,  0,  0,\n",
       "          0,  0,  0,  0,  0,  0,  0,  0,  0,  0,  0,  0,  0,  0,  0,  0,  0,  0,\n",
       "          0,  0,  0,  0,  0,  0,  0,  0,  0,  0,  0,  0,  0,  0,  0,  0,  0,  0,\n",
       "          0,  0,  0,  0,  0,  0,  0,  0,  0,  0,  0,  0,  0,  0,  0,  0,  0,  0,\n",
       "          0,  0,  0,  0,  0,  0,  0,  0,  0,  0,  0,  0,  0,  0,  0,  0,  0,  0,\n",
       "          0,  0,  0,  0,  0,  0,  0,  0,  0,  0,  0,  0,  0,  0,  0,  0,  0,  0,\n",
       "          0,  0,  0,  0,  0,  0,  0,  0,  0,  0,  0,  0,  0,  0,  0,  0,  0,  0,\n",
       "          0,  0,  0,  0,  0,  0,  0,  0,  0,  0,  0,  0,  0,  0,  0,  0,  0,  0,\n",
       "          0,  0,  0,  0,  0,  0,  0,  0,  0,  0,  0,  0,  0,  0,  0,  0,  0,  0,\n",
       "          0,  0,  0,  0,  0,  0,  0,  0,  0,  0,  0,  0,  0,  0,  0,  0,  0,  0,\n",
       "          0,  0,  0,  0,  0,  0,  0,  0,  0,  0,  0,  0,  0,  0,  0,  0,  0,  0,\n",
       "          0,  0,  0,  0,  0,  0,  0,  0,  0,  0,  0,  0,  0,  0,  0,  0,  0,  0,\n",
       "          0,  0,  0,  0,  0,  0,  0,  0,  0,  0,  0,  0,  0,  0,  0,  0,  0,  0,\n",
       "          0,  0,  0,  0,  0,  0,  0,  0,  0,  0,  0,  0,  0,  0,  0,  0,  0,  0,\n",
       "          0,  0,  0,  0,  0,  0,  0,  0,  0,  0,  0,  0,  0,  0,  0,  0,  0,  0,\n",
       "          0,  0,  0,  0,  0,  0,  0,  0,  0,  0,  0,  0,  0,  0,  0,  0,  0,  0,\n",
       "          0,  0,  0,  0,  0,  0,  0,  0,  0,  0,  0,  0,  0,  0,  0,  0,  0,  0,\n",
       "          0,  0,  0,  0,  0,  0,  0,  0,  0,  0,  0,  0,  0,  0,  0,  0,  0,  0,\n",
       "          0,  0,  0,  0,  0,  0,  0,  0,  0,  0,  0,  0,  0,  0,  0,  0,  0,  0,\n",
       "          0,  0,  0,  0,  0,  0,  0,  0,  0,  0,  0,  0,  0,  0,  0,  0,  0,  0,\n",
       "          0,  0,  0,  0,  0,  0,  0,  0,  0,  0,  0,  0,  0,  0,  0,  0,  0,  0,\n",
       "          0,  0,  0,  0,  0,  0,  0,  0,  0,  0,  0,  0,  0,  0,  0,  0,  0,  0,\n",
       "          0,  0,  0,  0,  0,  0,  0,  0,  0,  0,  0,  0,  0,  0,  0,  0,  0,  0,\n",
       "          0,  0,  0,  0,  0,  0,  0,  0,  0,  0,  0,  0,  0,  0,  0,  0,  0,  0,\n",
       "          0,  0,  0,  0,  0,  0,  0,  0,  0,  0,  0,  0,  0,  0,  0,  0,  0,  0,\n",
       "          0,  0,  0,  0,  0,  0,  0,  0]),\n",
       " tensor([ True,  True,  True,  True,  True,  True,  True,  True,  True,  True,\n",
       "          True,  True,  True,  True,  True,  True,  True,  True,  True,  True,\n",
       "          True,  True,  True,  True, False, False, False, False, False, False,\n",
       "         False, False, False, False, False, False, False, False, False, False,\n",
       "         False, False, False, False, False, False, False, False, False, False,\n",
       "         False, False, False, False, False, False, False, False, False, False,\n",
       "         False, False, False, False, False, False, False, False, False, False,\n",
       "         False, False, False, False, False, False, False, False, False, False,\n",
       "         False, False, False, False, False, False, False, False, False, False,\n",
       "         False, False, False, False, False, False, False, False, False, False,\n",
       "         False, False, False, False, False, False, False, False, False, False,\n",
       "         False, False, False, False, False, False, False, False, False, False,\n",
       "         False, False, False, False, False, False, False, False, False, False,\n",
       "         False, False, False, False, False, False, False, False, False, False,\n",
       "         False, False, False, False, False, False, False, False, False, False,\n",
       "         False, False, False, False, False, False, False, False, False, False,\n",
       "         False, False, False, False, False, False, False, False, False, False,\n",
       "         False, False, False, False, False, False, False, False, False, False,\n",
       "         False, False, False, False, False, False, False, False, False, False,\n",
       "         False, False, False, False, False, False, False, False, False, False,\n",
       "         False, False, False, False, False, False, False, False, False, False,\n",
       "         False, False, False, False, False, False, False, False, False, False,\n",
       "         False, False, False, False, False, False, False, False, False, False,\n",
       "         False, False, False, False, False, False, False, False, False, False,\n",
       "         False, False, False, False, False, False, False, False, False, False,\n",
       "         False, False, False, False, False, False, False, False, False, False,\n",
       "         False, False, False, False, False, False, False, False, False, False,\n",
       "         False, False, False, False, False, False, False, False, False, False,\n",
       "         False, False, False, False, False, False, False, False, False, False,\n",
       "         False, False, False, False, False, False, False, False, False, False,\n",
       "         False, False, False, False, False, False, False, False, False, False,\n",
       "         False, False, False, False, False, False, False, False, False, False,\n",
       "         False, False, False, False, False, False, False, False, False, False,\n",
       "         False, False, False, False, False, False, False, False, False, False,\n",
       "         False, False, False, False, False, False, False, False, False, False,\n",
       "         False, False, False, False, False, False, False, False, False, False,\n",
       "         False, False, False, False, False, False, False, False, False, False,\n",
       "         False, False, False, False, False, False, False, False, False, False,\n",
       "         False, False, False, False, False, False, False, False, False, False,\n",
       "         False, False, False, False, False, False, False, False, False, False,\n",
       "         False, False, False, False, False, False, False, False, False, False,\n",
       "         False, False, False, False, False, False, False, False, False, False,\n",
       "         False, False, False, False, False, False, False, False, False, False,\n",
       "         False, False, False, False, False, False, False, False, False, False,\n",
       "         False, False, False, False, False, False, False, False, False, False,\n",
       "         False, False, False, False, False, False, False, False, False, False,\n",
       "         False, False, False, False, False, False, False, False, False, False,\n",
       "         False, False, False, False, False, False, False, False, False, False,\n",
       "         False, False, False, False, False, False, False, False, False, False,\n",
       "         False, False, False, False, False, False, False, False, False, False,\n",
       "         False, False, False, False, False, False, False, False, False, False,\n",
       "         False, False]))"
      ]
     },
     "execution_count": 54,
     "metadata": {},
     "output_type": "execute_result"
    }
   ],
   "source": [
    "ds_real[idx]"
   ]
  },
  {
   "cell_type": "code",
   "execution_count": 55,
   "id": "decreased-theory",
   "metadata": {
    "ExecuteTime": {
     "end_time": "2021-04-18T15:47:57.558473Z",
     "start_time": "2021-04-18T15:47:57.548022Z"
    }
   },
   "outputs": [
    {
     "data": {
      "text/plain": [
       "['12KD_MYCSM Reviewed; 24 AA.',\n",
       " 'P80438;',\n",
       " '01-NOV-1995; integrated into UniProtKB/Swiss-Prot. 01-NOV-1995; sequence version 1. 11-DEC-2019; entry version 23.',\n",
       " 'RecName: Full=12 kDa protein; Flags: Fragment;',\n",
       " '',\n",
       " 'Mycolicibacterium smegmatis (Mycobacterium smegmatis).',\n",
       " '',\n",
       " 'Bacteria; Actinobacteria; Corynebacteriales; Mycobacteriaceae; Mycolicibacterium.',\n",
       " 'NCBI_TaxID=1772;',\n",
       " '',\n",
       " '[1]',\n",
       " 'PROTEIN SEQUENCE.',\n",
       " '',\n",
       " '',\n",
       " '',\n",
       " 'Pahl A.; Keller U.;',\n",
       " '',\n",
       " 'Submitted (MAR-1995) to UniProtKB.',\n",
       " '',\n",
       " '',\n",
       " 'CHAIN 1..>24 /note=\"12 kDa protein\" /id=\"PRO_0000064349\" NON_TER 24',\n",
       " '1: Evidence at protein level;',\n",
       " 'Direct protein sequencing.',\n",
       " 'SEQUENCE 24 AA; 2766 MW; 0D19F1F488DB3201 CRC64;',\n",
       " 'MFHVLTLTYLCPLDVVXQTRPAHV']"
      ]
     },
     "execution_count": 55,
     "metadata": {},
     "output_type": "execute_result"
    }
   ],
   "source": [
    "sample = ds_real.data[idx][:-1].split(\",\"); sample"
   ]
  },
  {
   "cell_type": "code",
   "execution_count": 56,
   "id": "defined-ukraine",
   "metadata": {
    "ExecuteTime": {
     "end_time": "2021-04-18T15:47:58.069656Z",
     "start_time": "2021-04-18T15:47:58.064402Z"
    }
   },
   "outputs": [
    {
     "data": {
      "text/plain": [
       "'12KD_MYCSM Reviewed; 24 AA. P80438; 01-NOV-1995; integrated into UniProtKB/Swiss-Prot. 01-NOV-1995; sequence version 1. 11-DEC-2019; entry version 23. RecName: Full=12 kDa protein; Flags: Fragment;  Mycolicibacterium smegmatis (Mycobacterium smegmatis).  Bacteria; Actinobacteria; Corynebacteriales; Mycobacteriaceae; Mycolicibacterium. NCBI_TaxID=1772;  [1] PROTEIN SEQUENCE.    Pahl A.; Keller U.;  Submitted (MAR-1995) to UniProtKB.   CHAIN 1..>24 /note=\"12 kDa protein\" /id=\"PRO_0000064349\" NON_TER 24 1: Evidence at protein level; Direct protein sequencing. SEQUENCE 24 AA; 2766 MW; 0D19F1F488DB3201 CRC64;'"
      ]
     },
     "execution_count": 56,
     "metadata": {},
     "output_type": "execute_result"
    }
   ],
   "source": [
    "\" \".join(sample[:-1])"
   ]
  },
  {
   "cell_type": "code",
   "execution_count": 57,
   "id": "noticed-ideal",
   "metadata": {
    "ExecuteTime": {
     "end_time": "2021-04-18T15:47:58.541113Z",
     "start_time": "2021-04-18T15:47:58.532860Z"
    }
   },
   "outputs": [
    {
     "data": {
      "text/plain": [
       "'MFHVLTLTYLCPLDVVXQTRPAHV'"
      ]
     },
     "execution_count": 57,
     "metadata": {},
     "output_type": "execute_result"
    }
   ],
   "source": [
    "sample[-1]"
   ]
  },
  {
   "cell_type": "markdown",
   "id": "coastal-processing",
   "metadata": {},
   "source": [
    "## Long sample"
   ]
  },
  {
   "cell_type": "code",
   "execution_count": 58,
   "id": "missing-sigma",
   "metadata": {
    "ExecuteTime": {
     "end_time": "2021-04-18T15:48:29.429321Z",
     "start_time": "2021-04-18T15:48:29.423975Z"
    }
   },
   "outputs": [],
   "source": [
    "idx = 0"
   ]
  },
  {
   "cell_type": "code",
   "execution_count": 59,
   "id": "liberal-adjustment",
   "metadata": {
    "ExecuteTime": {
     "end_time": "2021-04-18T15:48:30.244141Z",
     "start_time": "2021-04-18T15:48:30.235898Z"
    }
   },
   "outputs": [
    {
     "data": {
      "text/plain": [
       "'001R_FRG3G Reviewed; 256 AA.,Q6GZX4;,28-JUN-2011; integrated into UniProtKB/Swiss-Prot. 19-JUL-2004; sequence version 1. 12-AUG-2020; entry version 41.,RecName: Full=Putative transcription factor 001R;,ORFNames=FV3-001R;,Frog virus 3 (isolate Goorha) (FV-3).,,Viruses; Varidnaviria; Bamfordvirae; Nucleocytoviricota; Megaviricetes; Pimascovirales; Iridoviridae; Alphairidovirinae; Ranavirus.,NCBI_TaxID=654924;,NCBI_TaxID=30343; Dryophytes versicolor (chameleon treefrog). NCBI_TaxID=8404; Lithobates pipiens (Northern leopard frog) (Rana pipiens). NCBI_TaxID=45438; Lithobates sylvaticus (Wood frog) (Rana sylvatica). NCBI_TaxID=8316; Notophthalmus viridescens (Eastern newt) (Triturus viridescens).,[1],NUCLEOTIDE SEQUENCE [LARGE SCALE GENOMIC DNA].,,PubMed=15165820; DOI=10.1016/j.virol.2004.02.019;,,Tan W.G.; Barkman T.J.; Gregory Chinchar V.; Essani K.;,\"Comparative genomic analyses of frog virus 3; type species of the genus Ranavirus (family Iridoviridae).\";,Virology 323:70-84(2004).,-!- FUNCTION: Transcription activation. {ECO:0000305}.,EMBL; AY548484; AAT09660.1; -; Genomic_DNA. RefSeq; YP_031579.1; NC_005946.1. SwissPalm; Q6GZX4; -. GeneID; 2947773; -. KEGG; vg:2947773; -. Proteomes; UP000008770; Genome. GO; GO:0046782; P:regulation of viral transcription; IEA:InterPro. InterPro; IPR007031; Poxvirus_VLTF3. Pfam; PF04947; Pox_VLTF3; 1.,CHAIN 1..256 /note=\"Putative transcription factor 001R\" /id=\"PRO_0000410512\" COMPBIAS 14..17 /note=\"Poly-Arg\",4: Predicted;,Activator; Reference proteome; Transcription; Transcription regulation.,SEQUENCE 256 AA; 29735 MW; B4840739BF7D4121 CRC64;,MAFSAEDVLKEYDRRRRMEALLLSLYYPNDRKLLDYKEWSPPRVQVECPKAPVEWNNPPSEKGLIVGHFSGIKYKGEKAQASEVDVNKMCCWVSKFKDAMRRYQGIQTCKIPGKVLSDLDAKIKAYNLTVEGVEGFVRYSRVTKQHVAAFLKELRHSKQYENVNLIHYILTDKRVDIQHLEKDLVKDFKALVESAHRMRQGHMINVKYILYQLLKKHGHGPDGPDILTVKTGSKGVLYDDSFRKIYTDLGWKFTPL\\n'"
      ]
     },
     "execution_count": 59,
     "metadata": {},
     "output_type": "execute_result"
    }
   ],
   "source": [
    "ds_real.data[idx]"
   ]
  },
  {
   "cell_type": "code",
   "execution_count": 60,
   "id": "announced-institution",
   "metadata": {
    "ExecuteTime": {
     "end_time": "2021-04-18T15:48:30.863039Z",
     "start_time": "2021-04-18T15:48:30.845077Z"
    }
   },
   "outputs": [
    {
     "name": "stdout",
     "output_type": "stream",
     "text": [
      "Prot. 19-JUL-2004; sequence version 1. 12-AUG-2020; entry version 41. RecName: Full=Putative transcription factor 001R; ORFNames=FV3-001R; Frog virus 3 (isolate Goorha) (FV-3). Viruses; Varidnaviria; Bamfordvirae; Nucleocytoviricota; Megaviricetes; Pimascovirales; Iridoviridae; Alphairidovirinae; Ranavirus. NCBI_TaxID=654924; NCBI_TaxID=30343; Dryophytes versicolor (chameleon treefrog). NCBI_TaxID=8404; Lithobates pipiens (Northern leopard frog) (Rana pipiens). NCBI_TaxID=45438; Lithobates sylvaticus (Wood frog) (Rana sylvatica). NCBI_TaxID=8316; Notophthalmus viridescens (Eastern newt) (Triturus viridescens). [1] NUCLEOTIDE SEQUENCE [LARGE SCALE GENOMIC DNA]. PubMed=15165820; DOI=10.1016/j.virol.2004.02.019; Tan W.G.; Barkman T.J.; Gregory Chinchar V.; Essani K.; \"Comparative genomic analyses of frog virus 3; type species of the genus Ranavirus (family Iridoviridae).\"; Virology 323:70-84(2004). -!- FUNCTION: Transcription activation. {ECO:0000305}. EMBL; AY548484; AAT09660.1; -; Genomic_DNA. RefSeq; YP_03157 1024\n",
      "MAFSAEDVLKEYDRRRRMEALLLSLYYPNDRKLLDYKEWSPPRVQVECPKAPVEWNNPPSEKGLIVGHFSGIKYKGEKAQASEVDVNKMCCWVSKFKDAMRRYQGIQTCKIPGKVLSDLDAKIKAYNLTVEGVEGFVRYSRVTKQHVAAFLKELRHSKQYENVNLIHYILTDKRVDIQHLEKDLVKDFKALVESAHRMRQGHMINVKYILYQLLKKHGHGPDGPDILTVKTGSKGVLYDDSFRKIYTDLGWKFTPL 256\n"
     ]
    },
    {
     "data": {
      "text/plain": [
       "(tensor([[644, 339, 269,  ...,   0,   0,   0]]),\n",
       " tensor([[ True,  True,  True,  ..., False, False, False]]),\n",
       " tensor([10,  0,  4, 16,  0,  3,  2, 19,  9,  8,  3, 21,  2, 15, 15, 15, 15, 10,\n",
       "          3,  0,  9,  9,  9, 16,  9, 21, 21, 13, 11,  2, 15,  8,  9,  9,  2, 21,\n",
       "          8,  3, 20, 16, 13, 13, 15, 19, 14, 19,  3,  1, 13,  8,  0, 13, 19,  3,\n",
       "         20, 11, 11, 13, 13, 16,  3,  8,  5,  9,  7, 19,  5,  6,  4, 16,  5,  7,\n",
       "          8, 21,  8,  5,  3,  8,  0, 14,  0, 16,  3, 19,  2, 19, 11,  8, 10,  1,\n",
       "          1, 20, 19, 16,  8,  4,  8,  2,  0, 10, 15, 15, 21, 14,  5,  7, 14, 17,\n",
       "          1,  8,  7, 13,  5,  8, 19,  9, 16,  2,  9,  2,  0,  8,  7,  8,  0, 21,\n",
       "         11,  9, 17, 19,  3,  5, 19,  3,  5,  4, 19, 15, 21, 16, 15, 19, 17,  8,\n",
       "         14,  6, 19,  0,  0,  4,  9,  8,  3,  9, 15,  6, 16,  8, 14, 21,  3, 11,\n",
       "         19, 11,  9,  7,  6, 21,  7,  9, 17,  2,  8, 15, 19,  2,  7, 14,  6,  9,\n",
       "          3,  8,  2,  9, 19,  8,  2,  4,  8,  0,  9, 19,  3, 16,  0,  6, 15, 10,\n",
       "         15, 14,  5,  6, 10,  7, 11, 19,  8, 21,  7,  9, 21, 14,  9,  9,  8,  8,\n",
       "          6,  5,  6,  5, 13,  2,  5, 13,  2,  7,  9, 17, 19,  8, 17,  5, 16,  8,\n",
       "          5, 19,  9, 21,  2,  2, 16,  4, 15,  8,  7, 21, 17,  2,  9,  5, 20,  8,\n",
       "          4, 17, 13,  9,  0,  0,  0,  0,  0,  0,  0,  0,  0,  0,  0,  0,  0,  0,\n",
       "          0,  0,  0,  0,  0,  0,  0,  0,  0,  0,  0,  0,  0,  0,  0,  0,  0,  0,\n",
       "          0,  0,  0,  0,  0,  0,  0,  0,  0,  0,  0,  0,  0,  0,  0,  0,  0,  0,\n",
       "          0,  0,  0,  0,  0,  0,  0,  0,  0,  0,  0,  0,  0,  0,  0,  0,  0,  0,\n",
       "          0,  0,  0,  0,  0,  0,  0,  0,  0,  0,  0,  0,  0,  0,  0,  0,  0,  0,\n",
       "          0,  0,  0,  0,  0,  0,  0,  0,  0,  0,  0,  0,  0,  0,  0,  0,  0,  0,\n",
       "          0,  0,  0,  0,  0,  0,  0,  0,  0,  0,  0,  0,  0,  0,  0,  0,  0,  0,\n",
       "          0,  0,  0,  0,  0,  0,  0,  0,  0,  0,  0,  0,  0,  0,  0,  0,  0,  0,\n",
       "          0,  0,  0,  0,  0,  0,  0,  0,  0,  0,  0,  0,  0,  0,  0,  0,  0,  0,\n",
       "          0,  0,  0,  0,  0,  0,  0,  0,  0,  0,  0,  0,  0,  0,  0,  0,  0,  0,\n",
       "          0,  0,  0,  0,  0,  0,  0,  0,  0,  0,  0,  0,  0,  0,  0,  0,  0,  0,\n",
       "          0,  0,  0,  0,  0,  0,  0,  0,  0,  0,  0,  0,  0,  0,  0,  0,  0,  0,\n",
       "          0,  0,  0,  0,  0,  0,  0,  0,  0,  0,  0,  0,  0,  0,  0,  0,  0,  0,\n",
       "          0,  0,  0,  0,  0,  0,  0,  0,  0,  0,  0,  0,  0,  0,  0,  0,  0,  0,\n",
       "          0,  0,  0,  0,  0,  0,  0,  0]),\n",
       " tensor([ True,  True,  True,  True,  True,  True,  True,  True,  True,  True,\n",
       "          True,  True,  True,  True,  True,  True,  True,  True,  True,  True,\n",
       "          True,  True,  True,  True,  True,  True,  True,  True,  True,  True,\n",
       "          True,  True,  True,  True,  True,  True,  True,  True,  True,  True,\n",
       "          True,  True,  True,  True,  True,  True,  True,  True,  True,  True,\n",
       "          True,  True,  True,  True,  True,  True,  True,  True,  True,  True,\n",
       "          True,  True,  True,  True,  True,  True,  True,  True,  True,  True,\n",
       "          True,  True,  True,  True,  True,  True,  True,  True,  True,  True,\n",
       "          True,  True,  True,  True,  True,  True,  True,  True,  True,  True,\n",
       "          True,  True,  True,  True,  True,  True,  True,  True,  True,  True,\n",
       "          True,  True,  True,  True,  True,  True,  True,  True,  True,  True,\n",
       "          True,  True,  True,  True,  True,  True,  True,  True,  True,  True,\n",
       "          True,  True,  True,  True,  True,  True,  True,  True,  True,  True,\n",
       "          True,  True,  True,  True,  True,  True,  True,  True,  True,  True,\n",
       "          True,  True,  True,  True,  True,  True,  True,  True,  True,  True,\n",
       "          True,  True,  True,  True,  True,  True,  True,  True,  True,  True,\n",
       "          True,  True,  True,  True,  True,  True,  True,  True,  True,  True,\n",
       "          True,  True,  True,  True,  True,  True,  True,  True,  True,  True,\n",
       "          True,  True,  True,  True,  True,  True,  True,  True,  True,  True,\n",
       "          True,  True,  True,  True,  True,  True,  True,  True,  True,  True,\n",
       "          True,  True,  True,  True,  True,  True,  True,  True,  True,  True,\n",
       "          True,  True,  True,  True,  True,  True,  True,  True,  True,  True,\n",
       "          True,  True,  True,  True,  True,  True,  True,  True,  True,  True,\n",
       "          True,  True,  True,  True,  True,  True,  True,  True,  True,  True,\n",
       "          True,  True,  True,  True,  True,  True,  True,  True,  True,  True,\n",
       "          True,  True,  True,  True,  True,  True, False, False, False, False,\n",
       "         False, False, False, False, False, False, False, False, False, False,\n",
       "         False, False, False, False, False, False, False, False, False, False,\n",
       "         False, False, False, False, False, False, False, False, False, False,\n",
       "         False, False, False, False, False, False, False, False, False, False,\n",
       "         False, False, False, False, False, False, False, False, False, False,\n",
       "         False, False, False, False, False, False, False, False, False, False,\n",
       "         False, False, False, False, False, False, False, False, False, False,\n",
       "         False, False, False, False, False, False, False, False, False, False,\n",
       "         False, False, False, False, False, False, False, False, False, False,\n",
       "         False, False, False, False, False, False, False, False, False, False,\n",
       "         False, False, False, False, False, False, False, False, False, False,\n",
       "         False, False, False, False, False, False, False, False, False, False,\n",
       "         False, False, False, False, False, False, False, False, False, False,\n",
       "         False, False, False, False, False, False, False, False, False, False,\n",
       "         False, False, False, False, False, False, False, False, False, False,\n",
       "         False, False, False, False, False, False, False, False, False, False,\n",
       "         False, False, False, False, False, False, False, False, False, False,\n",
       "         False, False, False, False, False, False, False, False, False, False,\n",
       "         False, False, False, False, False, False, False, False, False, False,\n",
       "         False, False, False, False, False, False, False, False, False, False,\n",
       "         False, False, False, False, False, False, False, False, False, False,\n",
       "         False, False, False, False, False, False, False, False, False, False,\n",
       "         False, False, False, False, False, False, False, False, False, False,\n",
       "         False, False, False, False, False, False, False, False, False, False,\n",
       "         False, False, False, False, False, False, False, False, False, False,\n",
       "         False, False]))"
      ]
     },
     "execution_count": 60,
     "metadata": {},
     "output_type": "execute_result"
    }
   ],
   "source": [
    "ds_real[idx]"
   ]
  },
  {
   "cell_type": "code",
   "execution_count": 61,
   "id": "middle-dakota",
   "metadata": {
    "ExecuteTime": {
     "end_time": "2021-04-18T15:48:31.470570Z",
     "start_time": "2021-04-18T15:48:31.464213Z"
    }
   },
   "outputs": [
    {
     "data": {
      "text/plain": [
       "['001R_FRG3G Reviewed; 256 AA.',\n",
       " 'Q6GZX4;',\n",
       " '28-JUN-2011; integrated into UniProtKB/Swiss-Prot. 19-JUL-2004; sequence version 1. 12-AUG-2020; entry version 41.',\n",
       " 'RecName: Full=Putative transcription factor 001R;',\n",
       " 'ORFNames=FV3-001R;',\n",
       " 'Frog virus 3 (isolate Goorha) (FV-3).',\n",
       " '',\n",
       " 'Viruses; Varidnaviria; Bamfordvirae; Nucleocytoviricota; Megaviricetes; Pimascovirales; Iridoviridae; Alphairidovirinae; Ranavirus.',\n",
       " 'NCBI_TaxID=654924;',\n",
       " 'NCBI_TaxID=30343; Dryophytes versicolor (chameleon treefrog). NCBI_TaxID=8404; Lithobates pipiens (Northern leopard frog) (Rana pipiens). NCBI_TaxID=45438; Lithobates sylvaticus (Wood frog) (Rana sylvatica). NCBI_TaxID=8316; Notophthalmus viridescens (Eastern newt) (Triturus viridescens).',\n",
       " '[1]',\n",
       " 'NUCLEOTIDE SEQUENCE [LARGE SCALE GENOMIC DNA].',\n",
       " '',\n",
       " 'PubMed=15165820; DOI=10.1016/j.virol.2004.02.019;',\n",
       " '',\n",
       " 'Tan W.G.; Barkman T.J.; Gregory Chinchar V.; Essani K.;',\n",
       " '\"Comparative genomic analyses of frog virus 3; type species of the genus Ranavirus (family Iridoviridae).\";',\n",
       " 'Virology 323:70-84(2004).',\n",
       " '-!- FUNCTION: Transcription activation. {ECO:0000305}.',\n",
       " 'EMBL; AY548484; AAT09660.1; -; Genomic_DNA. RefSeq; YP_031579.1; NC_005946.1. SwissPalm; Q6GZX4; -. GeneID; 2947773; -. KEGG; vg:2947773; -. Proteomes; UP000008770; Genome. GO; GO:0046782; P:regulation of viral transcription; IEA:InterPro. InterPro; IPR007031; Poxvirus_VLTF3. Pfam; PF04947; Pox_VLTF3; 1.',\n",
       " 'CHAIN 1..256 /note=\"Putative transcription factor 001R\" /id=\"PRO_0000410512\" COMPBIAS 14..17 /note=\"Poly-Arg\"',\n",
       " '4: Predicted;',\n",
       " 'Activator; Reference proteome; Transcription; Transcription regulation.',\n",
       " 'SEQUENCE 256 AA; 29735 MW; B4840739BF7D4121 CRC64;',\n",
       " 'MAFSAEDVLKEYDRRRRMEALLLSLYYPNDRKLLDYKEWSPPRVQVECPKAPVEWNNPPSEKGLIVGHFSGIKYKGEKAQASEVDVNKMCCWVSKFKDAMRRYQGIQTCKIPGKVLSDLDAKIKAYNLTVEGVEGFVRYSRVTKQHVAAFLKELRHSKQYENVNLIHYILTDKRVDIQHLEKDLVKDFKALVESAHRMRQGHMINVKYILYQLLKKHGHGPDGPDILTVKTGSKGVLYDDSFRKIYTDLGWKFTPL']"
      ]
     },
     "execution_count": 61,
     "metadata": {},
     "output_type": "execute_result"
    }
   ],
   "source": [
    "sample = ds_real.data[idx][:-1].split(\",\"); sample"
   ]
  },
  {
   "cell_type": "code",
   "execution_count": 62,
   "id": "established-spank",
   "metadata": {
    "ExecuteTime": {
     "end_time": "2021-04-18T15:48:31.989234Z",
     "start_time": "2021-04-18T15:48:31.980591Z"
    }
   },
   "outputs": [
    {
     "data": {
      "text/plain": [
       "'001R_FRG3G Reviewed; 256 AA. Q6GZX4; 28-JUN-2011; integrated into UniProtKB/Swiss-Prot. 19-JUL-2004; sequence version 1. 12-AUG-2020; entry version 41. RecName: Full=Putative transcription factor 001R; ORFNames=FV3-001R; Frog virus 3 (isolate Goorha) (FV-3).  Viruses; Varidnaviria; Bamfordvirae; Nucleocytoviricota; Megaviricetes; Pimascovirales; Iridoviridae; Alphairidovirinae; Ranavirus. NCBI_TaxID=654924; NCBI_TaxID=30343; Dryophytes versicolor (chameleon treefrog). NCBI_TaxID=8404; Lithobates pipiens (Northern leopard frog) (Rana pipiens). NCBI_TaxID=45438; Lithobates sylvaticus (Wood frog) (Rana sylvatica). NCBI_TaxID=8316; Notophthalmus viridescens (Eastern newt) (Triturus viridescens). [1] NUCLEOTIDE SEQUENCE [LARGE SCALE GENOMIC DNA].  PubMed=15165820; DOI=10.1016/j.virol.2004.02.019;  Tan W.G.; Barkman T.J.; Gregory Chinchar V.; Essani K.; \"Comparative genomic analyses of frog virus 3; type species of the genus Ranavirus (family Iridoviridae).\"; Virology 323:70-84(2004). -!- FUNCTION: Transcription activation. {ECO:0000305}. EMBL; AY548484; AAT09660.1; -; Genomic_DNA. RefSeq; YP_031579.1; NC_005946.1. SwissPalm; Q6GZX4; -. GeneID; 2947773; -. KEGG; vg:2947773; -. Proteomes; UP000008770; Genome. GO; GO:0046782; P:regulation of viral transcription; IEA:InterPro. InterPro; IPR007031; Poxvirus_VLTF3. Pfam; PF04947; Pox_VLTF3; 1. CHAIN 1..256 /note=\"Putative transcription factor 001R\" /id=\"PRO_0000410512\" COMPBIAS 14..17 /note=\"Poly-Arg\" 4: Predicted; Activator; Reference proteome; Transcription; Transcription regulation. SEQUENCE 256 AA; 29735 MW; B4840739BF7D4121 CRC64;'"
      ]
     },
     "execution_count": 62,
     "metadata": {},
     "output_type": "execute_result"
    }
   ],
   "source": [
    "\" \".join(sample[:-1])"
   ]
  },
  {
   "cell_type": "code",
   "execution_count": 63,
   "id": "dominican-belarus",
   "metadata": {
    "ExecuteTime": {
     "end_time": "2021-04-18T15:48:32.564675Z",
     "start_time": "2021-04-18T15:48:32.556251Z"
    }
   },
   "outputs": [
    {
     "data": {
      "text/plain": [
       "'MAFSAEDVLKEYDRRRRMEALLLSLYYPNDRKLLDYKEWSPPRVQVECPKAPVEWNNPPSEKGLIVGHFSGIKYKGEKAQASEVDVNKMCCWVSKFKDAMRRYQGIQTCKIPGKVLSDLDAKIKAYNLTVEGVEGFVRYSRVTKQHVAAFLKELRHSKQYENVNLIHYILTDKRVDIQHLEKDLVKDFKALVESAHRMRQGHMINVKYILYQLLKKHGHGPDGPDILTVKTGSKGVLYDDSFRKIYTDLGWKFTPL'"
      ]
     },
     "execution_count": 63,
     "metadata": {},
     "output_type": "execute_result"
    }
   ],
   "source": [
    "sample[-1]"
   ]
  },
  {
   "cell_type": "markdown",
   "id": "expensive-polyester",
   "metadata": {},
   "source": [
    "# End"
   ]
  }
 ],
 "metadata": {
  "kernelspec": {
   "display_name": "pytorch1.8.0",
   "language": "python",
   "name": "pytorch1.8.0"
  },
  "language_info": {
   "codemirror_mode": {
    "name": "ipython",
    "version": 3
   },
   "file_extension": ".py",
   "mimetype": "text/x-python",
   "name": "python",
   "nbconvert_exporter": "python",
   "pygments_lexer": "ipython3",
   "version": "3.8.8"
  },
  "toc": {
   "base_numbering": 1,
   "nav_menu": {},
   "number_sections": true,
   "sideBar": true,
   "skip_h1_title": false,
   "title_cell": "Table of Contents",
   "title_sidebar": "Contents",
   "toc_cell": false,
   "toc_position": {
    "height": "calc(100% - 180px)",
    "left": "10px",
    "top": "150px",
    "width": "223px"
   },
   "toc_section_display": true,
   "toc_window_display": true
  }
 },
 "nbformat": 4,
 "nbformat_minor": 5
}
